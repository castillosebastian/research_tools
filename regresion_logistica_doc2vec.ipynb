# regresion_logistica_doc2vec


