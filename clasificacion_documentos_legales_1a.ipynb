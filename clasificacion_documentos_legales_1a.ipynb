{
 "cells": [
  {
   "cell_type": "markdown",
   "metadata": {},
   "source": [
    "# Clasificación Automática de Documentos Legales"
   ]
  },
  {
   "cell_type": "markdown",
   "metadata": {},
   "source": [
    "En este documento exploraremos opciones para la clasificación de documentos legales."
   ]
  },
  {
   "cell_type": "markdown",
   "metadata": {},
   "source": [
    "## Revisión Bibliográfica\n",
    "- Distributed Representatión  of Sentences and Documents, Le-Mikolow [link](https://arxiv.org/pdf/1405.4053.pdf).\n",
    "- DocBERT: BERT for Document Classification, Ashutosh Adhikari, Achyudh Ram, Raphael Tang, and Jimmy Lin, [link](https://arxiv.org/pdf/1904.08398.pdf)\n",
    "- Document Classification with DocBERT, et. Al.  [link](https://web.stanford.edu/class/archive/cs/cs224n/cs224n.1204/reports/custom/report36.pdf)\n",
    "- Legal Document Classification: An Application to Law Area Prediction of Petitions to Public Prosecution Service, Noguti, [link](https://drive.google.com/file/d/1WTiyJm14hC1dLefrDv94KAKqA13komix/view?usp=sharing)\n",
    "- Be More with Less: Hypergraph Attention Networks for Inductive Text Classification, Kaize Ding, [link](https://arxiv.org/pdf/2011.00387.pdf). Trabaja representacione semánticas con hypergráficos. Muy interesante por su capacitadad representacional y potencial semántico.\n",
    "- Long-length Legal Document Classification, Lulu Wan, George Papageorgiou, Michael Seddon, Mirko Bernardoni, [link](https://arxiv.org/pdf/1912.06905.pdf)\n",
    "- Extreme Multi-Label Legal Text Classification: A case study in EU Legislation, Chalkidis et al [link](https://aclanthology.org/W19-2209.pdf)\n"
   ]
  }
 ],
 "metadata": {
  "kernelspec": {
   "display_name": "Python 3",
   "language": "python",
   "name": "python3"
  },
  "language_info": {
   "codemirror_mode": {
    "name": "ipython",
    "version": 3
   },
   "file_extension": ".py",
   "mimetype": "text/x-python",
   "name": "python",
   "nbconvert_exporter": "python",
   "pygments_lexer": "ipython3",
   "version": "3.8.3"
  }
 },
 "nbformat": 4,
 "nbformat_minor": 4
}
