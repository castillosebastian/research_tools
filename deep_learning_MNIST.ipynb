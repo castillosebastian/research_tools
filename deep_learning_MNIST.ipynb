{
  "nbformat": 4,
  "nbformat_minor": 0,
  "metadata": {
    "colab": {
      "name": "deep_learning_MNIST.ipynb",
      "provenance": [],
      "authorship_tag": "ABX9TyON1FcMf5k79xFQDF0H7OSP",
      "include_colab_link": true
    },
    "kernelspec": {
      "name": "python3",
      "display_name": "Python 3"
    },
    "language_info": {
      "name": "python"
    }
  },
  "cells": [
    {
      "cell_type": "markdown",
      "metadata": {
        "id": "view-in-github",
        "colab_type": "text"
      },
      "source": [
        "<a href=\"https://colab.research.google.com/github/castillosebastian/research_tools/blob/master/deep_learning_MNIST.ipynb\" target=\"_parent\"><img src=\"https://colab.research.google.com/assets/colab-badge.svg\" alt=\"Open In Colab\"/></a>"
      ]
    },
    {
      "cell_type": "markdown",
      "metadata": {
        "id": "UqtWnzrYnzPY"
      },
      "source": [
        "Deep learning with MNIST DB"
      ]
    },
    {
      "cell_type": "code",
      "metadata": {
        "id": "V39VP2ZdmF5O"
      },
      "source": [
        "import os\n",
        "import pandas as pd"
      ],
      "execution_count": 4,
      "outputs": []
    }
  ]
}