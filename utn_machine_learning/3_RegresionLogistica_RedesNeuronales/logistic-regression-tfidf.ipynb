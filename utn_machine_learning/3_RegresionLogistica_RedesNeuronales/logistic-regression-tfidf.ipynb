{
 "cells": [
  {
   "cell_type": "code",
   "execution_count": 17,
   "metadata": {
    "_cell_guid": "fd0d94af-8dcd-4258-92fc-d1c304215a9a",
    "_uuid": "d2539467b6d1fa164da8c43825cd30a124eb9c47"
   },
   "outputs": [],
   "source": [
    "import pandas as pd\n",
    "import numpy as np\n",
    "import matplotlib.pyplot as plt\n",
    "import seaborn as sns\n",
    "import gc\n",
    "\n",
    "from sklearn.linear_model import LogisticRegression\n",
    "from sklearn.model_selection import StratifiedKFold\n",
    "from sklearn.feature_extraction.text import CountVectorizer,TfidfVectorizer\n",
    "from sklearn.decomposition import TruncatedSVD\n",
    "from sklearn.metrics import log_loss,confusion_matrix,classification_report,roc_curve,auc\n",
    "\n",
    "import string\n",
    "import nltk\n",
    "from nltk.corpus import stopwords\n",
    "from nltk.tokenize import word_tokenize\n",
    "from scipy import sparse\n",
    "%matplotlib inline\n",
    "seed = 42\n",
    "import os\n",
    "os.environ['OMP_NUM_THREADS'] = '4'\n",
    "import json\n"
   ]
  },
  {
   "cell_type": "code",
   "execution_count": 18,
   "metadata": {
    "collapsed": true
   },
   "outputs": [
    {
     "data": {
      "text/plain": [
       "['2D_2_clases_simple.csv',\n",
       " '2D_6_clases_hard.csv',\n",
       " '2D_circulos.csv',\n",
       " '2D_moons.csv',\n",
       " '2D_not_linear_clases.csv',\n",
       " '2D_unbalanced.csv',\n",
       " 'boston.csv',\n",
       " 'breast_cancer.csv',\n",
       " 'breast_cancer_radius.csv',\n",
       " 'consumo_nafta.csv',\n",
       " 'corpus_fallosmetdat.json',\n",
       " 'corpus_textosfallos.json',\n",
       " 'diabetes.csv',\n",
       " 'iris.csv',\n",
       " 'MNIST.npy',\n",
       " 'MNIST_labels.npy',\n",
       " 'study_regression_small.csv',\n",
       " 'titanic.csv',\n",
       " 'weatherAUS.csv',\n",
       " 'who_life_expectancy.csv',\n",
       " 'winequality-red.csv',\n",
       " 'winequality-white.csv']"
      ]
     },
     "execution_count": 18,
     "metadata": {},
     "output_type": "execute_result"
    }
   ],
   "source": [
    "dd = 'D:/Users/sebastian.castillo/PycharmProjects/research_tools/data/'\n",
    "os.listdir(dd)"
   ]
  },
  {
   "cell_type": "code",
   "execution_count": 24,
   "metadata": {
    "_cell_guid": "7ce644b7-5332-40d7-a827-15f6897be5e8",
    "_uuid": "d1134807fc7b6c604f7fbdd42e0f27e69a834337"
   },
   "outputs": [],
   "source": [
    "#open\n",
    "fpath = dd + 'corpus_textosfallos.json'\n",
    "dpath = dd + 'corpus_fallosmetdat.json'\n",
    "f = open(fpath , encoding=\"utf8\")\n",
    "d = open(dpath , encoding=\"utf8\")\n",
    "fallos = json.load(f)\n",
    "fdatos = json.load(d)\n",
    "#explorar fdatos\n",
    "df = pd.DataFrame(fdatos)"
   ]
  },
  {
   "cell_type": "code",
   "execution_count": 25,
   "metadata": {},
   "outputs": [
    {
     "data": {
      "text/plain": [
       "CIVIL Y COMERCIAL    1645\n",
       "PENAL                1507\n",
       "LABORAL               738\n",
       "Name: materia, dtype: int64"
      ]
     },
     "execution_count": 25,
     "metadata": {},
     "output_type": "execute_result"
    }
   ],
   "source": [
    "# Filtrando bd para trabajar con categorías con observaciones\n",
    "df['materia'].value_counts()\n",
    "df['tipo_fallo'].value_counts()\n",
    "materias_elegidas = ['CIVIL Y COMERCIAL','PENAL','LABORAL']\n",
    "tipo_felegidos = [\"Sentencia Interlocutoria\", 'Sentencia Definitiva']\n",
    "dfxmat = df[df['materia'].notna()]\n",
    "dfxmat = df[df['materia'].isin(materias_elegidas)]\n",
    "dfxmat['materia'].value_counts()"
   ]
  },
  {
   "cell_type": "code",
   "execution_count": 26,
   "metadata": {},
   "outputs": [
    {
     "name": "stdout",
     "output_type": "stream",
     "text": [
      "<class 'pandas.core.frame.DataFrame'>\n",
      "Int64Index: 3890 entries, 0 to 4298\n",
      "Data columns (total 21 columns):\n",
      " #   Column                Non-Null Count  Dtype \n",
      "---  ------                --------------  ----- \n",
      " 0   indice                3890 non-null   int64 \n",
      " 1   textos_raw_len        3890 non-null   int64 \n",
      " 2   materia               3890 non-null   object\n",
      " 3   fecha                 3890 non-null   object\n",
      " 4   tipo_fallo            3890 non-null   object\n",
      " 5   tribunal_emisor       3890 non-null   object\n",
      " 6   id_causa              3890 non-null   object\n",
      " 7   fecha_res             3890 non-null   object\n",
      " 8   nro_reg_int           3890 non-null   object\n",
      " 9   caratula              3890 non-null   object\n",
      " 10  caratula_pub          3890 non-null   object\n",
      " 11  magistrados_votantes  3890 non-null   object\n",
      " 12  tribunal_origen       3890 non-null   object\n",
      " 13  nnf                   3890 non-null   object\n",
      " 14  observ                3890 non-null   object\n",
      " 15  sent_anulada          3890 non-null   object\n",
      " 16  alcance               3063 non-null   object\n",
      " 17  publico               3064 non-null   object\n",
      " 18  iniciales             598 non-null    object\n",
      " 19  reserva_identidad     599 non-null    object\n",
      " 20  observaciones         3890 non-null   object\n",
      "dtypes: int64(2), object(19)\n",
      "memory usage: 668.6+ KB\n"
     ]
    }
   ],
   "source": [
    "dfxmat.info()"
   ]
  },
  {
   "cell_type": "code",
   "execution_count": 31,
   "metadata": {},
   "outputs": [],
   "source": [
    "selec_fallos = dfxmat[['indice']]"
   ]
  },
  {
   "cell_type": "markdown",
   "metadata": {},
   "source": [
    "## Filtrando bd fallos según las materias elegidas"
   ]
  },
  {
   "cell_type": "code",
   "execution_count": 43,
   "metadata": {},
   "outputs": [],
   "source": [
    "bdfallos = pd.DataFrame(fallos)"
   ]
  },
  {
   "cell_type": "code",
   "execution_count": 47,
   "metadata": {},
   "outputs": [
    {
     "ename": "TypeError",
     "evalue": "'(array([ True,  True,  True, ...,  True,  True,  True]), slice(None, None, None))' is an invalid key",
     "output_type": "error",
     "traceback": [
      "\u001b[1;31m---------------------------------------------------------------------------\u001b[0m",
      "\u001b[1;31mTypeError\u001b[0m                                 Traceback (most recent call last)",
      "\u001b[1;32m<ipython-input-47-cf2b39ca0d46>\u001b[0m in \u001b[0;36m<module>\u001b[1;34m\u001b[0m\n\u001b[1;32m----> 1\u001b[1;33m \u001b[0mbdfallos\u001b[0m \u001b[1;33m=\u001b[0m \u001b[0mbdfallos\u001b[0m\u001b[1;33m[\u001b[0m\u001b[0mbdfallos\u001b[0m\u001b[1;33m.\u001b[0m\u001b[0mindex\u001b[0m\u001b[1;33m.\u001b[0m\u001b[0misin\u001b[0m\u001b[1;33m(\u001b[0m\u001b[0mdfxmat\u001b[0m\u001b[1;33m.\u001b[0m\u001b[0mindex\u001b[0m\u001b[1;33m)\u001b[0m\u001b[1;33m,\u001b[0m \u001b[1;33m:\u001b[0m\u001b[1;33m]\u001b[0m\u001b[1;33m\u001b[0m\u001b[1;33m\u001b[0m\u001b[0m\n\u001b[0m",
      "\u001b[1;32m~\\Anaconda3\\lib\\site-packages\\pandas\\core\\frame.py\u001b[0m in \u001b[0;36m__getitem__\u001b[1;34m(self, key)\u001b[0m\n\u001b[0;32m   2798\u001b[0m             \u001b[1;32mif\u001b[0m \u001b[0mself\u001b[0m\u001b[1;33m.\u001b[0m\u001b[0mcolumns\u001b[0m\u001b[1;33m.\u001b[0m\u001b[0mnlevels\u001b[0m \u001b[1;33m>\u001b[0m \u001b[1;36m1\u001b[0m\u001b[1;33m:\u001b[0m\u001b[1;33m\u001b[0m\u001b[1;33m\u001b[0m\u001b[0m\n\u001b[0;32m   2799\u001b[0m                 \u001b[1;32mreturn\u001b[0m \u001b[0mself\u001b[0m\u001b[1;33m.\u001b[0m\u001b[0m_getitem_multilevel\u001b[0m\u001b[1;33m(\u001b[0m\u001b[0mkey\u001b[0m\u001b[1;33m)\u001b[0m\u001b[1;33m\u001b[0m\u001b[1;33m\u001b[0m\u001b[0m\n\u001b[1;32m-> 2800\u001b[1;33m             \u001b[0mindexer\u001b[0m \u001b[1;33m=\u001b[0m \u001b[0mself\u001b[0m\u001b[1;33m.\u001b[0m\u001b[0mcolumns\u001b[0m\u001b[1;33m.\u001b[0m\u001b[0mget_loc\u001b[0m\u001b[1;33m(\u001b[0m\u001b[0mkey\u001b[0m\u001b[1;33m)\u001b[0m\u001b[1;33m\u001b[0m\u001b[1;33m\u001b[0m\u001b[0m\n\u001b[0m\u001b[0;32m   2801\u001b[0m             \u001b[1;32mif\u001b[0m \u001b[0mis_integer\u001b[0m\u001b[1;33m(\u001b[0m\u001b[0mindexer\u001b[0m\u001b[1;33m)\u001b[0m\u001b[1;33m:\u001b[0m\u001b[1;33m\u001b[0m\u001b[1;33m\u001b[0m\u001b[0m\n\u001b[0;32m   2802\u001b[0m                 \u001b[0mindexer\u001b[0m \u001b[1;33m=\u001b[0m \u001b[1;33m[\u001b[0m\u001b[0mindexer\u001b[0m\u001b[1;33m]\u001b[0m\u001b[1;33m\u001b[0m\u001b[1;33m\u001b[0m\u001b[0m\n",
      "\u001b[1;32m~\\Anaconda3\\lib\\site-packages\\pandas\\core\\indexes\\base.py\u001b[0m in \u001b[0;36mget_loc\u001b[1;34m(self, key, method, tolerance)\u001b[0m\n\u001b[0;32m   2644\u001b[0m                 )\n\u001b[0;32m   2645\u001b[0m             \u001b[1;32mtry\u001b[0m\u001b[1;33m:\u001b[0m\u001b[1;33m\u001b[0m\u001b[1;33m\u001b[0m\u001b[0m\n\u001b[1;32m-> 2646\u001b[1;33m                 \u001b[1;32mreturn\u001b[0m \u001b[0mself\u001b[0m\u001b[1;33m.\u001b[0m\u001b[0m_engine\u001b[0m\u001b[1;33m.\u001b[0m\u001b[0mget_loc\u001b[0m\u001b[1;33m(\u001b[0m\u001b[0mkey\u001b[0m\u001b[1;33m)\u001b[0m\u001b[1;33m\u001b[0m\u001b[1;33m\u001b[0m\u001b[0m\n\u001b[0m\u001b[0;32m   2647\u001b[0m             \u001b[1;32mexcept\u001b[0m \u001b[0mKeyError\u001b[0m\u001b[1;33m:\u001b[0m\u001b[1;33m\u001b[0m\u001b[1;33m\u001b[0m\u001b[0m\n\u001b[0;32m   2648\u001b[0m                 \u001b[1;32mreturn\u001b[0m \u001b[0mself\u001b[0m\u001b[1;33m.\u001b[0m\u001b[0m_engine\u001b[0m\u001b[1;33m.\u001b[0m\u001b[0mget_loc\u001b[0m\u001b[1;33m(\u001b[0m\u001b[0mself\u001b[0m\u001b[1;33m.\u001b[0m\u001b[0m_maybe_cast_indexer\u001b[0m\u001b[1;33m(\u001b[0m\u001b[0mkey\u001b[0m\u001b[1;33m)\u001b[0m\u001b[1;33m)\u001b[0m\u001b[1;33m\u001b[0m\u001b[1;33m\u001b[0m\u001b[0m\n",
      "\u001b[1;32mpandas\\_libs\\index.pyx\u001b[0m in \u001b[0;36mpandas._libs.index.IndexEngine.get_loc\u001b[1;34m()\u001b[0m\n",
      "\u001b[1;32mpandas\\_libs\\index.pyx\u001b[0m in \u001b[0;36mpandas._libs.index.IndexEngine.get_loc\u001b[1;34m()\u001b[0m\n",
      "\u001b[1;31mTypeError\u001b[0m: '(array([ True,  True,  True, ...,  True,  True,  True]), slice(None, None, None))' is an invalid key"
     ]
    }
   ],
   "source": [
    "bdfallos = bdfallos[bdfallos.index.isin(dfxmat.index), :]"
   ]
  },
  {
   "cell_type": "code",
   "execution_count": 45,
   "metadata": {},
   "outputs": [
    {
     "name": "stdout",
     "output_type": "stream",
     "text": [
      "<class 'pandas.core.frame.DataFrame'>\n",
      "Int64Index: 3890 entries, 0 to 4298\n",
      "Data columns (total 2 columns):\n",
      " #   Column        Non-Null Count  Dtype \n",
      "---  ------        --------------  ----- \n",
      " 0   indice        3890 non-null   int64 \n",
      " 1   textos_fallo  3890 non-null   object\n",
      "dtypes: int64(1), object(1)\n",
      "memory usage: 91.2+ KB\n"
     ]
    }
   ],
   "source": [
    "bdfallos.info()"
   ]
  },
  {
   "cell_type": "code",
   "execution_count": 42,
   "metadata": {},
   "outputs": [
    {
     "ename": "KeyError",
     "evalue": "1",
     "output_type": "error",
     "traceback": [
      "\u001b[1;31m---------------------------------------------------------------------------\u001b[0m",
      "\u001b[1;31mKeyError\u001b[0m                                  Traceback (most recent call last)",
      "\u001b[1;32m<ipython-input-42-661862243f43>\u001b[0m in \u001b[0;36m<module>\u001b[1;34m\u001b[0m\n\u001b[1;32m----> 1\u001b[1;33m \u001b[0mbdfallos\u001b[0m\u001b[1;33m[\u001b[0m\u001b[1;34m'textos_fallo'\u001b[0m\u001b[1;33m]\u001b[0m\u001b[1;33m[\u001b[0m\u001b[1;36m1\u001b[0m\u001b[1;33m]\u001b[0m\u001b[1;33m\u001b[0m\u001b[1;33m\u001b[0m\u001b[0m\n\u001b[0m",
      "\u001b[1;32m~\\Anaconda3\\lib\\site-packages\\pandas\\core\\series.py\u001b[0m in \u001b[0;36m__getitem__\u001b[1;34m(self, key)\u001b[0m\n\u001b[0;32m    869\u001b[0m         \u001b[0mkey\u001b[0m \u001b[1;33m=\u001b[0m \u001b[0mcom\u001b[0m\u001b[1;33m.\u001b[0m\u001b[0mapply_if_callable\u001b[0m\u001b[1;33m(\u001b[0m\u001b[0mkey\u001b[0m\u001b[1;33m,\u001b[0m \u001b[0mself\u001b[0m\u001b[1;33m)\u001b[0m\u001b[1;33m\u001b[0m\u001b[1;33m\u001b[0m\u001b[0m\n\u001b[0;32m    870\u001b[0m         \u001b[1;32mtry\u001b[0m\u001b[1;33m:\u001b[0m\u001b[1;33m\u001b[0m\u001b[1;33m\u001b[0m\u001b[0m\n\u001b[1;32m--> 871\u001b[1;33m             \u001b[0mresult\u001b[0m \u001b[1;33m=\u001b[0m \u001b[0mself\u001b[0m\u001b[1;33m.\u001b[0m\u001b[0mindex\u001b[0m\u001b[1;33m.\u001b[0m\u001b[0mget_value\u001b[0m\u001b[1;33m(\u001b[0m\u001b[0mself\u001b[0m\u001b[1;33m,\u001b[0m \u001b[0mkey\u001b[0m\u001b[1;33m)\u001b[0m\u001b[1;33m\u001b[0m\u001b[1;33m\u001b[0m\u001b[0m\n\u001b[0m\u001b[0;32m    872\u001b[0m \u001b[1;33m\u001b[0m\u001b[0m\n\u001b[0;32m    873\u001b[0m             \u001b[1;32mif\u001b[0m \u001b[1;32mnot\u001b[0m \u001b[0mis_scalar\u001b[0m\u001b[1;33m(\u001b[0m\u001b[0mresult\u001b[0m\u001b[1;33m)\u001b[0m\u001b[1;33m:\u001b[0m\u001b[1;33m\u001b[0m\u001b[1;33m\u001b[0m\u001b[0m\n",
      "\u001b[1;32m~\\Anaconda3\\lib\\site-packages\\pandas\\core\\indexes\\base.py\u001b[0m in \u001b[0;36mget_value\u001b[1;34m(self, series, key)\u001b[0m\n\u001b[0;32m   4403\u001b[0m         \u001b[0mk\u001b[0m \u001b[1;33m=\u001b[0m \u001b[0mself\u001b[0m\u001b[1;33m.\u001b[0m\u001b[0m_convert_scalar_indexer\u001b[0m\u001b[1;33m(\u001b[0m\u001b[0mk\u001b[0m\u001b[1;33m,\u001b[0m \u001b[0mkind\u001b[0m\u001b[1;33m=\u001b[0m\u001b[1;34m\"getitem\"\u001b[0m\u001b[1;33m)\u001b[0m\u001b[1;33m\u001b[0m\u001b[1;33m\u001b[0m\u001b[0m\n\u001b[0;32m   4404\u001b[0m         \u001b[1;32mtry\u001b[0m\u001b[1;33m:\u001b[0m\u001b[1;33m\u001b[0m\u001b[1;33m\u001b[0m\u001b[0m\n\u001b[1;32m-> 4405\u001b[1;33m             \u001b[1;32mreturn\u001b[0m \u001b[0mself\u001b[0m\u001b[1;33m.\u001b[0m\u001b[0m_engine\u001b[0m\u001b[1;33m.\u001b[0m\u001b[0mget_value\u001b[0m\u001b[1;33m(\u001b[0m\u001b[0ms\u001b[0m\u001b[1;33m,\u001b[0m \u001b[0mk\u001b[0m\u001b[1;33m,\u001b[0m \u001b[0mtz\u001b[0m\u001b[1;33m=\u001b[0m\u001b[0mgetattr\u001b[0m\u001b[1;33m(\u001b[0m\u001b[0mseries\u001b[0m\u001b[1;33m.\u001b[0m\u001b[0mdtype\u001b[0m\u001b[1;33m,\u001b[0m \u001b[1;34m\"tz\"\u001b[0m\u001b[1;33m,\u001b[0m \u001b[1;32mNone\u001b[0m\u001b[1;33m)\u001b[0m\u001b[1;33m)\u001b[0m\u001b[1;33m\u001b[0m\u001b[1;33m\u001b[0m\u001b[0m\n\u001b[0m\u001b[0;32m   4406\u001b[0m         \u001b[1;32mexcept\u001b[0m \u001b[0mKeyError\u001b[0m \u001b[1;32mas\u001b[0m \u001b[0me1\u001b[0m\u001b[1;33m:\u001b[0m\u001b[1;33m\u001b[0m\u001b[1;33m\u001b[0m\u001b[0m\n\u001b[0;32m   4407\u001b[0m             \u001b[1;32mif\u001b[0m \u001b[0mlen\u001b[0m\u001b[1;33m(\u001b[0m\u001b[0mself\u001b[0m\u001b[1;33m)\u001b[0m \u001b[1;33m>\u001b[0m \u001b[1;36m0\u001b[0m \u001b[1;32mand\u001b[0m \u001b[1;33m(\u001b[0m\u001b[0mself\u001b[0m\u001b[1;33m.\u001b[0m\u001b[0mholds_integer\u001b[0m\u001b[1;33m(\u001b[0m\u001b[1;33m)\u001b[0m \u001b[1;32mor\u001b[0m \u001b[0mself\u001b[0m\u001b[1;33m.\u001b[0m\u001b[0mis_boolean\u001b[0m\u001b[1;33m(\u001b[0m\u001b[1;33m)\u001b[0m\u001b[1;33m)\u001b[0m\u001b[1;33m:\u001b[0m\u001b[1;33m\u001b[0m\u001b[1;33m\u001b[0m\u001b[0m\n",
      "\u001b[1;32mpandas\\_libs\\index.pyx\u001b[0m in \u001b[0;36mpandas._libs.index.IndexEngine.get_value\u001b[1;34m()\u001b[0m\n",
      "\u001b[1;32mpandas\\_libs\\index.pyx\u001b[0m in \u001b[0;36mpandas._libs.index.IndexEngine.get_value\u001b[1;34m()\u001b[0m\n",
      "\u001b[1;32mpandas\\_libs\\index.pyx\u001b[0m in \u001b[0;36mpandas._libs.index.IndexEngine.get_loc\u001b[1;34m()\u001b[0m\n",
      "\u001b[1;32mpandas\\_libs\\hashtable_class_helper.pxi\u001b[0m in \u001b[0;36mpandas._libs.hashtable.Int64HashTable.get_item\u001b[1;34m()\u001b[0m\n",
      "\u001b[1;32mpandas\\_libs\\hashtable_class_helper.pxi\u001b[0m in \u001b[0;36mpandas._libs.hashtable.Int64HashTable.get_item\u001b[1;34m()\u001b[0m\n",
      "\u001b[1;31mKeyError\u001b[0m: 1"
     ]
    }
   ],
   "source": [
    "bdfallos['textos_fallo'][1]"
   ]
  },
  {
   "cell_type": "code",
   "execution_count": null,
   "metadata": {},
   "outputs": [],
   "source": []
  },
  {
   "cell_type": "code",
   "execution_count": null,
   "metadata": {},
   "outputs": [],
   "source": []
  },
  {
   "cell_type": "markdown",
   "metadata": {
    "_cell_guid": "a5e602da-066e-43fb-91db-a4d82d1c1f62",
    "_uuid": "032e7b13a31d69671e2717b92106e1863acb2753"
   },
   "source": [
    "## Missing value"
   ]
  },
  {
   "cell_type": "code",
   "execution_count": null,
   "metadata": {
    "_cell_guid": "165e27b1-1c85-4b28-a208-7c5fc62e7d74",
    "_uuid": "92323d9f1b9ef78ecbd90d0df21258402b7a620e"
   },
   "outputs": [],
   "source": [
    "k = pd.DataFrame()\n",
    "k['train'] = train.isnull().sum()\n",
    "k['test'] = test.isnull().sum()\n",
    "k"
   ]
  },
  {
   "cell_type": "code",
   "execution_count": null,
   "metadata": {
    "_cell_guid": "c98cd174-206c-4e72-ab3d-b623da4a8104",
    "_uuid": "355069643d5ece73c1e9c33e81fe9597cc22da60"
   },
   "outputs": [],
   "source": [
    "test[test['comment_text'].isnull()]"
   ]
  },
  {
   "cell_type": "code",
   "execution_count": null,
   "metadata": {
    "_cell_guid": "4d25365e-ef74-4599-a3cb-817d463ad579",
    "_uuid": "efa95d3ee5633a49e412e18d5034dfcd0281c08b"
   },
   "outputs": [],
   "source": [
    "test.fillna(' ',inplace=True)\n",
    "gc.collect()"
   ]
  },
  {
   "cell_type": "markdown",
   "metadata": {
    "_cell_guid": "3a73e542-178e-4b3e-ad8c-87e9dc659762",
    "_uuid": "2daff7626ba426dbfa0172b6c3a4351af27cd4e9"
   },
   "source": [
    "## Text preprosesing\n",
    "\n",
    "[source: ](https://www.kaggle.com/him4318/easy-and-fast-lb-044) \n",
    "\n",
    "Term Frequency Inverse Document  Frequency Vectorizer "
   ]
  },
  {
   "cell_type": "code",
   "execution_count": null,
   "metadata": {
    "_cell_guid": "93502afb-68c7-4cc2-ad03-f71d2b2cbf2a",
    "_uuid": "3d1747c73d3c67c93eb4e7e81de4400276f0580c"
   },
   "outputs": [],
   "source": [
    "vect_word = TfidfVectorizer(max_features=20000, lowercase=True, analyzer='word',\n",
    "                        stop_words= 'english',ngram_range=(1,3),dtype=np.float32)\n",
    "vect_char = TfidfVectorizer(max_features=40000, lowercase=True, analyzer='char',\n",
    "                        stop_words= 'english',ngram_range=(3,6),dtype=np.float32)"
   ]
  },
  {
   "cell_type": "code",
   "execution_count": null,
   "metadata": {
    "_cell_guid": "a72962ea-4082-4ba4-b2b5-fe7be9e0b1d7",
    "_uuid": "230a91ee6de4d0afe8fa32bbdf411e3301d949b1"
   },
   "outputs": [],
   "source": [
    "# Word ngram vector\n",
    "tr_vect = vect_word.fit_transform(train['comment_text'])\n",
    "ts_vect = vect_word.transform(test['comment_text'])\n",
    "\n",
    "# Character n gram vector\n",
    "tr_vect_char = vect_char.fit_transform(train['comment_text'])\n",
    "ts_vect_char = vect_char.transform(test['comment_text'])\n",
    "gc.collect()"
   ]
  },
  {
   "cell_type": "code",
   "execution_count": null,
   "metadata": {
    "_cell_guid": "56c93d52-fb77-4a1b-89f7-54674e452f0d",
    "_uuid": "87eda9a9e9aaad4f7693b3bd2ed91c8d50565521"
   },
   "outputs": [],
   "source": [
    "X = sparse.hstack([tr_vect, tr_vect_char])\n",
    "x_test = sparse.hstack([ts_vect, ts_vect_char])"
   ]
  },
  {
   "cell_type": "code",
   "execution_count": null,
   "metadata": {
    "_cell_guid": "9a6b672c-b070-48b4-b800-852a864dd3f5",
    "_uuid": "dfa4c4479d61a825498c918cb615adf6cf4830fd"
   },
   "outputs": [],
   "source": [
    "target_col = ['toxic', 'severe_toxic', 'obscene', 'threat','insult', 'identity_hate']\n",
    "y = train[target_col]\n",
    "del tr_vect, ts_vect, tr_vect_char, ts_vect_char\n",
    "gc.collect()"
   ]
  },
  {
   "cell_type": "markdown",
   "metadata": {
    "_cell_guid": "fab7e57c-fa64-4540-a53e-085f849d42ca",
    "_uuid": "b15c44a583628a0a72036536e8a5fdb67273a4ae"
   },
   "source": [
    "## Model"
   ]
  },
  {
   "cell_type": "code",
   "execution_count": null,
   "metadata": {
    "_cell_guid": "7f5b18c2-6775-4493-ae4b-d7a2456dbdd2",
    "_uuid": "39da8aecea6496cadd1aa2133431cceb440b390c"
   },
   "outputs": [],
   "source": [
    "prd = np.zeros((x_test.shape[0],y.shape[1]))\n",
    "cv_score =[]\n",
    "for i,col in enumerate(target_col):\n",
    "    lr = LogisticRegression(C=2,random_state = i,class_weight = 'balanced')\n",
    "    print('Building {} model for column:{''}'.format(i,col)) \n",
    "    lr.fit(X,y[col])\n",
    "    #cv_score.append(lr.score)\n",
    "    prd[:,i] = lr.predict_proba(x_test)[:,1]"
   ]
  },
  {
   "cell_type": "markdown",
   "metadata": {
    "_cell_guid": "af4396a7-ee5f-425a-8b54-e3dfe97c1201",
    "_uuid": "b02bb4fd7a63a9668b0b50c415b416b23205d904"
   },
   "source": [
    "## Model Validation on train data set"
   ]
  },
  {
   "cell_type": "code",
   "execution_count": null,
   "metadata": {
    "_cell_guid": "5bf2a61b-6477-4428-a453-5916bbc35603",
    "_uuid": "f7f5a032524eb3c9fc627d0b5877f2f263e8bbb4"
   },
   "outputs": [],
   "source": [
    "col = 'identity_hate'\n",
    "print(\"Column:\",col)\n",
    "pred =  lr.predict(X)\n",
    "print('\\nConfusion matrix\\n',confusion_matrix(y[col],pred))\n",
    "print(classification_report(y[col],pred))"
   ]
  },
  {
   "cell_type": "markdown",
   "metadata": {
    "_cell_guid": "4c33c7e1-039a-4586-8c4a-7c68b97f1933",
    "_uuid": "ff7625ec8cd1ac7894bc43ee85e123625e0845b5"
   },
   "source": [
    "## Roc AUC curve"
   ]
  },
  {
   "cell_type": "code",
   "execution_count": null,
   "metadata": {
    "_cell_guid": "11e510ce-c07d-4898-9ef6-f19c7a0254c2",
    "_uuid": "14a1081362117ab9db8ef81da4508f06cbe1e7f0"
   },
   "outputs": [],
   "source": [
    "col = 'identity_hate'\n",
    "print(\"Column:\",col)\n",
    "pred_pro = lr.predict_proba(X)[:,1]\n",
    "frp,trp,thres = roc_curve(y[col],pred_pro)\n",
    "auc_val =auc(frp,trp)\n",
    "plt.figure(figsize=(14,10))\n",
    "plt.plot([0,1],[0,1],color='b')\n",
    "plt.plot(frp,trp,color='r',label= 'AUC = %.2f'%auc_val)\n",
    "plt.legend(loc='lower right')\n",
    "plt.xlabel('True positive rate')\n",
    "plt.ylabel('False positive rate')\n",
    "plt.title('Reciever Operating Characteristic')"
   ]
  },
  {
   "cell_type": "markdown",
   "metadata": {
    "_cell_guid": "5e5d591c-bba8-4636-bf65-06d93107efd7",
    "_uuid": "4babbffa24698d42422ec9c08818d473c0ae0f49"
   },
   "source": [
    "## submission"
   ]
  },
  {
   "cell_type": "code",
   "execution_count": null,
   "metadata": {
    "_cell_guid": "33a6f848-f31c-48ca-82ba-eaad8e0b0a0c",
    "_uuid": "25376bc0b013b47f42aabb322986f4443e932689"
   },
   "outputs": [],
   "source": [
    "prd_1 = pd.DataFrame(prd,columns=y.columns)\n",
    "submit = pd.concat([test['id'],prd_1],axis=1)\n",
    "#submit.to_csv('toxic_lr.csv.gz',compression='gzip',index=False)\n",
    "submit.to_csv('toxic_lr.csv',index=False)\n",
    "submit.head()"
   ]
  }
 ],
 "metadata": {
  "kernelspec": {
   "display_name": "Python 3",
   "language": "python",
   "name": "python3"
  },
  "language_info": {
   "codemirror_mode": {
    "name": "ipython",
    "version": 3
   },
   "file_extension": ".py",
   "mimetype": "text/x-python",
   "name": "python",
   "nbconvert_exporter": "python",
   "pygments_lexer": "ipython3",
   "version": "3.8.3"
  }
 },
 "nbformat": 4,
 "nbformat_minor": 1
}
