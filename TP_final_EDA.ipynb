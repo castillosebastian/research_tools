{
 "cells": [
  {
   "cell_type": "markdown",
   "metadata": {},
   "source": [
    "# TP Final - Exploratory Analyse"
   ]
  },
  {
   "cell_type": "code",
   "execution_count": 33,
   "metadata": {},
   "outputs": [],
   "source": [
    "# data wrangling\n",
    "import pandas as pd\n",
    "import numpy as np\n",
    "import os\n",
    "import nltk\n",
    "\n",
    "# data visualization\n",
    "import matplotlib.pyplot as plt\n",
    "import seaborn as sns\n",
    "\n",
    "# machine learning\n",
    "from sklearn.preprocessing import StandardScaler\n",
    "\n",
    "import sklearn.linear_model as skl_lm\n",
    "from sklearn import preprocessing\n",
    "from sklearn import neighbors\n",
    "from sklearn.metrics import confusion_matrix, classification_report, precision_score\n",
    "from sklearn.model_selection import train_test_split\n",
    "import statsmodels.api as sm\n",
    "import statsmodels.formula.api as smf\n",
    "\n",
    "# initialize some package settings\n",
    "sns.set(style=\"whitegrid\", color_codes=True, font_scale=1.3)\n",
    "%matplotlib inline\n"
   ]
  },
  {
   "cell_type": "code",
   "execution_count": 7,
   "metadata": {},
   "outputs": [
    {
     "name": "stderr",
     "output_type": "stream",
     "text": [
      "/home/sebacastillo/anaconda3/lib/python3.8/site-packages/IPython/core/interactiveshell.py:3441: DtypeWarning: Columns (5,6,7,9,15,16) have mixed types.Specify dtype option on import or set low_memory=False.\n",
      "  exec(code_obj, self.user_global_ns, self.user_ns)\n"
     ]
    }
   ],
   "source": [
    "datadir = '/home/sebacastillo/research_tools/data/'\n",
    "db_name= 'Libro1.csv' # evaluar con otros data\n",
    "df= pd.read_csv(datadir + db_name, sep=';', skiprows=4, encoding='windows-1254')\n",
    "df.columns = df.columns.str.replace(' ','_')\n"
   ]
  },
  {
   "cell_type": "code",
   "execution_count": 8,
   "metadata": {},
   "outputs": [
    {
     "data": {
      "text/plain": [
       "(4372, 223)"
      ]
     },
     "execution_count": 8,
     "metadata": {},
     "output_type": "execute_result"
    }
   ],
   "source": [
    "df.shape"
   ]
  },
  {
   "cell_type": "markdown",
   "metadata": {},
   "source": [
    "El data set tiene elevado número de columnas. Vamos a tratar de bajar esta dim."
   ]
  },
  {
   "cell_type": "code",
   "execution_count": 22,
   "metadata": {},
   "outputs": [],
   "source": [
    "columnas = df.columns"
   ]
  },
  {
   "cell_type": "code",
   "execution_count": 23,
   "metadata": {},
   "outputs": [
    {
     "name": "stdout",
     "output_type": "stream",
     "text": [
      "_RANGE_\n",
      "_TYPE_\n",
      "_SIZE_\n",
      "_reorder_buyer_\n",
      "_CODE_\n",
      "Condition\n",
      "Status\n",
      "ABC\n",
      "stock_group\n",
      "LAST_BUY_PRICE_\n",
      "ON_HAND\n",
      "ALLOCATED_\n",
      "ON_ORDER\n",
      "BACK_ORD\n",
      "IN_TRANSIT\n",
      "SUPPLIER\n",
      "SUPP\n",
      "10\n",
      "9\n",
      "8\n",
      "7\n",
      "6\n",
      "5\n",
      "4\n",
      "_Avg_Sales_3_months_\n",
      "_Avg_Sales_6_Months_\n",
      "_Sales_Average_\n",
      "_Average_Sales_for_\"0\"_\n",
      "_Avg_vs_Fcst_\n",
      "_Sales__Avg_\n",
      "_Sales_Avg_last_5_mths_\n",
      "_Sales_Avg_Location_\n",
      "_Written_sales_10_\n",
      "Written_sales_9\n",
      "Written_sales_8\n",
      "Written_sales_7\n",
      "Written_sales_6\n",
      "Written_sales_5\n",
      "Written_sales_4\n",
      "Written_sales_3\n",
      "Written_sales_2\n",
      "_SF_10_\n",
      "_SF_11_\n",
      "_SF_12_\n",
      "_SF_1_\n",
      "_SF_2_\n",
      "_SF_3_\n",
      "Stock_avail_at_WH_in_units\n",
      "Stock_avail_at_Stores_in_units\n",
      "Stock_+_PO_position_in_units\n",
      "_Stock_position_in_mths_\n",
      "_Min_Stock_Level_in_mths_\n",
      "_Safety_Stock_in_mths_\n",
      "_SOH_Position_\n",
      "_Lead-times_in_mths_\n",
      "_Pack_size_\n",
      "_MOQ_\n",
      "_Order_QTY_to_Confirm_\n",
      "Floor_Stock\n",
      "_Qty_to_Order__\n",
      "_Order_Volume_\n",
      "_months_after_order_\n",
      "_months_after_order_with_stores_\n",
      "_Cubic_Mtrs_\n",
      "_Item_Weight_\n",
      "_Order_Weight_\n",
      "_Order_$_value_\n",
      "_on_hand_Value_\n",
      "_On_Hand_+_orders_\n",
      "_On_order_Value_\n",
      "_WH_Cubs_Required__\n",
      "_ON_ORDER_+_TRANSIT_\n",
      "_Stock_after_allocated_&_BO_\n",
      "_Avail+Transit_\n",
      "10.1\n",
      "11\n",
      "12\n",
      "1\n",
      "2\n",
      "3\n",
      "Stk_10\n",
      "Stk_11\n",
      "Stk_12\n",
      "Stk_1\n",
      "Stk_2\n",
      "Stk_3\n",
      "Stk_Available_month\n",
      "Stk_month_Stk_10\n",
      "Stk_month_Stk_11\n",
      "Stk_month_Stk_12\n",
      "Stk_month_Stk_1\n",
      "Stk_month_Stk_2\n",
      "Stk_month_Stk_3\n",
      "ON_HAND.1\n",
      "ALLOCATED_.1\n",
      "ON_ORDER.1\n",
      "BACK_ORD.1\n",
      "IN_TRANSIT.1\n",
      "Container\n",
      "_Written_sales_10_.1\n",
      "_Written_sales_9_\n",
      "_Written_sales_8_\n",
      "_Written_sales_7_\n",
      "_Written_sales_6_\n",
      "_Written_sales_5_\n",
      "_Written_sales_4_\n",
      "av_sales\n",
      "Stock_available_(Months)\n",
      "Stock_Available_+_In_Transit_(Months)\n",
      "Stock_Available_+_In_Transit_(Units)\n",
      "position_with_orders_(Months)\n",
      "position_with_orders_(Units)\n",
      "position_after_new_order_(months)\n",
      "New_order_QLD_1st\n",
      "QLD_Idea_New_order\n",
      "Brisbane_Final_New_order\n",
      "order_CBM\n",
      "order_USD\n",
      "New_order_QLD_2nd\n",
      "ON_HAND.2\n",
      "ALLOCATED_.2\n",
      "ON_ORDER.2\n",
      "BACK_ORD.2\n",
      "IN_TRANSIT.2\n",
      "_Written_sales_10_.2\n",
      "_Written_sales_9_.1\n",
      "_Written_sales_8_.1\n",
      "_Written_sales_7_.1\n",
      "_Written_sales_6_.1\n",
      "_Written_sales_5_.1\n",
      "_Written_sales_4_.1\n",
      "av_sales.1\n",
      "Stock_available_(Months).1\n",
      "Stock_Available_+_In_Transit_(Months).1\n",
      "Stock_Available_+_In_Transit_(Units).1\n",
      "position_with_orders_(Months).1\n",
      "position_with_orders_(Units).1\n",
      "position_after_new_order_(months).1\n",
      "New_order_VIC_1st\n",
      "VIC_Idea_New_order\n",
      "Melbourne_Final_New_order\n",
      "order_CBM.1\n",
      "order_USD.1\n",
      "New_order_VIC_2nd\n",
      "ON_HAND.3\n",
      "ALLOCATED_.3\n",
      "ON_ORDER.3\n",
      "BACK_ORD.3\n",
      "IN_TRANSIT.3\n",
      "Container.1\n",
      "_Written_sales_10_.3\n",
      "_Written_sales_9_.2\n",
      "_Written_sales_8_.2\n",
      "_Written_sales_7_.2\n",
      "_Written_sales_6_.2\n",
      "_Written_sales_5_.2\n",
      "_Written_sales_4_.2\n",
      "av_sales.2\n",
      "Stock_available_(Months).2\n",
      "Stock_Available_+_In_Transit_(Months).2\n",
      "Stock_Available_+_In_Transit_(Units).2\n",
      "position_with_orders_(Months).2\n",
      "position_with_orders_(Units).2\n",
      "position_after_new_order_(months).2\n",
      "New_order_NSW\n",
      "Ideal_Total_New_order\n",
      "NSW_Idea_New_order\n",
      "Sydney_Final_New_order\n",
      "order_CBM.2\n",
      "order_USD.2\n",
      "SOH_U$D\n",
      "Orders_in_transit_U$D\n",
      "PO_U$D_10\n",
      "PO_U$D_11\n",
      "PO_U$D_12\n",
      "PO_U$D_1\n",
      "PO_U$D_2\n",
      "10.2\n",
      "11.1\n",
      "12.1\n",
      "1.1\n",
      "2.1\n",
      "3.1\n",
      "_USD_9_\n",
      "_USD_8_\n",
      "_USD_7_\n",
      "_USD_6_\n",
      "_USD_5_\n",
      "_USD_4_\n",
      "_Written_sales__\n",
      "Written_sales_\n",
      "Written_sales_.1\n",
      "Written_sales_.2\n",
      "Written_sales_.3\n",
      "Written_sales_.4\n",
      "Slats\n",
      "Slats_$\n",
      "PENRITH__(YES/NO)\n",
      "QLD_SALES\n",
      "VICTORIA_SALES\n",
      "SYDNEY_________SALES\n",
      "QLD_SALES.1\n",
      "VICTORIA_SALES.1\n",
      "SYDNEY_SALES\n",
      "QLD__________SOH\n",
      "VICTORIA_SOH\n",
      "SYDNEY_________SOH\n",
      "QLD_+TRANS\n",
      "VICTORIA_+TRANS\n",
      "SYDNEY__+TRANS\n",
      "Total_SALES\n",
      "Total_SALES_Unc\n",
      "Total_SOH\n",
      "Total_TRANS\n",
      "Total_Allocated\n",
      "On_order\n",
      "Total_SALES.1\n",
      "Total_SALES_Unc.1\n",
      "Total_SOH.1\n",
      "Total_TRANS.1\n",
      "Total_Allocated.1\n",
      "On_order.1\n",
      "Unnamed:_222\n"
     ]
    }
   ],
   "source": [
    "for i in columnas:\n",
    "    print(i)"
   ]
  },
  {
   "cell_type": "markdown",
   "metadata": {},
   "source": [
    "Vamos a eliminar columnas según ciertos patrones: _Written_sales_*, - Written_sales*, - _USD* y [numbers] '?Written_sal*|*USD*|\\\\d'"
   ]
  },
  {
   "cell_type": "code",
   "execution_count": 29,
   "metadata": {},
   "outputs": [
    {
     "data": {
      "text/plain": [
       "(4372, 90)"
      ]
     },
     "execution_count": 29,
     "metadata": {},
     "output_type": "execute_result"
    }
   ],
   "source": [
    "df = df.loc[:,~df.columns.str.contains('\\\\d', case=False, regex=True)] \n",
    "df.shape"
   ]
  },
  {
   "cell_type": "code",
   "execution_count": 30,
   "metadata": {},
   "outputs": [
    {
     "data": {
      "text/plain": [
       "Index(['_RANGE_', '_TYPE_', '_SIZE_', '_reorder_buyer_', '_CODE_', 'Condition',\n",
       "       'Status', 'ABC', 'stock_group', 'LAST_BUY_PRICE_', 'ON_HAND',\n",
       "       'ALLOCATED_', 'ON_ORDER', 'BACK_ORD', 'IN_TRANSIT', 'SUPPLIER', 'SUPP',\n",
       "       '_Sales_Average_', '_Avg_vs_Fcst_', '_Sales__Avg_',\n",
       "       '_Sales_Avg_Location_', 'Stock_avail_at_WH_in_units',\n",
       "       'Stock_avail_at_Stores_in_units', 'Stock_+_PO_position_in_units',\n",
       "       '_Stock_position_in_mths_', '_Min_Stock_Level_in_mths_',\n",
       "       '_Safety_Stock_in_mths_', '_SOH_Position_', '_Lead-times_in_mths_',\n",
       "       '_Pack_size_', '_MOQ_', '_Order_QTY_to_Confirm_', 'Floor_Stock',\n",
       "       '_Qty_to_Order__', '_Order_Volume_', '_months_after_order_',\n",
       "       '_months_after_order_with_stores_', '_Cubic_Mtrs_', '_Item_Weight_',\n",
       "       '_Order_Weight_', '_Order_$_value_', '_on_hand_Value_',\n",
       "       '_On_Hand_+_orders_', '_On_order_Value_', '_WH_Cubs_Required__',\n",
       "       '_ON_ORDER_+_TRANSIT_', '_Stock_after_allocated_&_BO_',\n",
       "       '_Avail+Transit_', 'Stk_Available_month', 'Container', 'av_sales',\n",
       "       'Stock_available_(Months)', 'Stock_Available_+_In_Transit_(Months)',\n",
       "       'Stock_Available_+_In_Transit_(Units)', 'position_with_orders_(Months)',\n",
       "       'position_with_orders_(Units)', 'position_after_new_order_(months)',\n",
       "       'QLD_Idea_New_order', 'Brisbane_Final_New_order', 'order_CBM',\n",
       "       'order_USD', 'VIC_Idea_New_order', 'Melbourne_Final_New_order',\n",
       "       'New_order_NSW', 'Ideal_Total_New_order', 'NSW_Idea_New_order',\n",
       "       'Sydney_Final_New_order', 'SOH_U$D', 'Orders_in_transit_U$D',\n",
       "       '_Written_sales__', 'Written_sales_', 'Slats', 'Slats_$',\n",
       "       'PENRITH__(YES/NO)', 'QLD_SALES', 'VICTORIA_SALES',\n",
       "       'SYDNEY_________SALES', 'SYDNEY_SALES', 'QLD__________SOH',\n",
       "       'VICTORIA_SOH', 'SYDNEY_________SOH', 'QLD_+TRANS', 'VICTORIA_+TRANS',\n",
       "       'SYDNEY__+TRANS', 'Total_SALES', 'Total_SALES_Unc', 'Total_SOH',\n",
       "       'Total_TRANS', 'Total_Allocated', 'On_order'],\n",
       "      dtype='object')"
      ]
     },
     "execution_count": 30,
     "metadata": {},
     "output_type": "execute_result"
    }
   ],
   "source": [
    "df.columns"
   ]
  },
  {
   "cell_type": "code",
   "execution_count": 32,
   "metadata": {},
   "outputs": [
    {
     "name": "stdout",
     "output_type": "stream",
     "text": [
      "<class 'pandas.core.frame.DataFrame'>\n",
      "RangeIndex: 4372 entries, 0 to 4371\n",
      "Data columns (total 90 columns):\n",
      " #   Column                                 Non-Null Count  Dtype  \n",
      "---  ------                                 --------------  -----  \n",
      " 0   _RANGE_                                4368 non-null   object \n",
      " 1   _TYPE_                                 4368 non-null   object \n",
      " 2   _SIZE_                                 4368 non-null   object \n",
      " 3   _reorder_buyer_                        4368 non-null   object \n",
      " 4   _CODE_                                 4368 non-null   object \n",
      " 5   Condition                              2270 non-null   object \n",
      " 6   Status                                 4368 non-null   object \n",
      " 7   ABC                                    2785 non-null   object \n",
      " 8   stock_group                            4368 non-null   float64\n",
      " 9   LAST_BUY_PRICE_                        4368 non-null   object \n",
      " 10  ON_HAND                                4368 non-null   float64\n",
      " 11  ALLOCATED_                             4368 non-null   float64\n",
      " 12  ON_ORDER                               4368 non-null   float64\n",
      " 13  BACK_ORD                               4368 non-null   float64\n",
      " 14  IN_TRANSIT                             4368 non-null   float64\n",
      " 15  SUPPLIER                               4368 non-null   object \n",
      " 16  SUPP                                   4368 non-null   object \n",
      " 17  _Sales_Average_                        4368 non-null   object \n",
      " 18  _Avg_vs_Fcst_                          4368 non-null   object \n",
      " 19  _Sales__Avg_                           4368 non-null   object \n",
      " 20  _Sales_Avg_Location_                   4368 non-null   object \n",
      " 21  Stock_avail_at_WH_in_units             4368 non-null   float64\n",
      " 22  Stock_avail_at_Stores_in_units         4368 non-null   float64\n",
      " 23  Stock_+_PO_position_in_units           4368 non-null   float64\n",
      " 24  _Stock_position_in_mths_               4368 non-null   object \n",
      " 25  _Min_Stock_Level_in_mths_              4368 non-null   object \n",
      " 26  _Safety_Stock_in_mths_                 4368 non-null   object \n",
      " 27  _SOH_Position_                         4368 non-null   object \n",
      " 28  _Lead-times_in_mths_                   4368 non-null   object \n",
      " 29  _Pack_size_                            4368 non-null   object \n",
      " 30  _MOQ_                                  4368 non-null   object \n",
      " 31  _Order_QTY_to_Confirm_                 4368 non-null   object \n",
      " 32  Floor_Stock                            4368 non-null   float64\n",
      " 33  _Qty_to_Order__                        4368 non-null   object \n",
      " 34  _Order_Volume_                         4368 non-null   object \n",
      " 35  _months_after_order_                   4368 non-null   object \n",
      " 36  _months_after_order_with_stores_       4368 non-null   object \n",
      " 37  _Cubic_Mtrs_                           4368 non-null   object \n",
      " 38  _Item_Weight_                          4368 non-null   object \n",
      " 39  _Order_Weight_                         4368 non-null   object \n",
      " 40  _Order_$_value_                        4368 non-null   object \n",
      " 41  _on_hand_Value_                        4368 non-null   object \n",
      " 42  _On_Hand_+_orders_                     4368 non-null   object \n",
      " 43  _On_order_Value_                       4368 non-null   object \n",
      " 44  _WH_Cubs_Required__                    4368 non-null   object \n",
      " 45  _ON_ORDER_+_TRANSIT_                   4368 non-null   object \n",
      " 46  _Stock_after_allocated_&_BO_           4368 non-null   float64\n",
      " 47  _Avail+Transit_                        4368 non-null   float64\n",
      " 48  Stk_Available_month                    4368 non-null   object \n",
      " 49  Container                              4368 non-null   float64\n",
      " 50  av_sales                               4368 non-null   object \n",
      " 51  Stock_available_(Months)               4368 non-null   object \n",
      " 52  Stock_Available_+_In_Transit_(Months)  4368 non-null   object \n",
      " 53  Stock_Available_+_In_Transit_(Units)   4368 non-null   object \n",
      " 54  position_with_orders_(Months)          4368 non-null   object \n",
      " 55  position_with_orders_(Units)           4368 non-null   object \n",
      " 56  position_after_new_order_(months)      4368 non-null   object \n",
      " 57  QLD_Idea_New_order                     4368 non-null   object \n",
      " 58  Brisbane_Final_New_order               4368 non-null   object \n",
      " 59  order_CBM                              4368 non-null   object \n",
      " 60  order_USD                              4368 non-null   object \n",
      " 61  VIC_Idea_New_order                     4368 non-null   object \n",
      " 62  Melbourne_Final_New_order              4368 non-null   object \n",
      " 63  New_order_NSW                          4368 non-null   object \n",
      " 64  Ideal_Total_New_order                  4368 non-null   object \n",
      " 65  NSW_Idea_New_order                     4368 non-null   object \n",
      " 66  Sydney_Final_New_order                 4368 non-null   object \n",
      " 67  SOH_U$D                                4368 non-null   object \n",
      " 68  Orders_in_transit_U$D                  4368 non-null   object \n",
      " 69  _Written_sales__                       4368 non-null   object \n",
      " 70  Written_sales_                         4368 non-null   float64\n",
      " 71  Slats                                  4368 non-null   object \n",
      " 72  Slats_$                                4368 non-null   object \n",
      " 73  PENRITH__(YES/NO)                      4368 non-null   float64\n",
      " 74  QLD_SALES                              4368 non-null   object \n",
      " 75  VICTORIA_SALES                         4368 non-null   object \n",
      " 76  SYDNEY_________SALES                   4368 non-null   object \n",
      " 77  SYDNEY_SALES                           4368 non-null   object \n",
      " 78  QLD__________SOH                       4368 non-null   object \n",
      " 79  VICTORIA_SOH                           4368 non-null   object \n",
      " 80  SYDNEY_________SOH                     4368 non-null   object \n",
      " 81  QLD_+TRANS                             4368 non-null   object \n",
      " 82  VICTORIA_+TRANS                        4368 non-null   object \n",
      " 83  SYDNEY__+TRANS                         4368 non-null   object \n",
      " 84  Total_SALES                            4368 non-null   object \n",
      " 85  Total_SALES_Unc                        4368 non-null   object \n",
      " 86  Total_SOH                              4368 non-null   object \n",
      " 87  Total_TRANS                            4368 non-null   object \n",
      " 88  Total_Allocated                        4368 non-null   object \n",
      " 89  On_order                               4368 non-null   object \n",
      "dtypes: float64(15), object(75)\n",
      "memory usage: 3.0+ MB\n"
     ]
    }
   ],
   "source": [
    "df.info()"
   ]
  },
  {
   "cell_type": "code",
   "execution_count": 31,
   "metadata": {},
   "outputs": [
    {
     "data": {
      "text/html": [
       "<div>\n",
       "<style scoped>\n",
       "    .dataframe tbody tr th:only-of-type {\n",
       "        vertical-align: middle;\n",
       "    }\n",
       "\n",
       "    .dataframe tbody tr th {\n",
       "        vertical-align: top;\n",
       "    }\n",
       "\n",
       "    .dataframe thead th {\n",
       "        text-align: right;\n",
       "    }\n",
       "</style>\n",
       "<table border=\"1\" class=\"dataframe\">\n",
       "  <thead>\n",
       "    <tr style=\"text-align: right;\">\n",
       "      <th></th>\n",
       "      <th>stock_group</th>\n",
       "      <th>ON_HAND</th>\n",
       "      <th>ALLOCATED_</th>\n",
       "      <th>ON_ORDER</th>\n",
       "      <th>BACK_ORD</th>\n",
       "      <th>IN_TRANSIT</th>\n",
       "      <th>Stock_avail_at_WH_in_units</th>\n",
       "      <th>Stock_avail_at_Stores_in_units</th>\n",
       "      <th>Stock_+_PO_position_in_units</th>\n",
       "      <th>Floor_Stock</th>\n",
       "      <th>_Stock_after_allocated_&amp;_BO_</th>\n",
       "      <th>_Avail+Transit_</th>\n",
       "      <th>Container</th>\n",
       "      <th>Written_sales_</th>\n",
       "      <th>PENRITH__(YES/NO)</th>\n",
       "    </tr>\n",
       "  </thead>\n",
       "  <tbody>\n",
       "    <tr>\n",
       "      <th>count</th>\n",
       "      <td>4368.000000</td>\n",
       "      <td>4368.000000</td>\n",
       "      <td>4368.000000</td>\n",
       "      <td>4368.000000</td>\n",
       "      <td>4368.000000</td>\n",
       "      <td>4368.000000</td>\n",
       "      <td>4368.000000</td>\n",
       "      <td>4368.0</td>\n",
       "      <td>4368.000000</td>\n",
       "      <td>4368.000000</td>\n",
       "      <td>4368.000000</td>\n",
       "      <td>4368.000000</td>\n",
       "      <td>4368.0</td>\n",
       "      <td>4368.000000</td>\n",
       "      <td>4368.000000</td>\n",
       "    </tr>\n",
       "    <tr>\n",
       "      <th>mean</th>\n",
       "      <td>1892.981227</td>\n",
       "      <td>21.641255</td>\n",
       "      <td>4.318910</td>\n",
       "      <td>20.352335</td>\n",
       "      <td>2.003205</td>\n",
       "      <td>10.131868</td>\n",
       "      <td>15.319139</td>\n",
       "      <td>0.0</td>\n",
       "      <td>45.803342</td>\n",
       "      <td>20.644002</td>\n",
       "      <td>15.319139</td>\n",
       "      <td>25.451236</td>\n",
       "      <td>0.0</td>\n",
       "      <td>0.728480</td>\n",
       "      <td>116.242606</td>\n",
       "    </tr>\n",
       "    <tr>\n",
       "      <th>std</th>\n",
       "      <td>2505.904813</td>\n",
       "      <td>51.062718</td>\n",
       "      <td>12.532447</td>\n",
       "      <td>64.868320</td>\n",
       "      <td>11.199831</td>\n",
       "      <td>42.805545</td>\n",
       "      <td>45.414013</td>\n",
       "      <td>0.0</td>\n",
       "      <td>102.043492</td>\n",
       "      <td>45.542581</td>\n",
       "      <td>45.414013</td>\n",
       "      <td>62.545627</td>\n",
       "      <td>0.0</td>\n",
       "      <td>3.423607</td>\n",
       "      <td>250.409982</td>\n",
       "    </tr>\n",
       "    <tr>\n",
       "      <th>min</th>\n",
       "      <td>0.000000</td>\n",
       "      <td>-1.000000</td>\n",
       "      <td>-2.000000</td>\n",
       "      <td>0.000000</td>\n",
       "      <td>-2.000000</td>\n",
       "      <td>0.000000</td>\n",
       "      <td>-360.000000</td>\n",
       "      <td>0.0</td>\n",
       "      <td>-33.000000</td>\n",
       "      <td>-1.000000</td>\n",
       "      <td>-360.000000</td>\n",
       "      <td>-360.000000</td>\n",
       "      <td>0.0</td>\n",
       "      <td>-3.000000</td>\n",
       "      <td>1.000000</td>\n",
       "    </tr>\n",
       "    <tr>\n",
       "      <th>25%</th>\n",
       "      <td>12.000000</td>\n",
       "      <td>0.000000</td>\n",
       "      <td>0.000000</td>\n",
       "      <td>0.000000</td>\n",
       "      <td>0.000000</td>\n",
       "      <td>0.000000</td>\n",
       "      <td>0.000000</td>\n",
       "      <td>0.0</td>\n",
       "      <td>0.000000</td>\n",
       "      <td>0.000000</td>\n",
       "      <td>0.000000</td>\n",
       "      <td>0.000000</td>\n",
       "      <td>0.0</td>\n",
       "      <td>0.000000</td>\n",
       "      <td>2.089750</td>\n",
       "    </tr>\n",
       "    <tr>\n",
       "      <th>50%</th>\n",
       "      <td>45.000000</td>\n",
       "      <td>1.000000</td>\n",
       "      <td>0.000000</td>\n",
       "      <td>0.000000</td>\n",
       "      <td>0.000000</td>\n",
       "      <td>0.000000</td>\n",
       "      <td>0.000000</td>\n",
       "      <td>0.0</td>\n",
       "      <td>1.000000</td>\n",
       "      <td>2.000000</td>\n",
       "      <td>0.000000</td>\n",
       "      <td>0.000000</td>\n",
       "      <td>0.0</td>\n",
       "      <td>0.000000</td>\n",
       "      <td>3.107000</td>\n",
       "    </tr>\n",
       "    <tr>\n",
       "      <th>75%</th>\n",
       "      <td>4008.000000</td>\n",
       "      <td>19.000000</td>\n",
       "      <td>3.000000</td>\n",
       "      <td>5.000000</td>\n",
       "      <td>0.000000</td>\n",
       "      <td>0.000000</td>\n",
       "      <td>12.250000</td>\n",
       "      <td>0.0</td>\n",
       "      <td>48.000000</td>\n",
       "      <td>21.000000</td>\n",
       "      <td>12.250000</td>\n",
       "      <td>23.000000</td>\n",
       "      <td>0.0</td>\n",
       "      <td>0.000000</td>\n",
       "      <td>3.107000</td>\n",
       "    </tr>\n",
       "    <tr>\n",
       "      <th>max</th>\n",
       "      <td>9000.000000</td>\n",
       "      <td>617.000000</td>\n",
       "      <td>318.000000</td>\n",
       "      <td>1088.000000</td>\n",
       "      <td>360.000000</td>\n",
       "      <td>908.000000</td>\n",
       "      <td>562.000000</td>\n",
       "      <td>0.0</td>\n",
       "      <td>1941.000000</td>\n",
       "      <td>522.000000</td>\n",
       "      <td>562.000000</td>\n",
       "      <td>869.000000</td>\n",
       "      <td>0.0</td>\n",
       "      <td>66.000000</td>\n",
       "      <td>999.000000</td>\n",
       "    </tr>\n",
       "  </tbody>\n",
       "</table>\n",
       "</div>"
      ],
      "text/plain": [
       "       stock_group      ON_HAND   ALLOCATED_     ON_ORDER     BACK_ORD  \\\n",
       "count  4368.000000  4368.000000  4368.000000  4368.000000  4368.000000   \n",
       "mean   1892.981227    21.641255     4.318910    20.352335     2.003205   \n",
       "std    2505.904813    51.062718    12.532447    64.868320    11.199831   \n",
       "min       0.000000    -1.000000    -2.000000     0.000000    -2.000000   \n",
       "25%      12.000000     0.000000     0.000000     0.000000     0.000000   \n",
       "50%      45.000000     1.000000     0.000000     0.000000     0.000000   \n",
       "75%    4008.000000    19.000000     3.000000     5.000000     0.000000   \n",
       "max    9000.000000   617.000000   318.000000  1088.000000   360.000000   \n",
       "\n",
       "        IN_TRANSIT  Stock_avail_at_WH_in_units  \\\n",
       "count  4368.000000                 4368.000000   \n",
       "mean     10.131868                   15.319139   \n",
       "std      42.805545                   45.414013   \n",
       "min       0.000000                 -360.000000   \n",
       "25%       0.000000                    0.000000   \n",
       "50%       0.000000                    0.000000   \n",
       "75%       0.000000                   12.250000   \n",
       "max     908.000000                  562.000000   \n",
       "\n",
       "       Stock_avail_at_Stores_in_units  Stock_+_PO_position_in_units  \\\n",
       "count                          4368.0                   4368.000000   \n",
       "mean                              0.0                     45.803342   \n",
       "std                               0.0                    102.043492   \n",
       "min                               0.0                    -33.000000   \n",
       "25%                               0.0                      0.000000   \n",
       "50%                               0.0                      1.000000   \n",
       "75%                               0.0                     48.000000   \n",
       "max                               0.0                   1941.000000   \n",
       "\n",
       "       Floor_Stock  _Stock_after_allocated_&_BO_  _Avail+Transit_  Container  \\\n",
       "count  4368.000000                   4368.000000      4368.000000     4368.0   \n",
       "mean     20.644002                     15.319139        25.451236        0.0   \n",
       "std      45.542581                     45.414013        62.545627        0.0   \n",
       "min      -1.000000                   -360.000000      -360.000000        0.0   \n",
       "25%       0.000000                      0.000000         0.000000        0.0   \n",
       "50%       2.000000                      0.000000         0.000000        0.0   \n",
       "75%      21.000000                     12.250000        23.000000        0.0   \n",
       "max     522.000000                    562.000000       869.000000        0.0   \n",
       "\n",
       "       Written_sales_  PENRITH__(YES/NO)  \n",
       "count     4368.000000        4368.000000  \n",
       "mean         0.728480         116.242606  \n",
       "std          3.423607         250.409982  \n",
       "min         -3.000000           1.000000  \n",
       "25%          0.000000           2.089750  \n",
       "50%          0.000000           3.107000  \n",
       "75%          0.000000           3.107000  \n",
       "max         66.000000         999.000000  "
      ]
     },
     "execution_count": 31,
     "metadata": {},
     "output_type": "execute_result"
    }
   ],
   "source": [
    "df.describe()"
   ]
  },
  {
   "cell_type": "markdown",
   "metadata": {},
   "source": [
    "Algunas columnas no tienen valores, están en blanco, vamos a eliminar"
   ]
  },
  {
   "cell_type": "code",
   "execution_count": 41,
   "metadata": {},
   "outputs": [],
   "source": [
    "df = df.drop(columns=['Stock_avail_at_Stores_in_units', 'Container'])"
   ]
  },
  {
   "cell_type": "markdown",
   "metadata": {},
   "source": [
    "Vamos a eliminar NA"
   ]
  },
  {
   "cell_type": "code",
   "execution_count": 42,
   "metadata": {},
   "outputs": [
    {
     "data": {
      "text/plain": [
       "(1809, 88)"
      ]
     },
     "execution_count": 42,
     "metadata": {},
     "output_type": "execute_result"
    }
   ],
   "source": [
    "df.shape"
   ]
  },
  {
   "cell_type": "code",
   "execution_count": 43,
   "metadata": {},
   "outputs": [],
   "source": [
    "df = df.dropna()"
   ]
  },
  {
   "cell_type": "code",
   "execution_count": 89,
   "metadata": {},
   "outputs": [
    {
     "data": {
      "text/plain": [
       "(1809, 88)"
      ]
     },
     "execution_count": 89,
     "metadata": {},
     "output_type": "execute_result"
    }
   ],
   "source": [
    "df.shape"
   ]
  },
  {
   "cell_type": "markdown",
   "metadata": {},
   "source": [
    "Vamos a graficar los datos para ver correlaciones."
   ]
  },
  {
   "cell_type": "code",
   "execution_count": 45,
   "metadata": {},
   "outputs": [
    {
     "data": {
      "image/png": "[encoded data removed]",
      "text/plain": [
       "<Figure size 1440x1440 with 2 Axes>"
      ]
     },
     "metadata": {
      "needs_background": "light"
     },
     "output_type": "display_data"
    }
   ],
   "source": [
    "# Generate and visualize the correlation matrix\n",
    "corr = df.corr().round(2)\n",
    "\n",
    "# Mask for the upper triangle\n",
    "mask = np.zeros_like(corr, dtype=bool)\n",
    "mask[np.triu_indices_from(mask)] = True\n",
    "\n",
    "# Set figure size\n",
    "f, ax = plt.subplots(figsize=(20, 20))\n",
    "\n",
    "# Define custom colormap\n",
    "cmap = sns.diverging_palette(220, 10, as_cmap=True)\n",
    "\n",
    "# Draw the heatmap\n",
    "sns.heatmap(corr, mask=mask, cmap=cmap, vmin=-1, vmax=1, center=0,\n",
    "            square=True, linewidths=.5, cbar_kws={\"shrink\": .5}, annot=True)\n",
    "\n",
    "plt.tight_layout()"
   ]
  },
  {
   "cell_type": "markdown",
   "metadata": {},
   "source": [
    "# 1er intento de ordenar datos via K-mean clustering"
   ]
  },
  {
   "cell_type": "code",
   "execution_count": 47,
   "metadata": {},
   "outputs": [],
   "source": [
    "from sklearn.cluster import KMeans\n",
    "import AA_utils \n",
    "from sklearn.metrics import  silhouette_score\n",
    "from sklearn.preprocessing import MinMaxScaler"
   ]
  },
  {
   "cell_type": "markdown",
   "metadata": {},
   "source": [
    "Nos quedamos con los atributos numéricos"
   ]
  },
  {
   "cell_type": "code",
   "execution_count": 121,
   "metadata": {},
   "outputs": [],
   "source": [
    "df_numeric = df.select_dtypes(include=np.number)"
   ]
  },
  {
   "cell_type": "code",
   "execution_count": 122,
   "metadata": {},
   "outputs": [
    {
     "data": {
      "text/plain": [
       "(1809, 13)"
      ]
     },
     "execution_count": 122,
     "metadata": {},
     "output_type": "execute_result"
    }
   ],
   "source": [
    "df_numeric.shape"
   ]
  },
  {
   "cell_type": "markdown",
   "metadata": {},
   "source": [
    "Extraemos las columnas para luego reponer en nuestro data set clasificado"
   ]
  },
  {
   "cell_type": "code",
   "execution_count": 123,
   "metadata": {},
   "outputs": [],
   "source": [
    "features = df_numeric.columns.values"
   ]
  },
  {
   "cell_type": "code",
   "execution_count": 124,
   "metadata": {},
   "outputs": [],
   "source": [
    "# Normalización\n",
    "scaler = MinMaxScaler()\n",
    "df_numeric = scaler.fit_transform(df_numeric)"
   ]
  },
  {
   "cell_type": "markdown",
   "metadata": {},
   "source": [
    "Vemos clusters óptimos"
   ]
  },
  {
   "cell_type": "code",
   "execution_count": 125,
   "metadata": {},
   "outputs": [
    {
     "data": {
      "image/png": "[encoded data removed]",
      "text/plain": [
       "<Figure size 432x288 with 1 Axes>"
      ]
     },
     "metadata": {
      "needs_background": "light"
     },
     "output_type": "display_data"
    },
    {
     "data": {
      "image/png": "[encoded data removed]",
      "text/plain": [
       "<Figure size 432x288 with 1 Axes>"
      ]
     },
     "metadata": {
      "needs_background": "light"
     },
     "output_type": "display_data"
    },
    {
     "data": {
      "image/png": "[encoded data removed]",
      "text/plain": [
       "<Figure size 432x288 with 1 Axes>"
      ]
     },
     "metadata": {
      "needs_background": "light"
     },
     "output_type": "display_data"
    },
    {
     "data": {
      "image/png": "[encoded data removed]",
      "text/plain": [
       "<Figure size 432x288 with 1 Axes>"
      ]
     },
     "metadata": {
      "needs_background": "light"
     },
     "output_type": "display_data"
    }
   ],
   "source": [
    "#%% visualizar curva elbow y silhouette\n",
    "AA_utils.graficar_punto_elbow(df_numeric, 10)\n",
    "AA_utils.graficar_indice_silhouette(df_numeric, 10)"
   ]
  },
  {
   "cell_type": "code",
   "execution_count": 126,
   "metadata": {},
   "outputs": [
    {
     "name": "stdout",
     "output_type": "stream",
     "text": [
      "K = 3 The average silhouette_score is : 0.7679744284846651\n"
     ]
    },
    {
     "data": {
      "image/png": "[encoded data removed]",
      "text/plain": [
       "<Figure size 432x288 with 1 Axes>"
      ]
     },
     "metadata": {
      "needs_background": "light"
     },
     "output_type": "display_data"
    }
   ],
   "source": [
    "# Modelado de datos\n",
    "# Parametros\n",
    "k= 3\n",
    "\n",
    "kmeans = KMeans(n_clusters=k)\n",
    "kmeans.fit(df_numeric)\n",
    "\n",
    "# clasificar cada patrón con los centroides\n",
    "kmeans_labels = kmeans.predict(df_numeric)\n",
    "\n",
    "# centroides\n",
    "centers = kmeans.cluster_centers_\n",
    "\n",
    "# analisis del clustering\n",
    "silhouette_avg = silhouette_score(df_numeric, kmeans_labels)\n",
    "print(\"K =\", k, \"The average silhouette_score is :\", silhouette_avg)\n",
    "AA_utils.graficar_indice_silhouette_k(df_numeric, k)"
   ]
  },
  {
   "cell_type": "code",
   "execution_count": 127,
   "metadata": {},
   "outputs": [],
   "source": [
    "df_numeric_clus = pd.DataFrame(df_numeric)\n",
    "df_numeric_clus['clusters'] = kmeans_labels"
   ]
  },
  {
   "cell_type": "code",
   "execution_count": 128,
   "metadata": {},
   "outputs": [
    {
     "data": {
      "text/plain": [
       "array(['x', 'stock_group', 'ON_HAND', 'ALLOCATED_', 'ON_ORDER',\n",
       "       'BACK_ORD', 'IN_TRANSIT', 'Stock_avail_at_WH_in_units',\n",
       "       'Stock_+_PO_position_in_units', 'Floor_Stock',\n",
       "       '_Stock_after_allocated_&_BO_', '_Avail+Transit_',\n",
       "       'Written_sales_', 'PENRITH__(YES/NO)'], dtype=object)"
      ]
     },
     "execution_count": 128,
     "metadata": {},
     "output_type": "execute_result"
    }
   ],
   "source": [
    "features = np.insert(features, 0, 'x')\n",
    "features"
   ]
  },
  {
   "cell_type": "code",
   "execution_count": null,
   "metadata": {},
   "outputs": [],
   "source": [
    "names = dict(enumerate(features.flatten(), 1))\n",
    "names"
   ]
  },
  {
   "cell_type": "code",
   "execution_count": 133,
   "metadata": {},
   "outputs": [],
   "source": [
    "df_numeric_clus.rename(columns=names, inplace=True)"
   ]
  },
  {
   "cell_type": "code",
   "execution_count": 134,
   "metadata": {},
   "outputs": [
    {
     "data": {
      "text/html": [
       "<div>\n",
       "<style scoped>\n",
       "    .dataframe tbody tr th:only-of-type {\n",
       "        vertical-align: middle;\n",
       "    }\n",
       "\n",
       "    .dataframe tbody tr th {\n",
       "        vertical-align: top;\n",
       "    }\n",
       "\n",
       "    .dataframe thead th {\n",
       "        text-align: right;\n",
       "    }\n",
       "</style>\n",
       "<table border=\"1\" class=\"dataframe\">\n",
       "  <thead>\n",
       "    <tr style=\"text-align: right;\">\n",
       "      <th></th>\n",
       "      <th>0</th>\n",
       "      <th>x</th>\n",
       "      <th>stock_group</th>\n",
       "      <th>ON_HAND</th>\n",
       "      <th>ALLOCATED_</th>\n",
       "      <th>ON_ORDER</th>\n",
       "      <th>BACK_ORD</th>\n",
       "      <th>IN_TRANSIT</th>\n",
       "      <th>Stock_avail_at_WH_in_units</th>\n",
       "      <th>Stock_+_PO_position_in_units</th>\n",
       "      <th>Floor_Stock</th>\n",
       "      <th>_Stock_after_allocated_&amp;_BO_</th>\n",
       "      <th>_Avail+Transit_</th>\n",
       "      <th>clusters</th>\n",
       "    </tr>\n",
       "  </thead>\n",
       "  <tbody>\n",
       "    <tr>\n",
       "      <th>0</th>\n",
       "      <td>0.142979</td>\n",
       "      <td>0.001618</td>\n",
       "      <td>0.014085</td>\n",
       "      <td>0.000000</td>\n",
       "      <td>0.000000</td>\n",
       "      <td>0.0</td>\n",
       "      <td>0.017483</td>\n",
       "      <td>0.008818</td>\n",
       "      <td>0.001916</td>\n",
       "      <td>0.017483</td>\n",
       "      <td>0.012302</td>\n",
       "      <td>0.068966</td>\n",
       "      <td>0.001027</td>\n",
       "      <td>0</td>\n",
       "    </tr>\n",
       "    <tr>\n",
       "      <th>1</th>\n",
       "      <td>0.142270</td>\n",
       "      <td>0.001618</td>\n",
       "      <td>0.014085</td>\n",
       "      <td>0.000000</td>\n",
       "      <td>0.000000</td>\n",
       "      <td>0.0</td>\n",
       "      <td>0.017483</td>\n",
       "      <td>0.008818</td>\n",
       "      <td>0.001916</td>\n",
       "      <td>0.017483</td>\n",
       "      <td>0.012302</td>\n",
       "      <td>0.068966</td>\n",
       "      <td>0.001027</td>\n",
       "      <td>0</td>\n",
       "    </tr>\n",
       "    <tr>\n",
       "      <th>2</th>\n",
       "      <td>0.143830</td>\n",
       "      <td>0.203883</td>\n",
       "      <td>0.140845</td>\n",
       "      <td>0.000000</td>\n",
       "      <td>0.000000</td>\n",
       "      <td>0.0</td>\n",
       "      <td>0.204545</td>\n",
       "      <td>0.197531</td>\n",
       "      <td>0.063218</td>\n",
       "      <td>0.204545</td>\n",
       "      <td>0.200351</td>\n",
       "      <td>0.137931</td>\n",
       "      <td>0.002054</td>\n",
       "      <td>0</td>\n",
       "    </tr>\n",
       "    <tr>\n",
       "      <th>3</th>\n",
       "      <td>0.144397</td>\n",
       "      <td>0.169903</td>\n",
       "      <td>0.063380</td>\n",
       "      <td>0.037736</td>\n",
       "      <td>0.000000</td>\n",
       "      <td>0.0</td>\n",
       "      <td>0.187063</td>\n",
       "      <td>0.183422</td>\n",
       "      <td>0.090038</td>\n",
       "      <td>0.187063</td>\n",
       "      <td>0.182777</td>\n",
       "      <td>0.103448</td>\n",
       "      <td>0.003082</td>\n",
       "      <td>0</td>\n",
       "    </tr>\n",
       "    <tr>\n",
       "      <th>4</th>\n",
       "      <td>0.143972</td>\n",
       "      <td>0.263754</td>\n",
       "      <td>0.091549</td>\n",
       "      <td>0.037736</td>\n",
       "      <td>0.068966</td>\n",
       "      <td>0.0</td>\n",
       "      <td>0.277972</td>\n",
       "      <td>0.275132</td>\n",
       "      <td>0.107280</td>\n",
       "      <td>0.277972</td>\n",
       "      <td>0.274165</td>\n",
       "      <td>0.172414</td>\n",
       "      <td>0.004110</td>\n",
       "      <td>0</td>\n",
       "    </tr>\n",
       "  </tbody>\n",
       "</table>\n",
       "</div>"
      ],
      "text/plain": [
       "          0         x  stock_group   ON_HAND  ALLOCATED_  ON_ORDER  BACK_ORD  \\\n",
       "0  0.142979  0.001618     0.014085  0.000000    0.000000       0.0  0.017483   \n",
       "1  0.142270  0.001618     0.014085  0.000000    0.000000       0.0  0.017483   \n",
       "2  0.143830  0.203883     0.140845  0.000000    0.000000       0.0  0.204545   \n",
       "3  0.144397  0.169903     0.063380  0.037736    0.000000       0.0  0.187063   \n",
       "4  0.143972  0.263754     0.091549  0.037736    0.068966       0.0  0.277972   \n",
       "\n",
       "   IN_TRANSIT  Stock_avail_at_WH_in_units  Stock_+_PO_position_in_units  \\\n",
       "0    0.008818                    0.001916                      0.017483   \n",
       "1    0.008818                    0.001916                      0.017483   \n",
       "2    0.197531                    0.063218                      0.204545   \n",
       "3    0.183422                    0.090038                      0.187063   \n",
       "4    0.275132                    0.107280                      0.277972   \n",
       "\n",
       "   Floor_Stock  _Stock_after_allocated_&_BO_  _Avail+Transit_  clusters  \n",
       "0     0.012302                      0.068966         0.001027         0  \n",
       "1     0.012302                      0.068966         0.001027         0  \n",
       "2     0.200351                      0.137931         0.002054         0  \n",
       "3     0.182777                      0.103448         0.003082         0  \n",
       "4     0.274165                      0.172414         0.004110         0  "
      ]
     },
     "execution_count": 134,
     "metadata": {},
     "output_type": "execute_result"
    }
   ],
   "source": [
    "df_numeric_clus.head()"
   ]
  },
  {
   "cell_type": "code",
   "execution_count": 135,
   "metadata": {},
   "outputs": [
    {
     "data": {
      "text/html": [
       "<div>\n",
       "<style scoped>\n",
       "    .dataframe tbody tr th:only-of-type {\n",
       "        vertical-align: middle;\n",
       "    }\n",
       "\n",
       "    .dataframe tbody tr th {\n",
       "        vertical-align: top;\n",
       "    }\n",
       "\n",
       "    .dataframe thead th {\n",
       "        text-align: right;\n",
       "    }\n",
       "</style>\n",
       "<table border=\"1\" class=\"dataframe\">\n",
       "  <thead>\n",
       "    <tr style=\"text-align: right;\">\n",
       "      <th></th>\n",
       "      <th>0</th>\n",
       "      <th>x</th>\n",
       "      <th>stock_group</th>\n",
       "      <th>ON_HAND</th>\n",
       "      <th>ALLOCATED_</th>\n",
       "      <th>ON_ORDER</th>\n",
       "      <th>BACK_ORD</th>\n",
       "      <th>IN_TRANSIT</th>\n",
       "      <th>Stock_avail_at_WH_in_units</th>\n",
       "      <th>Stock_+_PO_position_in_units</th>\n",
       "      <th>Floor_Stock</th>\n",
       "      <th>_Stock_after_allocated_&amp;_BO_</th>\n",
       "      <th>_Avail+Transit_</th>\n",
       "      <th>clusters</th>\n",
       "    </tr>\n",
       "  </thead>\n",
       "  <tbody>\n",
       "    <tr>\n",
       "      <th>1804</th>\n",
       "      <td>0.0</td>\n",
       "      <td>0.001618</td>\n",
       "      <td>0.014085</td>\n",
       "      <td>0.0</td>\n",
       "      <td>0.0</td>\n",
       "      <td>0.0</td>\n",
       "      <td>0.017483</td>\n",
       "      <td>0.008818</td>\n",
       "      <td>0.0</td>\n",
       "      <td>0.017483</td>\n",
       "      <td>0.012302</td>\n",
       "      <td>0.068966</td>\n",
       "      <td>0.002164</td>\n",
       "      <td>0</td>\n",
       "    </tr>\n",
       "    <tr>\n",
       "      <th>1805</th>\n",
       "      <td>0.0</td>\n",
       "      <td>0.001618</td>\n",
       "      <td>0.014085</td>\n",
       "      <td>0.0</td>\n",
       "      <td>0.0</td>\n",
       "      <td>0.0</td>\n",
       "      <td>0.017483</td>\n",
       "      <td>0.008818</td>\n",
       "      <td>0.0</td>\n",
       "      <td>0.017483</td>\n",
       "      <td>0.012302</td>\n",
       "      <td>0.068966</td>\n",
       "      <td>0.002164</td>\n",
       "      <td>0</td>\n",
       "    </tr>\n",
       "    <tr>\n",
       "      <th>1806</th>\n",
       "      <td>0.0</td>\n",
       "      <td>0.001618</td>\n",
       "      <td>0.014085</td>\n",
       "      <td>0.0</td>\n",
       "      <td>0.0</td>\n",
       "      <td>0.0</td>\n",
       "      <td>0.017483</td>\n",
       "      <td>0.008818</td>\n",
       "      <td>0.0</td>\n",
       "      <td>0.017483</td>\n",
       "      <td>0.012302</td>\n",
       "      <td>0.068966</td>\n",
       "      <td>0.002164</td>\n",
       "      <td>0</td>\n",
       "    </tr>\n",
       "    <tr>\n",
       "      <th>1807</th>\n",
       "      <td>0.0</td>\n",
       "      <td>0.001618</td>\n",
       "      <td>0.014085</td>\n",
       "      <td>0.0</td>\n",
       "      <td>0.0</td>\n",
       "      <td>0.0</td>\n",
       "      <td>0.017483</td>\n",
       "      <td>0.008818</td>\n",
       "      <td>0.0</td>\n",
       "      <td>0.017483</td>\n",
       "      <td>0.012302</td>\n",
       "      <td>0.068966</td>\n",
       "      <td>0.002164</td>\n",
       "      <td>0</td>\n",
       "    </tr>\n",
       "    <tr>\n",
       "      <th>1808</th>\n",
       "      <td>0.0</td>\n",
       "      <td>0.001618</td>\n",
       "      <td>0.014085</td>\n",
       "      <td>0.0</td>\n",
       "      <td>0.0</td>\n",
       "      <td>0.0</td>\n",
       "      <td>0.017483</td>\n",
       "      <td>0.008818</td>\n",
       "      <td>0.0</td>\n",
       "      <td>0.017483</td>\n",
       "      <td>0.012302</td>\n",
       "      <td>0.068966</td>\n",
       "      <td>0.002164</td>\n",
       "      <td>0</td>\n",
       "    </tr>\n",
       "  </tbody>\n",
       "</table>\n",
       "</div>"
      ],
      "text/plain": [
       "        0         x  stock_group  ON_HAND  ALLOCATED_  ON_ORDER  BACK_ORD  \\\n",
       "1804  0.0  0.001618     0.014085      0.0         0.0       0.0  0.017483   \n",
       "1805  0.0  0.001618     0.014085      0.0         0.0       0.0  0.017483   \n",
       "1806  0.0  0.001618     0.014085      0.0         0.0       0.0  0.017483   \n",
       "1807  0.0  0.001618     0.014085      0.0         0.0       0.0  0.017483   \n",
       "1808  0.0  0.001618     0.014085      0.0         0.0       0.0  0.017483   \n",
       "\n",
       "      IN_TRANSIT  Stock_avail_at_WH_in_units  Stock_+_PO_position_in_units  \\\n",
       "1804    0.008818                         0.0                      0.017483   \n",
       "1805    0.008818                         0.0                      0.017483   \n",
       "1806    0.008818                         0.0                      0.017483   \n",
       "1807    0.008818                         0.0                      0.017483   \n",
       "1808    0.008818                         0.0                      0.017483   \n",
       "\n",
       "      Floor_Stock  _Stock_after_allocated_&_BO_  _Avail+Transit_  clusters  \n",
       "1804     0.012302                      0.068966         0.002164         0  \n",
       "1805     0.012302                      0.068966         0.002164         0  \n",
       "1806     0.012302                      0.068966         0.002164         0  \n",
       "1807     0.012302                      0.068966         0.002164         0  \n",
       "1808     0.012302                      0.068966         0.002164         0  "
      ]
     },
     "execution_count": 135,
     "metadata": {},
     "output_type": "execute_result"
    }
   ],
   "source": [
    "df_numeric_clus.tail()"
   ]
  }
 ],
 "metadata": {
  "interpreter": {
   "hash": "57a05d53760aa3615388aeb473f21e09c80fa6b7680fb3ef0d3ec87ed96ed19b"
  },
  "kernelspec": {
   "display_name": "Python 3.8.8 64-bit ('base': conda)",
   "name": "python3"
  },
  "language_info": {
   "codemirror_mode": {
    "name": "ipython",
    "version": 3
   },
   "file_extension": ".py",
   "mimetype": "text/x-python",
   "name": "python",
   "nbconvert_exporter": "python",
   "pygments_lexer": "ipython3",
   "version": "3.8.8"
  },
  "orig_nbformat": 4
 },
 "nbformat": 4,
 "nbformat_minor": 2
}
