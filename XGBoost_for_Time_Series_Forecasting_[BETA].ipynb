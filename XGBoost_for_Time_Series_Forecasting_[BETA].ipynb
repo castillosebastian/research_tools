{
  "cells": [
    {
      "cell_type": "markdown",
      "metadata": {
        "id": "view-in-github",
        "colab_type": "text"
      },
      "source": [
        "<a href=\"https://colab.research.google.com/github/castillosebastian/research_tools/blob/master/XGBoost_for_Time_Series_Forecasting_%5BBETA%5D.ipynb\" target=\"_parent\"><img src=\"https://colab.research.google.com/assets/colab-badge.svg\" alt=\"Open In Colab\"/></a>"
      ]
    },
    {
      "cell_type": "markdown",
      "source": [
        "# XGBoost for Time Series Forecasting"
      ],
      "metadata": {
        "id": "wb3r6i3HRegn"
      }
    },
    {
      "cell_type": "markdown",
      "source": [
        "This notebook is inspired by [How to Use XGBoost for Time Series Forecasting\n",
        "](https://machinelearningmastery.com/xgboost-for-time-series-forecasting/)\n",
        "\n",
        "author : [Junior N.](https://twitter.com/nprime496)"
      ],
      "metadata": {
        "id": "0mT5hRSAsaI_"
      }
    },
    {
      "cell_type": "markdown",
      "source": [
        "![](https://s32519.pcdn.co/wp-content/uploads/2019/12/measuring-forecast-accuracy-banner-2272px.png)"
      ],
      "metadata": {
        "id": "mvBdiWw2RKr8"
      }
    },
    {
      "cell_type": "markdown",
      "source": [
        "# Introduction"
      ],
      "metadata": {
        "id": "US0ZjpiAJNZO"
      }
    },
    {
      "cell_type": "markdown",
      "source": [
        "\n",
        "This notebook is done as an experimentation/implementation of this [blog](https://machinelearningmastery.com/xgboost-for-time-series-forecasting/). Although a code base is available in the original article, this notebook come with some modifications:\n",
        "* some code restructuration to help modification\n",
        "* multivariate input handling\n",
        "* hyperparameter search\n",
        "* multiple metrics handling (rmse,mae, etc)\n",
        "* basic feature engineering\n",
        "* model explanation (Actually just showing the most predictive features)\n",
        "\n",
        "All of these leading to **a better performance compared to the original post**.\n",
        "I hope that you find it interresting."
      ],
      "metadata": {
        "id": "pIJjGE1EPtId"
      }
    },
    {
      "cell_type": "markdown",
      "source": [
        "[XGBoost](https://xgboost.readthedocs.io/en/stable/) is an efficient implementation of gradient boosting for classification and regression problems.\n",
        "\n",
        "It is both fast and efficient, performing well, if not the best, on a wide range of predictive modeling tasks and is a favorite among data science competition winners, such as those on Kaggle.\n",
        "\n",
        "XGBoost can also be used for time series forecasting, although it requires that the time series dataset be transformed into a supervised learning problem first."
      ],
      "metadata": {
        "id": "25ywZmC7L4zL"
      }
    },
    {
      "cell_type": "markdown",
      "source": [
        "In fact, Time series data can be phrased as supervised learning. Given a sequence of numbers for a time series dataset, we can restructure the data to look like a supervised learning problem. We can do this by using previous time steps as input variables and use the next time step as the output variable.\n",
        "\n",
        "\n",
        "Don't worry if you didn't understand everything[.](https://miro.medium.com/max/1400/1*yIPIuNIn6ar7MvQnNqlWlQ.jpeg) It will be clear I hope in a moment.\n"
      ],
      "metadata": {
        "id": "MZoqDHPhQkH2"
      }
    },
    {
      "cell_type": "markdown",
      "source": [
        "# Setup\n"
      ],
      "metadata": {
        "id": "t0inf2tMHmaF"
      }
    },
    {
      "cell_type": "code",
      "source": [
        "!nvidia-smi"
      ],
      "metadata": {
        "id": "eVH0XBWMHoe3"
      },
      "execution_count": null,
      "outputs": []
    },
    {
      "cell_type": "markdown",
      "source": [
        "## Installations & Imports"
      ],
      "metadata": {
        "id": "IN8YR1j_HrAi"
      }
    },
    {
      "cell_type": "code",
      "execution_count": null,
      "metadata": {
        "colab": {
          "base_uri": "https://localhost:8080/"
        },
        "id": "lIYdn1woOS1n",
        "outputId": "a213ab6d-8bd0-496d-ece0-7c0a9e947f26"
      },
      "outputs": [
        {
          "output_type": "stream",
          "name": "stdout",
          "text": [
            "Looking in indexes: https://pypi.org/simple, https://us-python.pkg.dev/colab-wheels/public/simple/\n",
            "Requirement already satisfied: xgboost in /usr/local/lib/python3.7/dist-packages (0.90)\n",
            "Requirement already satisfied: scipy in /usr/local/lib/python3.7/dist-packages (from xgboost) (1.7.3)\n",
            "Requirement already satisfied: numpy in /usr/local/lib/python3.7/dist-packages (from xgboost) (1.21.6)\n"
          ]
        }
      ],
      "source": [
        "!pip install xgboost"
      ]
    },
    {
      "cell_type": "code",
      "source": [
        "!pip install optuna"
      ],
      "metadata": {
        "colab": {
          "base_uri": "https://localhost:8080/"
        },
        "id": "4GlQCgpbAyN6",
        "outputId": "4d95f197-c62f-4aa6-8e88-8a6606361a79"
      },
      "execution_count": null,
      "outputs": [
        {
          "output_type": "stream",
          "name": "stdout",
          "text": [
            "Looking in indexes: https://pypi.org/simple, https://us-python.pkg.dev/colab-wheels/public/simple/\n",
            "Requirement already satisfied: optuna in /usr/local/lib/python3.7/dist-packages (2.10.1)\n",
            "Requirement already satisfied: alembic in /usr/local/lib/python3.7/dist-packages (from optuna) (1.8.1)\n",
            "Requirement already satisfied: packaging>=20.0 in /usr/local/lib/python3.7/dist-packages (from optuna) (21.3)\n",
            "Requirement already satisfied: tqdm in /usr/local/lib/python3.7/dist-packages (from optuna) (4.64.0)\n",
            "Requirement already satisfied: cmaes>=0.8.2 in /usr/local/lib/python3.7/dist-packages (from optuna) (0.8.2)\n",
            "Requirement already satisfied: colorlog in /usr/local/lib/python3.7/dist-packages (from optuna) (6.6.0)\n",
            "Requirement already satisfied: PyYAML in /usr/local/lib/python3.7/dist-packages (from optuna) (3.13)\n",
            "Requirement already satisfied: numpy in /usr/local/lib/python3.7/dist-packages (from optuna) (1.21.6)\n",
            "Requirement already satisfied: sqlalchemy>=1.1.0 in /usr/local/lib/python3.7/dist-packages (from optuna) (1.4.39)\n",
            "Requirement already satisfied: cliff in /usr/local/lib/python3.7/dist-packages (from optuna) (3.10.1)\n",
            "Requirement already satisfied: scipy!=1.4.0 in /usr/local/lib/python3.7/dist-packages (from optuna) (1.7.3)\n",
            "Requirement already satisfied: pyparsing!=3.0.5,>=2.0.2 in /usr/local/lib/python3.7/dist-packages (from packaging>=20.0->optuna) (3.0.9)\n",
            "Requirement already satisfied: importlib-metadata in /usr/local/lib/python3.7/dist-packages (from sqlalchemy>=1.1.0->optuna) (4.12.0)\n",
            "Requirement already satisfied: greenlet!=0.4.17 in /usr/local/lib/python3.7/dist-packages (from sqlalchemy>=1.1.0->optuna) (1.1.2)\n",
            "Requirement already satisfied: importlib-resources in /usr/local/lib/python3.7/dist-packages (from alembic->optuna) (5.9.0)\n",
            "Requirement already satisfied: Mako in /usr/local/lib/python3.7/dist-packages (from alembic->optuna) (1.2.1)\n",
            "Requirement already satisfied: pbr!=2.1.0,>=2.0.0 in /usr/local/lib/python3.7/dist-packages (from cliff->optuna) (5.9.0)\n",
            "Requirement already satisfied: cmd2>=1.0.0 in /usr/local/lib/python3.7/dist-packages (from cliff->optuna) (2.4.2)\n",
            "Requirement already satisfied: PrettyTable>=0.7.2 in /usr/local/lib/python3.7/dist-packages (from cliff->optuna) (3.3.0)\n",
            "Requirement already satisfied: autopage>=0.4.0 in /usr/local/lib/python3.7/dist-packages (from cliff->optuna) (0.5.1)\n",
            "Requirement already satisfied: stevedore>=2.0.1 in /usr/local/lib/python3.7/dist-packages (from cliff->optuna) (3.5.0)\n",
            "Requirement already satisfied: attrs>=16.3.0 in /usr/local/lib/python3.7/dist-packages (from cmd2>=1.0.0->cliff->optuna) (21.4.0)\n",
            "Requirement already satisfied: typing-extensions in /usr/local/lib/python3.7/dist-packages (from cmd2>=1.0.0->cliff->optuna) (4.1.1)\n",
            "Requirement already satisfied: pyperclip>=1.6 in /usr/local/lib/python3.7/dist-packages (from cmd2>=1.0.0->cliff->optuna) (1.8.2)\n",
            "Requirement already satisfied: wcwidth>=0.1.7 in /usr/local/lib/python3.7/dist-packages (from cmd2>=1.0.0->cliff->optuna) (0.2.5)\n",
            "Requirement already satisfied: zipp>=0.5 in /usr/local/lib/python3.7/dist-packages (from importlib-metadata->sqlalchemy>=1.1.0->optuna) (3.8.1)\n",
            "Requirement already satisfied: MarkupSafe>=0.9.2 in /usr/local/lib/python3.7/dist-packages (from Mako->alembic->optuna) (2.0.1)\n"
          ]
        }
      ]
    },
    {
      "cell_type": "code",
      "source": [
        "# xgboost\n",
        "import xgboost\n",
        "print(\"xgboost\", xgboost.__version__)"
      ],
      "metadata": {
        "id": "3pnKHOnTarsE",
        "outputId": "9c40e3c5-8f92-4715-821e-3c3827510485",
        "colab": {
          "base_uri": "https://localhost:8080/"
        }
      },
      "execution_count": null,
      "outputs": [
        {
          "output_type": "stream",
          "name": "stdout",
          "text": [
            "xgboost 0.90\n"
          ]
        }
      ]
    },
    {
      "cell_type": "code",
      "source": [
        "!wget  https://raw.githubusercontent.com/jbrownlee/Datasets/master/daily-total-female-births.csv"
      ],
      "metadata": {
        "id": "EWeEsOBEayJb",
        "outputId": "d4a32fbd-927f-40c3-9ac7-789fcf518f17",
        "colab": {
          "base_uri": "https://localhost:8080/"
        }
      },
      "execution_count": null,
      "outputs": [
        {
          "output_type": "stream",
          "name": "stdout",
          "text": [
            "--2022-07-30 17:15:29--  https://raw.githubusercontent.com/jbrownlee/Datasets/master/daily-total-female-births.csv\n",
            "Resolving raw.githubusercontent.com (raw.githubusercontent.com)... 185.199.108.133, 185.199.109.133, 185.199.110.133, ...\n",
            "Connecting to raw.githubusercontent.com (raw.githubusercontent.com)|185.199.108.133|:443... connected.\n",
            "HTTP request sent, awaiting response... 200 OK\n",
            "Length: 6220 (6.1K) [text/plain]\n",
            "Saving to: ‘daily-total-female-births.csv.1’\n",
            "\n",
            "\r          daily-tot   0%[                    ]       0  --.-KB/s               \rdaily-total-female- 100%[===================>]   6.07K  --.-KB/s    in 0s      \n",
            "\n",
            "2022-07-30 17:15:29 (51.9 MB/s) - ‘daily-total-female-births.csv.1’ saved [6220/6220]\n",
            "\n"
          ]
        }
      ]
    },
    {
      "cell_type": "code",
      "source": [
        "from xgboost import XGBRegressor"
      ],
      "metadata": {
        "id": "Q7Hzo7tHatwD"
      },
      "execution_count": null,
      "outputs": []
    },
    {
      "cell_type": "code",
      "source": [
        "import numpy as np"
      ],
      "metadata": {
        "id": "9NaHSFRFm3sR"
      },
      "execution_count": null,
      "outputs": []
    },
    {
      "cell_type": "code",
      "source": [
        "import pandas as pd"
      ],
      "metadata": {
        "id": "EBWb-GOhe4Ag"
      },
      "execution_count": null,
      "outputs": []
    },
    {
      "cell_type": "code",
      "source": [
        "import optuna"
      ],
      "metadata": {
        "id": "UL0U5x-jBqZU"
      },
      "execution_count": null,
      "outputs": []
    },
    {
      "cell_type": "code",
      "source": [
        "from numpy import asarray\n",
        "from pandas import read_csv\n",
        "from pandas import DataFrame\n",
        "from pandas import concat\n",
        "from sklearn.metrics import mean_absolute_error,mean_squared_error\n",
        "from xgboost import XGBRegressor\n",
        "from matplotlib import pyplot "
      ],
      "metadata": {
        "id": "wT2IZk7uHvqQ"
      },
      "execution_count": null,
      "outputs": []
    },
    {
      "cell_type": "markdown",
      "source": [
        "# About Dataset\n"
      ],
      "metadata": {
        "id": "sLc5oBEkHT_S"
      }
    },
    {
      "cell_type": "markdown",
      "source": [
        "## Context\n",
        "A time series dataset depicting the total number of female births recording in California, USA during the year of 1959.\n",
        "\n",
        "This is a very basic time series dataset, with only the date (\"dd/mm/yyyy\" format), and the number of births. There are 365 records in total.\n",
        "\n",
        "We will try to forecast number of births at a date given the past observations."
      ],
      "metadata": {
        "id": "Y90gj1nxHWzS"
      }
    },
    {
      "cell_type": "code",
      "source": [
        "# load the dataset\n",
        "series = pd.read_csv('daily-total-female-births.csv', header=0, index_col=0)\n",
        "series.head()"
      ],
      "metadata": {
        "id": "3OYOilYhdwzW",
        "colab": {
          "base_uri": "https://localhost:8080/",
          "height": 238
        },
        "outputId": "c407ac9b-875f-44e9-d77f-a6a6765ef661"
      },
      "execution_count": null,
      "outputs": [
        {
          "output_type": "execute_result",
          "data": {
            "text/plain": [
              "            Births\n",
              "Date              \n",
              "1959-01-01      35\n",
              "1959-01-02      32\n",
              "1959-01-03      30\n",
              "1959-01-04      31\n",
              "1959-01-05      44"
            ],
            "text/html": [
              "\n",
              "  <div id=\"df-7b37c349-4b2b-41e1-8929-0288afdc7d8a\">\n",
              "    <div class=\"colab-df-container\">\n",
              "      <div>\n",
              "<style scoped>\n",
              "    .dataframe tbody tr th:only-of-type {\n",
              "        vertical-align: middle;\n",
              "    }\n",
              "\n",
              "    .dataframe tbody tr th {\n",
              "        vertical-align: top;\n",
              "    }\n",
              "\n",
              "    .dataframe thead th {\n",
              "        text-align: right;\n",
              "    }\n",
              "</style>\n",
              "<table border=\"1\" class=\"dataframe\">\n",
              "  <thead>\n",
              "    <tr style=\"text-align: right;\">\n",
              "      <th></th>\n",
              "      <th>Births</th>\n",
              "    </tr>\n",
              "    <tr>\n",
              "      <th>Date</th>\n",
              "      <th></th>\n",
              "    </tr>\n",
              "  </thead>\n",
              "  <tbody>\n",
              "    <tr>\n",
              "      <th>1959-01-01</th>\n",
              "      <td>35</td>\n",
              "    </tr>\n",
              "    <tr>\n",
              "      <th>1959-01-02</th>\n",
              "      <td>32</td>\n",
              "    </tr>\n",
              "    <tr>\n",
              "      <th>1959-01-03</th>\n",
              "      <td>30</td>\n",
              "    </tr>\n",
              "    <tr>\n",
              "      <th>1959-01-04</th>\n",
              "      <td>31</td>\n",
              "    </tr>\n",
              "    <tr>\n",
              "      <th>1959-01-05</th>\n",
              "      <td>44</td>\n",
              "    </tr>\n",
              "  </tbody>\n",
              "</table>\n",
              "</div>\n",
              "      <button class=\"colab-df-convert\" onclick=\"convertToInteractive('df-7b37c349-4b2b-41e1-8929-0288afdc7d8a')\"\n",
              "              title=\"Convert this dataframe to an interactive table.\"\n",
              "              style=\"display:none;\">\n",
              "        \n",
              "  <svg xmlns=\"http://www.w3.org/2000/svg\" height=\"24px\"viewBox=\"0 0 24 24\"\n",
              "       width=\"24px\">\n",
              "    <path d=\"M0 0h24v24H0V0z\" fill=\"none\"/>\n",
              "    <path d=\"M18.56 5.44l.94 2.06.94-2.06 2.06-.94-2.06-.94-.94-2.06-.94 2.06-2.06.94zm-11 1L8.5 8.5l.94-2.06 2.06-.94-2.06-.94L8.5 2.5l-.94 2.06-2.06.94zm10 10l.94 2.06.94-2.06 2.06-.94-2.06-.94-.94-2.06-.94 2.06-2.06.94z\"/><path d=\"M17.41 7.96l-1.37-1.37c-.4-.4-.92-.59-1.43-.59-.52 0-1.04.2-1.43.59L10.3 9.45l-7.72 7.72c-.78.78-.78 2.05 0 2.83L4 21.41c.39.39.9.59 1.41.59.51 0 1.02-.2 1.41-.59l7.78-7.78 2.81-2.81c.8-.78.8-2.07 0-2.86zM5.41 20L4 18.59l7.72-7.72 1.47 1.35L5.41 20z\"/>\n",
              "  </svg>\n",
              "      </button>\n",
              "      \n",
              "  <style>\n",
              "    .colab-df-container {\n",
              "      display:flex;\n",
              "      flex-wrap:wrap;\n",
              "      gap: 12px;\n",
              "    }\n",
              "\n",
              "    .colab-df-convert {\n",
              "      background-color: #E8F0FE;\n",
              "      border: none;\n",
              "      border-radius: 50%;\n",
              "      cursor: pointer;\n",
              "      display: none;\n",
              "      fill: #1967D2;\n",
              "      height: 32px;\n",
              "      padding: 0 0 0 0;\n",
              "      width: 32px;\n",
              "    }\n",
              "\n",
              "    .colab-df-convert:hover {\n",
              "      background-color: #E2EBFA;\n",
              "      box-shadow: 0px 1px 2px rgba(60, 64, 67, 0.3), 0px 1px 3px 1px rgba(60, 64, 67, 0.15);\n",
              "      fill: #174EA6;\n",
              "    }\n",
              "\n",
              "    [theme=dark] .colab-df-convert {\n",
              "      background-color: #3B4455;\n",
              "      fill: #D2E3FC;\n",
              "    }\n",
              "\n",
              "    [theme=dark] .colab-df-convert:hover {\n",
              "      background-color: #434B5C;\n",
              "      box-shadow: 0px 1px 3px 1px rgba(0, 0, 0, 0.15);\n",
              "      filter: drop-shadow(0px 1px 2px rgba(0, 0, 0, 0.3));\n",
              "      fill: #FFFFFF;\n",
              "    }\n",
              "  </style>\n",
              "\n",
              "      <script>\n",
              "        const buttonEl =\n",
              "          document.querySelector('#df-7b37c349-4b2b-41e1-8929-0288afdc7d8a button.colab-df-convert');\n",
              "        buttonEl.style.display =\n",
              "          google.colab.kernel.accessAllowed ? 'block' : 'none';\n",
              "\n",
              "        async function convertToInteractive(key) {\n",
              "          const element = document.querySelector('#df-7b37c349-4b2b-41e1-8929-0288afdc7d8a');\n",
              "          const dataTable =\n",
              "            await google.colab.kernel.invokeFunction('convertToInteractive',\n",
              "                                                     [key], {});\n",
              "          if (!dataTable) return;\n",
              "\n",
              "          const docLinkHtml = 'Like what you see? Visit the ' +\n",
              "            '<a target=\"_blank\" href=https://colab.research.google.com/notebooks/data_table.ipynb>data table notebook</a>'\n",
              "            + ' to learn more about interactive tables.';\n",
              "          element.innerHTML = '';\n",
              "          dataTable['output_type'] = 'display_data';\n",
              "          await google.colab.output.renderOutput(dataTable, element);\n",
              "          const docLink = document.createElement('div');\n",
              "          docLink.innerHTML = docLinkHtml;\n",
              "          element.appendChild(docLink);\n",
              "        }\n",
              "      </script>\n",
              "    </div>\n",
              "  </div>\n",
              "  "
            ]
          },
          "metadata": {},
          "execution_count": 87
        }
      ]
    },
    {
      "cell_type": "code",
      "source": [
        "series.reset_index(inplace=True)\n",
        "series['Date'] = pd.to_datetime(series['Date'])\n",
        "values = series.values"
      ],
      "metadata": {
        "id": "b3Vh563nHefy"
      },
      "execution_count": null,
      "outputs": []
    },
    {
      "cell_type": "markdown",
      "source": [
        "# EDA"
      ],
      "metadata": {
        "id": "YMXFQ4HSIie5"
      }
    },
    {
      "cell_type": "markdown",
      "source": [
        "Take a look at the the number of births evolution."
      ],
      "metadata": {
        "id": "aSJ1So5JTu9E"
      }
    },
    {
      "cell_type": "code",
      "source": [
        "# load and plot the time series dataset\n",
        "from pandas import read_csv\n",
        "from matplotlib import pyplot\n",
        "# load dataset\n",
        "series = read_csv('daily-total-female-births.csv', header=0, index_col=0)\n",
        "values = series.values\n",
        "# plot dataset\n",
        "pyplot.plot(values)\n",
        "pyplot.show()\n"
      ],
      "metadata": {
        "id": "Rzw-lcdcb5UD",
        "outputId": "31e79ff9-ba1e-4ccd-872d-edd36d5740a2",
        "colab": {
          "base_uri": "https://localhost:8080/",
          "height": 265
        }
      },
      "execution_count": null,
      "outputs": [
        {
          "output_type": "display_data",
          "data": {
            "text/plain": [
              "<Figure size 432x288 with 1 Axes>"
            ],
            "image/png": "[encoded data removed]"
          },
          "metadata": {
            "needs_background": "light"
          }
        }
      ]
    },
    {
      "cell_type": "markdown",
      "source": [
        "# Preprocessing"
      ],
      "metadata": {
        "id": "9vBmJwmhImMg"
      }
    },
    {
      "cell_type": "markdown",
      "source": [
        "Here we preprocess the dataset (normalizing data if necessary, removing useless columns,...)"
      ],
      "metadata": {
        "id": "cu-PEtNCT9Tc"
      }
    },
    {
      "cell_type": "markdown",
      "source": [
        "## Cleaning"
      ],
      "metadata": {
        "id": "zCzbg97VIso3"
      }
    },
    {
      "cell_type": "code",
      "source": [
        "series.reset_index(inplace=True)\n",
        "series['Date'] = pd.to_datetime(series['Date'])\n",
        "series.head()"
      ],
      "metadata": {
        "colab": {
          "base_uri": "https://localhost:8080/",
          "height": 206
        },
        "id": "d1aqOrbYz3X1",
        "outputId": "f38a92db-40eb-4dcd-e93a-2d63f0d58ff9"
      },
      "execution_count": null,
      "outputs": [
        {
          "output_type": "execute_result",
          "data": {
            "text/plain": [
              "        Date  Births\n",
              "0 1959-01-01      35\n",
              "1 1959-01-02      32\n",
              "2 1959-01-03      30\n",
              "3 1959-01-04      31\n",
              "4 1959-01-05      44"
            ],
            "text/html": [
              "\n",
              "  <div id=\"df-e130f98b-facc-4a32-b017-bdf12af96c45\">\n",
              "    <div class=\"colab-df-container\">\n",
              "      <div>\n",
              "<style scoped>\n",
              "    .dataframe tbody tr th:only-of-type {\n",
              "        vertical-align: middle;\n",
              "    }\n",
              "\n",
              "    .dataframe tbody tr th {\n",
              "        vertical-align: top;\n",
              "    }\n",
              "\n",
              "    .dataframe thead th {\n",
              "        text-align: right;\n",
              "    }\n",
              "</style>\n",
              "<table border=\"1\" class=\"dataframe\">\n",
              "  <thead>\n",
              "    <tr style=\"text-align: right;\">\n",
              "      <th></th>\n",
              "      <th>Date</th>\n",
              "      <th>Births</th>\n",
              "    </tr>\n",
              "  </thead>\n",
              "  <tbody>\n",
              "    <tr>\n",
              "      <th>0</th>\n",
              "      <td>1959-01-01</td>\n",
              "      <td>35</td>\n",
              "    </tr>\n",
              "    <tr>\n",
              "      <th>1</th>\n",
              "      <td>1959-01-02</td>\n",
              "      <td>32</td>\n",
              "    </tr>\n",
              "    <tr>\n",
              "      <th>2</th>\n",
              "      <td>1959-01-03</td>\n",
              "      <td>30</td>\n",
              "    </tr>\n",
              "    <tr>\n",
              "      <th>3</th>\n",
              "      <td>1959-01-04</td>\n",
              "      <td>31</td>\n",
              "    </tr>\n",
              "    <tr>\n",
              "      <th>4</th>\n",
              "      <td>1959-01-05</td>\n",
              "      <td>44</td>\n",
              "    </tr>\n",
              "  </tbody>\n",
              "</table>\n",
              "</div>\n",
              "      <button class=\"colab-df-convert\" onclick=\"convertToInteractive('df-e130f98b-facc-4a32-b017-bdf12af96c45')\"\n",
              "              title=\"Convert this dataframe to an interactive table.\"\n",
              "              style=\"display:none;\">\n",
              "        \n",
              "  <svg xmlns=\"http://www.w3.org/2000/svg\" height=\"24px\"viewBox=\"0 0 24 24\"\n",
              "       width=\"24px\">\n",
              "    <path d=\"M0 0h24v24H0V0z\" fill=\"none\"/>\n",
              "    <path d=\"M18.56 5.44l.94 2.06.94-2.06 2.06-.94-2.06-.94-.94-2.06-.94 2.06-2.06.94zm-11 1L8.5 8.5l.94-2.06 2.06-.94-2.06-.94L8.5 2.5l-.94 2.06-2.06.94zm10 10l.94 2.06.94-2.06 2.06-.94-2.06-.94-.94-2.06-.94 2.06-2.06.94z\"/><path d=\"M17.41 7.96l-1.37-1.37c-.4-.4-.92-.59-1.43-.59-.52 0-1.04.2-1.43.59L10.3 9.45l-7.72 7.72c-.78.78-.78 2.05 0 2.83L4 21.41c.39.39.9.59 1.41.59.51 0 1.02-.2 1.41-.59l7.78-7.78 2.81-2.81c.8-.78.8-2.07 0-2.86zM5.41 20L4 18.59l7.72-7.72 1.47 1.35L5.41 20z\"/>\n",
              "  </svg>\n",
              "      </button>\n",
              "      \n",
              "  <style>\n",
              "    .colab-df-container {\n",
              "      display:flex;\n",
              "      flex-wrap:wrap;\n",
              "      gap: 12px;\n",
              "    }\n",
              "\n",
              "    .colab-df-convert {\n",
              "      background-color: #E8F0FE;\n",
              "      border: none;\n",
              "      border-radius: 50%;\n",
              "      cursor: pointer;\n",
              "      display: none;\n",
              "      fill: #1967D2;\n",
              "      height: 32px;\n",
              "      padding: 0 0 0 0;\n",
              "      width: 32px;\n",
              "    }\n",
              "\n",
              "    .colab-df-convert:hover {\n",
              "      background-color: #E2EBFA;\n",
              "      box-shadow: 0px 1px 2px rgba(60, 64, 67, 0.3), 0px 1px 3px 1px rgba(60, 64, 67, 0.15);\n",
              "      fill: #174EA6;\n",
              "    }\n",
              "\n",
              "    [theme=dark] .colab-df-convert {\n",
              "      background-color: #3B4455;\n",
              "      fill: #D2E3FC;\n",
              "    }\n",
              "\n",
              "    [theme=dark] .colab-df-convert:hover {\n",
              "      background-color: #434B5C;\n",
              "      box-shadow: 0px 1px 3px 1px rgba(0, 0, 0, 0.15);\n",
              "      filter: drop-shadow(0px 1px 2px rgba(0, 0, 0, 0.3));\n",
              "      fill: #FFFFFF;\n",
              "    }\n",
              "  </style>\n",
              "\n",
              "      <script>\n",
              "        const buttonEl =\n",
              "          document.querySelector('#df-e130f98b-facc-4a32-b017-bdf12af96c45 button.colab-df-convert');\n",
              "        buttonEl.style.display =\n",
              "          google.colab.kernel.accessAllowed ? 'block' : 'none';\n",
              "\n",
              "        async function convertToInteractive(key) {\n",
              "          const element = document.querySelector('#df-e130f98b-facc-4a32-b017-bdf12af96c45');\n",
              "          const dataTable =\n",
              "            await google.colab.kernel.invokeFunction('convertToInteractive',\n",
              "                                                     [key], {});\n",
              "          if (!dataTable) return;\n",
              "\n",
              "          const docLinkHtml = 'Like what you see? Visit the ' +\n",
              "            '<a target=\"_blank\" href=https://colab.research.google.com/notebooks/data_table.ipynb>data table notebook</a>'\n",
              "            + ' to learn more about interactive tables.';\n",
              "          element.innerHTML = '';\n",
              "          dataTable['output_type'] = 'display_data';\n",
              "          await google.colab.output.renderOutput(dataTable, element);\n",
              "          const docLink = document.createElement('div');\n",
              "          docLink.innerHTML = docLinkHtml;\n",
              "          element.appendChild(docLink);\n",
              "        }\n",
              "      </script>\n",
              "    </div>\n",
              "  </div>\n",
              "  "
            ]
          },
          "metadata": {},
          "execution_count": 33
        }
      ]
    },
    {
      "cell_type": "markdown",
      "source": [
        "We add a new feature which is [moving average](https://en.wikipedia.org/wiki/Moving_average) given some window.\n",
        "\n",
        "We also added weekend markup but it doesn't seem to help so it was removed."
      ],
      "metadata": {
        "id": "ZPVPRORXQ21Y"
      }
    },
    {
      "cell_type": "code",
      "source": [
        "def feature_engineering(df,roll=20):\n",
        "  df['day_sin'] = df['Date'].apply(lambda x:np.sin(x.weekday()))\n",
        "  df['mean_rolling']  = df['Births'].rolling(window=roll,min_periods=1).mean()\n",
        "  # df['weekend'] = df['Date'].apply(lambda x:int(x.weekday()>=5))\n",
        "  df = df.drop('Date', axis=1)\n",
        "  return df"
      ],
      "metadata": {
        "id": "sz1Afoagm9JB"
      },
      "execution_count": null,
      "outputs": []
    },
    {
      "cell_type": "code",
      "source": [
        "data = feature_engineering(series)\n",
        "#data = series.reset_index(drop=True).drop('Date', axis=1)\n",
        "data.head(5)"
      ],
      "metadata": {
        "id": "LbaktW_jmuid",
        "colab": {
          "base_uri": "https://localhost:8080/",
          "height": 206
        },
        "outputId": "383b8ac9-17ae-44cf-d65f-4a5410bf0c37"
      },
      "execution_count": null,
      "outputs": [
        {
          "output_type": "execute_result",
          "data": {
            "text/plain": [
              "   Births   day_sin  mean_rolling  weekend\n",
              "0      35  0.141120     35.000000        0\n",
              "1      32 -0.756802     33.500000        0\n",
              "2      30 -0.958924     32.333333        1\n",
              "3      31 -0.279415     32.000000        1\n",
              "4      44  0.000000     34.400000        0"
            ],
            "text/html": [
              "\n",
              "  <div id=\"df-437aee7b-5d9a-4b23-9ddc-ab4e1c540f68\">\n",
              "    <div class=\"colab-df-container\">\n",
              "      <div>\n",
              "<style scoped>\n",
              "    .dataframe tbody tr th:only-of-type {\n",
              "        vertical-align: middle;\n",
              "    }\n",
              "\n",
              "    .dataframe tbody tr th {\n",
              "        vertical-align: top;\n",
              "    }\n",
              "\n",
              "    .dataframe thead th {\n",
              "        text-align: right;\n",
              "    }\n",
              "</style>\n",
              "<table border=\"1\" class=\"dataframe\">\n",
              "  <thead>\n",
              "    <tr style=\"text-align: right;\">\n",
              "      <th></th>\n",
              "      <th>Births</th>\n",
              "      <th>day_sin</th>\n",
              "      <th>mean_rolling</th>\n",
              "      <th>weekend</th>\n",
              "    </tr>\n",
              "  </thead>\n",
              "  <tbody>\n",
              "    <tr>\n",
              "      <th>0</th>\n",
              "      <td>35</td>\n",
              "      <td>0.141120</td>\n",
              "      <td>35.000000</td>\n",
              "      <td>0</td>\n",
              "    </tr>\n",
              "    <tr>\n",
              "      <th>1</th>\n",
              "      <td>32</td>\n",
              "      <td>-0.756802</td>\n",
              "      <td>33.500000</td>\n",
              "      <td>0</td>\n",
              "    </tr>\n",
              "    <tr>\n",
              "      <th>2</th>\n",
              "      <td>30</td>\n",
              "      <td>-0.958924</td>\n",
              "      <td>32.333333</td>\n",
              "      <td>1</td>\n",
              "    </tr>\n",
              "    <tr>\n",
              "      <th>3</th>\n",
              "      <td>31</td>\n",
              "      <td>-0.279415</td>\n",
              "      <td>32.000000</td>\n",
              "      <td>1</td>\n",
              "    </tr>\n",
              "    <tr>\n",
              "      <th>4</th>\n",
              "      <td>44</td>\n",
              "      <td>0.000000</td>\n",
              "      <td>34.400000</td>\n",
              "      <td>0</td>\n",
              "    </tr>\n",
              "  </tbody>\n",
              "</table>\n",
              "</div>\n",
              "      <button class=\"colab-df-convert\" onclick=\"convertToInteractive('df-437aee7b-5d9a-4b23-9ddc-ab4e1c540f68')\"\n",
              "              title=\"Convert this dataframe to an interactive table.\"\n",
              "              style=\"display:none;\">\n",
              "        \n",
              "  <svg xmlns=\"http://www.w3.org/2000/svg\" height=\"24px\"viewBox=\"0 0 24 24\"\n",
              "       width=\"24px\">\n",
              "    <path d=\"M0 0h24v24H0V0z\" fill=\"none\"/>\n",
              "    <path d=\"M18.56 5.44l.94 2.06.94-2.06 2.06-.94-2.06-.94-.94-2.06-.94 2.06-2.06.94zm-11 1L8.5 8.5l.94-2.06 2.06-.94-2.06-.94L8.5 2.5l-.94 2.06-2.06.94zm10 10l.94 2.06.94-2.06 2.06-.94-2.06-.94-.94-2.06-.94 2.06-2.06.94z\"/><path d=\"M17.41 7.96l-1.37-1.37c-.4-.4-.92-.59-1.43-.59-.52 0-1.04.2-1.43.59L10.3 9.45l-7.72 7.72c-.78.78-.78 2.05 0 2.83L4 21.41c.39.39.9.59 1.41.59.51 0 1.02-.2 1.41-.59l7.78-7.78 2.81-2.81c.8-.78.8-2.07 0-2.86zM5.41 20L4 18.59l7.72-7.72 1.47 1.35L5.41 20z\"/>\n",
              "  </svg>\n",
              "      </button>\n",
              "      \n",
              "  <style>\n",
              "    .colab-df-container {\n",
              "      display:flex;\n",
              "      flex-wrap:wrap;\n",
              "      gap: 12px;\n",
              "    }\n",
              "\n",
              "    .colab-df-convert {\n",
              "      background-color: #E8F0FE;\n",
              "      border: none;\n",
              "      border-radius: 50%;\n",
              "      cursor: pointer;\n",
              "      display: none;\n",
              "      fill: #1967D2;\n",
              "      height: 32px;\n",
              "      padding: 0 0 0 0;\n",
              "      width: 32px;\n",
              "    }\n",
              "\n",
              "    .colab-df-convert:hover {\n",
              "      background-color: #E2EBFA;\n",
              "      box-shadow: 0px 1px 2px rgba(60, 64, 67, 0.3), 0px 1px 3px 1px rgba(60, 64, 67, 0.15);\n",
              "      fill: #174EA6;\n",
              "    }\n",
              "\n",
              "    [theme=dark] .colab-df-convert {\n",
              "      background-color: #3B4455;\n",
              "      fill: #D2E3FC;\n",
              "    }\n",
              "\n",
              "    [theme=dark] .colab-df-convert:hover {\n",
              "      background-color: #434B5C;\n",
              "      box-shadow: 0px 1px 3px 1px rgba(0, 0, 0, 0.15);\n",
              "      filter: drop-shadow(0px 1px 2px rgba(0, 0, 0, 0.3));\n",
              "      fill: #FFFFFF;\n",
              "    }\n",
              "  </style>\n",
              "\n",
              "      <script>\n",
              "        const buttonEl =\n",
              "          document.querySelector('#df-437aee7b-5d9a-4b23-9ddc-ab4e1c540f68 button.colab-df-convert');\n",
              "        buttonEl.style.display =\n",
              "          google.colab.kernel.accessAllowed ? 'block' : 'none';\n",
              "\n",
              "        async function convertToInteractive(key) {\n",
              "          const element = document.querySelector('#df-437aee7b-5d9a-4b23-9ddc-ab4e1c540f68');\n",
              "          const dataTable =\n",
              "            await google.colab.kernel.invokeFunction('convertToInteractive',\n",
              "                                                     [key], {});\n",
              "          if (!dataTable) return;\n",
              "\n",
              "          const docLinkHtml = 'Like what you see? Visit the ' +\n",
              "            '<a target=\"_blank\" href=https://colab.research.google.com/notebooks/data_table.ipynb>data table notebook</a>'\n",
              "            + ' to learn more about interactive tables.';\n",
              "          element.innerHTML = '';\n",
              "          dataTable['output_type'] = 'display_data';\n",
              "          await google.colab.output.renderOutput(dataTable, element);\n",
              "          const docLink = document.createElement('div');\n",
              "          docLink.innerHTML = docLinkHtml;\n",
              "          element.appendChild(docLink);\n",
              "        }\n",
              "      </script>\n",
              "    </div>\n",
              "  </div>\n",
              "  "
            ]
          },
          "metadata": {},
          "execution_count": 70
        }
      ]
    },
    {
      "cell_type": "code",
      "source": [
        "def generate_supervised(data,n_in,roll=20):\n",
        "  df = feature_engineering(data,roll)\n",
        "  X=[]\n",
        "  y=[]\n",
        "  for i in range(0,len(df)-n_in):\n",
        "    X.append(np.concatenate(df.values[i:n_in+i],axis=-1))\n",
        "    y.append(df.values[n_in+i][0])\n",
        "  return X,y"
      ],
      "metadata": {
        "id": "s-ATSFzSsALi"
      },
      "execution_count": null,
      "outputs": []
    },
    {
      "cell_type": "markdown",
      "source": [
        "## Splitting Scheme"
      ],
      "metadata": {
        "id": "v8AYZLvQIcbT"
      }
    },
    {
      "cell_type": "markdown",
      "source": [
        "We define how splitting will be done.\n",
        "\n",
        "XGBoost can be used for time series forecasting, although it requires that the time series dataset be transformed into a supervised learning problem first. It also requires the use of a specialized technique for evaluating the model called walk-forward validation, **as evaluating the model using k-fold cross validation would result in optimistically biased results.**\n",
        "\n",
        "For example, it would not be valid to fit the model on data from the future and have it predict the past. The model must be trained on the past and predict the future. This means that methods that randomize the dataset during evaluation, like k-fold cross-validation, cannot be used. Instead, we must use a technique called walk-forward validation.\n"
      ],
      "metadata": {
        "id": "dsrohiDFUUgI"
      }
    },
    {
      "cell_type": "code",
      "source": [
        "# split a univariate dataset into train/test sets\n",
        "def train_test_split(data, n_test):\n",
        "\treturn data[:-n_test], data[-n_test:]"
      ],
      "metadata": {
        "id": "uIanxSzGH-So"
      },
      "execution_count": null,
      "outputs": []
    },
    {
      "cell_type": "markdown",
      "source": [
        "# Model Selection"
      ],
      "metadata": {
        "id": "rbHQwCpeIvJ4"
      }
    },
    {
      "cell_type": "markdown",
      "source": [
        "In walk-forward validation, the dataset is first split into train and test sets by selecting a cut point, e.g. all data except the last 12 days is used for training and the last 12 days is used for testing.\n",
        "\n",
        "If we are interested in making a one-step forecast, e.g. one month, then we can evaluate the model by training on the training dataset and predicting the first step in the test dataset. We can then add the real observation from the test set to the training dataset, refit the model, then have the model predict the second step in the test dataset.\n",
        "\n",
        "Repeating this process for the entire test dataset will give a one-step prediction for the entire test dataset from which an error measure can be calculated to evaluate the skill of the model.\n",
        "\n"
      ],
      "metadata": {
        "id": "qeiL2xAkQqa0"
      }
    },
    {
      "cell_type": "markdown",
      "source": [
        "We will use [optuna](https://optuna.org/) for hyperparameter search. Optuna is an automatic hyperparameter optimization software framework, particularly designed for machine learning. \n"
      ],
      "metadata": {
        "id": "EvdgosnBWsyR"
      }
    },
    {
      "cell_type": "code",
      "source": [
        "# fit an xgboost model and make a one step prediction\n",
        "def xgboost_forecast(model, train, X_test):\n",
        "  # transform list into array\n",
        "\n",
        "  X_train,y_train = list(zip(*train))\n",
        "  train = asarray(X_train)\n",
        "  # split into input and output columns\n",
        "  trainX, trainy = X_train, y_train\n",
        "  testX = X_test\n",
        "  # fit model\n",
        "  model.fit(list(trainX), list(trainy))\n",
        "\n",
        "  # make a one-step prediction\n",
        "  yhat = model.predict(asarray([testX]))\n",
        "  return yhat[0]\n",
        " \n",
        "# walk-forward validation for univariate data\n",
        "def walk_forward_validation(model, X_train,y_train,X_test,y_test, n_test):\n",
        "  predictions = list()\n",
        " \n",
        "  # seed history with training dataset\n",
        "  history = [(x,y) for x,y in zip(X_train,y_train)]\n",
        "  # step over each time-step in the test set\n",
        "  for i in range(len(X_test)):\n",
        "    # split test row into input and output columns\n",
        "    testX, testy = X_test[i], y_test[i]\n",
        "    # fit model on history and make a prediction\n",
        "    yhat = xgboost_forecast(model,history, testX )\n",
        "    #return yhat\n",
        "    # store forecast in list of predictions\n",
        "    predictions.append(yhat)\n",
        "    # add actual observation to history for the next loop\n",
        "    history.append((testX,testy))\n",
        "    # summarize progress\n",
        "    #print('>expected=%.1f, predicted=%.1f' % (testy, yhat))\n",
        "  # estimate prediction error\n",
        "  errors = {}\n",
        "  errors['mae'] = mean_absolute_error(y_test, predictions)\n",
        "  errors['rmse'] = np.sqrt(mean_squared_error(y_test,predictions))\n",
        "  return errors, y_test, predictions"
      ],
      "metadata": {
        "id": "ctcsiNlJIVTx"
      },
      "execution_count": null,
      "outputs": []
    },
    {
      "cell_type": "code",
      "source": [
        "def objective(trial):\n",
        "    # Invoke suggest methods of a Trial object to generate hyperparameters.\n",
        "    # Parameters are \"sugested\" by optuna at each trial using stochastic techniques\n",
        "    param = {\n",
        "        #'tree_method':'gpu_hist',  # this parameter means using the GPU when training our model to speedup the training process\n",
        "        'lambda': trial.suggest_loguniform('lambda', 1e-3, 5.0),\n",
        "        'alpha': trial.suggest_loguniform('alpha', 1e-3, 5.0),\n",
        "        'learning_rate': trial.suggest_categorical('learning_rate', [0.008,0.01,0.012,0.014,0.016,0.018, 0.02]),\n",
        "        'n_estimators': trial.suggest_categorical('n_estimators', [100,300,500,700,900,1000]),\n",
        "        'max_depth': trial.suggest_categorical('max_depth', [3,5,7,9]),\n",
        "        'random_state': trial.suggest_categorical('random_state', [2020]),\n",
        "        'n_in':trial.suggest_categorical('n_in', [2,5,7,10,15]),\n",
        "        'roll':trial.suggest_categorical('roll', [2,5,10,15,20,30])\n",
        "    }\n",
        "\n",
        "    X,y = generate_supervised(series,n_in=param['n_in'],roll = param['roll'])\n",
        "    # split dataset\n",
        "    X_train, X_test = train_test_split(X, 20)\n",
        "    y_train, y_test = train_test_split(y, 20)\n",
        "\n",
        "\n",
        "    model = XGBRegressor(objective='reg:squarederror', **param)\n",
        "\n",
        "    errors, y, yhat = walk_forward_validation(model,X_train,y_train,X_test,y_test,20) \n",
        "    return errors['mae']"
      ],
      "metadata": {
        "id": "rkGrOgOdAxZD"
      },
      "execution_count": null,
      "outputs": []
    },
    {
      "cell_type": "code",
      "source": [
        "# This takes ~15min on CPU\n",
        "study = optuna.create_study(direction='minimize')\n",
        "study.optimize(objective, n_trials=50)\n",
        "print('Number of finished trials:', len(study.trials))\n",
        "print('Best trial:', study.best_trial.params)"
      ],
      "metadata": {
        "colab": {
          "base_uri": "https://localhost:8080/"
        },
        "id": "YLqkccovA5JO",
        "outputId": "1bfc69c4-2487-4eb0-fc29-afe9f1512404"
      },
      "execution_count": null,
      "outputs": [
        {
          "output_type": "stream",
          "name": "stderr",
          "text": [
            "\u001b[32m[I 2022-07-30 17:53:20,829]\u001b[0m A new study created in memory with name: no-name-455bbdd2-0bc4-4583-a576-2d771a652b0a\u001b[0m\n",
            "\u001b[32m[I 2022-07-30 17:53:36,829]\u001b[0m Trial 0 finished with value: 5.940635299682617 and parameters: {'lambda': 2.1374950029488358, 'alpha': 4.81106835941145, 'learning_rate': 0.014, 'n_estimators': 900, 'max_depth': 7, 'random_state': 2020, 'n_in': 5, 'roll': 15}. Best is trial 0 with value: 5.940635299682617.\u001b[0m\n",
            "\u001b[32m[I 2022-07-30 17:53:38,919]\u001b[0m Trial 1 finished with value: 12.701558780670165 and parameters: {'lambda': 0.3073857362202316, 'alpha': 0.4395121914993376, 'learning_rate': 0.014, 'n_estimators': 100, 'max_depth': 9, 'random_state': 2020, 'n_in': 10, 'roll': 10}. Best is trial 0 with value: 5.940635299682617.\u001b[0m\n",
            "\u001b[32m[I 2022-07-30 17:53:48,990]\u001b[0m Trial 2 finished with value: 6.105617332458496 and parameters: {'lambda': 0.006655530340644458, 'alpha': 0.001233863518896599, 'learning_rate': 0.02, 'n_estimators': 500, 'max_depth': 9, 'random_state': 2020, 'n_in': 5, 'roll': 2}. Best is trial 0 with value: 5.940635299682617.\u001b[0m\n",
            "\u001b[32m[I 2022-07-30 17:53:53,239]\u001b[0m Trial 3 finished with value: 5.397640419006348 and parameters: {'lambda': 0.4519069798961391, 'alpha': 0.011178498687927581, 'learning_rate': 0.008, 'n_estimators': 1000, 'max_depth': 3, 'random_state': 2020, 'n_in': 2, 'roll': 15}. Best is trial 3 with value: 5.397640419006348.\u001b[0m\n",
            "\u001b[32m[I 2022-07-30 17:54:09,330]\u001b[0m Trial 4 finished with value: 6.058506774902344 and parameters: {'lambda': 0.49137087533410834, 'alpha': 0.02693588022904107, 'learning_rate': 0.02, 'n_estimators': 300, 'max_depth': 9, 'random_state': 2020, 'n_in': 15, 'roll': 5}. Best is trial 3 with value: 5.397640419006348.\u001b[0m\n",
            "\u001b[32m[I 2022-07-30 17:55:08,978]\u001b[0m Trial 5 finished with value: 6.184766387939453 and parameters: {'lambda': 1.238579011257248, 'alpha': 0.036730891749077656, 'learning_rate': 0.012, 'n_estimators': 1000, 'max_depth': 9, 'random_state': 2020, 'n_in': 15, 'roll': 10}. Best is trial 3 with value: 5.397640419006348.\u001b[0m\n",
            "\u001b[32m[I 2022-07-30 17:55:14,438]\u001b[0m Trial 6 finished with value: 6.451136207580566 and parameters: {'lambda': 0.001817664743696853, 'alpha': 0.0019066933299884607, 'learning_rate': 0.02, 'n_estimators': 300, 'max_depth': 5, 'random_state': 2020, 'n_in': 10, 'roll': 20}. Best is trial 3 with value: 5.397640419006348.\u001b[0m\n",
            "\u001b[32m[I 2022-07-30 17:55:22,666]\u001b[0m Trial 7 finished with value: 6.0985767364501955 and parameters: {'lambda': 0.001011452001821721, 'alpha': 1.4442626019655802, 'learning_rate': 0.02, 'n_estimators': 700, 'max_depth': 5, 'random_state': 2020, 'n_in': 5, 'roll': 15}. Best is trial 3 with value: 5.397640419006348.\u001b[0m\n",
            "\u001b[32m[I 2022-07-30 17:55:23,131]\u001b[0m Trial 8 finished with value: 10.587116050720216 and parameters: {'lambda': 0.033366535103495486, 'alpha': 0.7159789568855558, 'learning_rate': 0.016, 'n_estimators': 100, 'max_depth': 3, 'random_state': 2020, 'n_in': 2, 'roll': 20}. Best is trial 3 with value: 5.397640419006348.\u001b[0m\n",
            "\u001b[32m[I 2022-07-30 17:55:34,069]\u001b[0m Trial 9 finished with value: 6.33952522277832 and parameters: {'lambda': 0.0020192369467093665, 'alpha': 0.38151961534537615, 'learning_rate': 0.008, 'n_estimators': 700, 'max_depth': 7, 'random_state': 2020, 'n_in': 5, 'roll': 30}. Best is trial 3 with value: 5.397640419006348.\u001b[0m\n",
            "\u001b[32m[I 2022-07-30 17:55:38,323]\u001b[0m Trial 10 finished with value: 5.397640419006348 and parameters: {'lambda': 0.0760348176575986, 'alpha': 0.007694998484024202, 'learning_rate': 0.008, 'n_estimators': 1000, 'max_depth': 3, 'random_state': 2020, 'n_in': 2, 'roll': 15}. Best is trial 3 with value: 5.397640419006348.\u001b[0m\n",
            "\u001b[32m[I 2022-07-30 17:55:42,579]\u001b[0m Trial 11 finished with value: 5.397640419006348 and parameters: {'lambda': 0.11937994417910296, 'alpha': 0.007103080897977572, 'learning_rate': 0.008, 'n_estimators': 1000, 'max_depth': 3, 'random_state': 2020, 'n_in': 2, 'roll': 15}. Best is trial 3 with value: 5.397640419006348.\u001b[0m\n",
            "\u001b[32m[I 2022-07-30 17:55:46,794]\u001b[0m Trial 12 finished with value: 5.397640419006348 and parameters: {'lambda': 0.02886800248339589, 'alpha': 0.009551589199766475, 'learning_rate': 0.008, 'n_estimators': 1000, 'max_depth': 3, 'random_state': 2020, 'n_in': 2, 'roll': 15}. Best is trial 3 with value: 5.397640419006348.\u001b[0m\n",
            "\u001b[32m[I 2022-07-30 17:55:55,752]\u001b[0m Trial 13 finished with value: 5.434496879577637 and parameters: {'lambda': 0.10941499754754551, 'alpha': 0.11447402534621516, 'learning_rate': 0.018, 'n_estimators': 1000, 'max_depth': 3, 'random_state': 2020, 'n_in': 7, 'roll': 15}. Best is trial 3 with value: 5.397640419006348.\u001b[0m\n",
            "\u001b[32m[I 2022-07-30 17:56:00,004]\u001b[0m Trial 14 finished with value: 5.484556579589844 and parameters: {'lambda': 0.48614688912917775, 'alpha': 0.0049261016630492045, 'learning_rate': 0.008, 'n_estimators': 1000, 'max_depth': 3, 'random_state': 2020, 'n_in': 2, 'roll': 30}. Best is trial 3 with value: 5.397640419006348.\u001b[0m\n",
            "\u001b[32m[I 2022-07-30 17:56:03,735]\u001b[0m Trial 15 finished with value: 6.447374153137207 and parameters: {'lambda': 4.032862051824377, 'alpha': 0.01763857447488742, 'learning_rate': 0.01, 'n_estimators': 900, 'max_depth': 3, 'random_state': 2020, 'n_in': 2, 'roll': 5}. Best is trial 3 with value: 5.397640419006348.\u001b[0m\n",
            "\u001b[32m[I 2022-07-30 17:56:07,857]\u001b[0m Trial 16 finished with value: 5.809507369995117 and parameters: {'lambda': 0.03042382931452647, 'alpha': 0.07468089683234122, 'learning_rate': 0.008, 'n_estimators': 500, 'max_depth': 3, 'random_state': 2020, 'n_in': 7, 'roll': 2}. Best is trial 3 with value: 5.397640419006348.\u001b[0m\n",
            "\u001b[32m[I 2022-07-30 17:56:12,636]\u001b[0m Trial 17 finished with value: 5.145671081542969 and parameters: {'lambda': 0.016244468636990524, 'alpha': 0.003386064148271423, 'learning_rate': 0.018, 'n_estimators': 1000, 'max_depth': 3, 'random_state': 2020, 'n_in': 2, 'roll': 15}. Best is trial 17 with value: 5.145671081542969.\u001b[0m\n",
            "\u001b[32m[I 2022-07-30 17:56:19,413]\u001b[0m Trial 18 finished with value: 5.159341812133789 and parameters: {'lambda': 0.008553184584282586, 'alpha': 0.003167048897694734, 'learning_rate': 0.018, 'n_estimators': 1000, 'max_depth': 5, 'random_state': 2020, 'n_in': 2, 'roll': 15}. Best is trial 17 with value: 5.145671081542969.\u001b[0m\n",
            "\u001b[32m[I 2022-07-30 17:56:26,224]\u001b[0m Trial 19 finished with value: 5.159341812133789 and parameters: {'lambda': 0.008299770113707318, 'alpha': 0.0024684300778933083, 'learning_rate': 0.018, 'n_estimators': 1000, 'max_depth': 5, 'random_state': 2020, 'n_in': 2, 'roll': 15}. Best is trial 17 with value: 5.145671081542969.\u001b[0m\n",
            "\u001b[32m[I 2022-07-30 17:56:27,881]\u001b[0m Trial 20 finished with value: 7.312517738342285 and parameters: {'lambda': 0.010202433062606002, 'alpha': 0.0010586314078023967, 'learning_rate': 0.018, 'n_estimators': 100, 'max_depth': 5, 'random_state': 2020, 'n_in': 10, 'roll': 30}. Best is trial 17 with value: 5.145671081542969.\u001b[0m\n",
            "\u001b[32m[I 2022-07-30 17:56:34,699]\u001b[0m Trial 21 finished with value: 5.159341812133789 and parameters: {'lambda': 0.007284180688871768, 'alpha': 0.003125829382292605, 'learning_rate': 0.018, 'n_estimators': 1000, 'max_depth': 5, 'random_state': 2020, 'n_in': 2, 'roll': 15}. Best is trial 17 with value: 5.145671081542969.\u001b[0m\n",
            "\u001b[32m[I 2022-07-30 17:56:41,447]\u001b[0m Trial 22 finished with value: 5.159341812133789 and parameters: {'lambda': 0.005329356764938971, 'alpha': 0.003070371398691033, 'learning_rate': 0.018, 'n_estimators': 1000, 'max_depth': 5, 'random_state': 2020, 'n_in': 2, 'roll': 15}. Best is trial 17 with value: 5.145671081542969.\u001b[0m\n",
            "\u001b[32m[I 2022-07-30 17:56:48,265]\u001b[0m Trial 23 finished with value: 5.159341812133789 and parameters: {'lambda': 0.0031815102968941016, 'alpha': 0.0019818673930970697, 'learning_rate': 0.018, 'n_estimators': 1000, 'max_depth': 5, 'random_state': 2020, 'n_in': 2, 'roll': 15}. Best is trial 17 with value: 5.145671081542969.\u001b[0m\n",
            "\u001b[32m[I 2022-07-30 17:56:55,125]\u001b[0m Trial 24 finished with value: 5.159341812133789 and parameters: {'lambda': 0.0029684070187447724, 'alpha': 0.004315416502050333, 'learning_rate': 0.018, 'n_estimators': 1000, 'max_depth': 5, 'random_state': 2020, 'n_in': 2, 'roll': 15}. Best is trial 17 with value: 5.145671081542969.\u001b[0m\n",
            "\u001b[32m[I 2022-07-30 17:57:08,501]\u001b[0m Trial 25 finished with value: 6.151356506347656 and parameters: {'lambda': 0.01567705036726364, 'alpha': 0.003985328572182749, 'learning_rate': 0.018, 'n_estimators': 900, 'max_depth': 5, 'random_state': 2020, 'n_in': 7, 'roll': 2}. Best is trial 17 with value: 5.145671081542969.\u001b[0m\n",
            "\u001b[32m[I 2022-07-30 17:57:35,849]\u001b[0m Trial 26 finished with value: 6.384532928466797 and parameters: {'lambda': 0.00477778960068178, 'alpha': 0.0015923304982381056, 'learning_rate': 0.016, 'n_estimators': 700, 'max_depth': 7, 'random_state': 2020, 'n_in': 15, 'roll': 20}. Best is trial 17 with value: 5.145671081542969.\u001b[0m\n",
            "\u001b[32m[I 2022-07-30 17:57:38,902]\u001b[0m Trial 27 finished with value: 6.301954460144043 and parameters: {'lambda': 0.0034542402244554797, 'alpha': 0.01645260220262434, 'learning_rate': 0.01, 'n_estimators': 500, 'max_depth': 5, 'random_state': 2020, 'n_in': 2, 'roll': 5}. Best is trial 17 with value: 5.145671081542969.\u001b[0m\n",
            "\u001b[32m[I 2022-07-30 17:57:40,765]\u001b[0m Trial 28 finished with value: 6.527473831176758 and parameters: {'lambda': 0.002579323335104028, 'alpha': 0.036828490032260325, 'learning_rate': 0.012, 'n_estimators': 300, 'max_depth': 5, 'random_state': 2020, 'n_in': 2, 'roll': 10}. Best is trial 17 with value: 5.145671081542969.\u001b[0m\n",
            "\u001b[32m[I 2022-07-30 17:57:50,224]\u001b[0m Trial 29 finished with value: 5.296084594726563 and parameters: {'lambda': 0.01456580483501101, 'alpha': 0.005910347600328094, 'learning_rate': 0.014, 'n_estimators': 1000, 'max_depth': 7, 'random_state': 2020, 'n_in': 2, 'roll': 15}. Best is trial 17 with value: 5.145671081542969.\u001b[0m\n",
            "\u001b[32m[I 2022-07-30 17:58:18,791]\u001b[0m Trial 30 finished with value: 6.168861770629883 and parameters: {'lambda': 0.0010253602102130142, 'alpha': 3.2549114276980022, 'learning_rate': 0.018, 'n_estimators': 900, 'max_depth': 7, 'random_state': 2020, 'n_in': 10, 'roll': 15}. Best is trial 17 with value: 5.145671081542969.\u001b[0m\n",
            "\u001b[32m[I 2022-07-30 17:58:25,836]\u001b[0m Trial 31 finished with value: 5.159341812133789 and parameters: {'lambda': 0.018043748072851053, 'alpha': 0.0026434606982080047, 'learning_rate': 0.018, 'n_estimators': 1000, 'max_depth': 5, 'random_state': 2020, 'n_in': 2, 'roll': 15}. Best is trial 17 with value: 5.145671081542969.\u001b[0m\n",
            "\u001b[32m[I 2022-07-30 17:58:32,725]\u001b[0m Trial 32 finished with value: 5.159341812133789 and parameters: {'lambda': 0.03915537548929893, 'alpha': 0.001036708885197353, 'learning_rate': 0.018, 'n_estimators': 1000, 'max_depth': 5, 'random_state': 2020, 'n_in': 2, 'roll': 15}. Best is trial 17 with value: 5.145671081542969.\u001b[0m\n",
            "\u001b[32m[I 2022-07-30 17:58:39,580]\u001b[0m Trial 33 finished with value: 5.159341812133789 and parameters: {'lambda': 0.037898871596806646, 'alpha': 0.0010112537153907036, 'learning_rate': 0.018, 'n_estimators': 1000, 'max_depth': 5, 'random_state': 2020, 'n_in': 2, 'roll': 15}. Best is trial 17 with value: 5.145671081542969.\u001b[0m\n",
            "\u001b[32m[I 2022-07-30 17:58:52,357]\u001b[0m Trial 34 finished with value: 6.048184776306153 and parameters: {'lambda': 0.04795034465367584, 'alpha': 0.0017501097840820598, 'learning_rate': 0.014, 'n_estimators': 1000, 'max_depth': 5, 'random_state': 2020, 'n_in': 5, 'roll': 15}. Best is trial 17 with value: 5.145671081542969.\u001b[0m\n",
            "\u001b[32m[I 2022-07-30 17:58:53,148]\u001b[0m Trial 35 finished with value: 9.499103546142578 and parameters: {'lambda': 0.009293212012564372, 'alpha': 0.013320839617284324, 'learning_rate': 0.018, 'n_estimators': 100, 'max_depth': 9, 'random_state': 2020, 'n_in': 2, 'roll': 10}. Best is trial 17 with value: 5.145671081542969.\u001b[0m\n",
            "\u001b[32m[I 2022-07-30 17:59:04,726]\u001b[0m Trial 36 finished with value: 5.257571029663086 and parameters: {'lambda': 0.006234143067219586, 'alpha': 0.0023882761433469935, 'learning_rate': 0.018, 'n_estimators': 500, 'max_depth': 5, 'random_state': 2020, 'n_in': 15, 'roll': 2}. Best is trial 17 with value: 5.145671081542969.\u001b[0m\n",
            "\u001b[32m[I 2022-07-30 17:59:16,834]\u001b[0m Trial 37 finished with value: 5.369798088073731 and parameters: {'lambda': 0.1265328164002372, 'alpha': 0.0011207459526470713, 'learning_rate': 0.012, 'n_estimators': 1000, 'max_depth': 9, 'random_state': 2020, 'n_in': 2, 'roll': 15}. Best is trial 17 with value: 5.145671081542969.\u001b[0m\n",
            "\u001b[32m[I 2022-07-30 17:59:22,368]\u001b[0m Trial 38 finished with value: 5.873945426940918 and parameters: {'lambda': 0.2913285571736379, 'alpha': 0.0010113441979638731, 'learning_rate': 0.018, 'n_estimators': 300, 'max_depth': 5, 'random_state': 2020, 'n_in': 10, 'roll': 15}. Best is trial 17 with value: 5.145671081542969.\u001b[0m\n",
            "\u001b[32m[I 2022-07-30 17:59:52,483]\u001b[0m Trial 39 finished with value: 7.079092407226563 and parameters: {'lambda': 0.020613794007626814, 'alpha': 0.025972047220459912, 'learning_rate': 0.016, 'n_estimators': 1000, 'max_depth': 9, 'random_state': 2020, 'n_in': 7, 'roll': 5}. Best is trial 17 with value: 5.145671081542969.\u001b[0m\n",
            "\u001b[32m[I 2022-07-30 18:00:00,642]\u001b[0m Trial 40 finished with value: 6.404572582244873 and parameters: {'lambda': 0.01088149373670992, 'alpha': 0.1891421193565257, 'learning_rate': 0.02, 'n_estimators': 700, 'max_depth': 5, 'random_state': 2020, 'n_in': 5, 'roll': 10}. Best is trial 17 with value: 5.145671081542969.\u001b[0m\n",
            "\u001b[32m[I 2022-07-30 18:00:07,443]\u001b[0m Trial 41 finished with value: 5.159341812133789 and parameters: {'lambda': 0.02032659486628766, 'alpha': 0.0029035766309112973, 'learning_rate': 0.018, 'n_estimators': 1000, 'max_depth': 5, 'random_state': 2020, 'n_in': 2, 'roll': 15}. Best is trial 17 with value: 5.145671081542969.\u001b[0m\n",
            "\u001b[32m[I 2022-07-30 18:00:14,357]\u001b[0m Trial 42 finished with value: 5.159341812133789 and parameters: {'lambda': 0.0016952400732683137, 'alpha': 0.0019570323806160778, 'learning_rate': 0.018, 'n_estimators': 1000, 'max_depth': 5, 'random_state': 2020, 'n_in': 2, 'roll': 15}. Best is trial 17 with value: 5.145671081542969.\u001b[0m\n",
            "\u001b[32m[I 2022-07-30 18:00:21,144]\u001b[0m Trial 43 finished with value: 5.16661491394043 and parameters: {'lambda': 0.058752251599627846, 'alpha': 0.0014630344213218249, 'learning_rate': 0.018, 'n_estimators': 1000, 'max_depth': 5, 'random_state': 2020, 'n_in': 2, 'roll': 20}. Best is trial 17 with value: 5.145671081542969.\u001b[0m\n",
            "\u001b[32m[I 2022-07-30 18:00:47,825]\u001b[0m Trial 44 finished with value: 7.103069496154785 and parameters: {'lambda': 0.0412582430327055, 'alpha': 0.004160323912292565, 'learning_rate': 0.018, 'n_estimators': 1000, 'max_depth': 5, 'random_state': 2020, 'n_in': 15, 'roll': 15}. Best is trial 17 with value: 5.145671081542969.\u001b[0m\n",
            "\u001b[32m[I 2022-07-30 18:00:54,688]\u001b[0m Trial 45 finished with value: 5.205663871765137 and parameters: {'lambda': 0.004420135411531292, 'alpha': 0.008306693414897296, 'learning_rate': 0.01, 'n_estimators': 1000, 'max_depth': 5, 'random_state': 2020, 'n_in': 2, 'roll': 15}. Best is trial 17 with value: 5.145671081542969.\u001b[0m\n",
            "\u001b[32m[I 2022-07-30 18:00:55,716]\u001b[0m Trial 46 finished with value: 10.80748119354248 and parameters: {'lambda': 0.0019940483519595054, 'alpha': 0.006382149175988236, 'learning_rate': 0.014, 'n_estimators': 100, 'max_depth': 3, 'random_state': 2020, 'n_in': 2, 'roll': 30}. Best is trial 17 with value: 5.145671081542969.\u001b[0m\n",
            "\u001b[32m[I 2022-07-30 18:00:59,486]\u001b[0m Trial 47 finished with value: 5.3596343994140625 and parameters: {'lambda': 0.006409968083497149, 'alpha': 0.002352087838162217, 'learning_rate': 0.018, 'n_estimators': 300, 'max_depth': 7, 'random_state': 2020, 'n_in': 2, 'roll': 15}. Best is trial 17 with value: 5.145671081542969.\u001b[0m\n",
            "\u001b[32m[I 2022-07-30 18:01:04,055]\u001b[0m Trial 48 finished with value: 5.1399589538574215 and parameters: {'lambda': 0.0015155812992030807, 'alpha': 0.001628468533801476, 'learning_rate': 0.02, 'n_estimators': 1000, 'max_depth': 3, 'random_state': 2020, 'n_in': 2, 'roll': 15}. Best is trial 48 with value: 5.1399589538574215.\u001b[0m\n",
            "\u001b[32m[I 2022-07-30 18:01:08,474]\u001b[0m Trial 49 finished with value: 4.703444099426269 and parameters: {'lambda': 0.0013368807529774332, 'alpha': 0.0015670687634701816, 'learning_rate': 0.02, 'n_estimators': 1000, 'max_depth': 3, 'random_state': 2020, 'n_in': 2, 'roll': 20}. Best is trial 49 with value: 4.703444099426269.\u001b[0m\n"
          ]
        },
        {
          "output_type": "stream",
          "name": "stdout",
          "text": [
            "Number of finished trials: 50\n",
            "Best trial: {'lambda': 0.0013368807529774332, 'alpha': 0.0015670687634701816, 'learning_rate': 0.02, 'n_estimators': 1000, 'max_depth': 3, 'random_state': 2020, 'n_in': 2, 'roll': 20}\n"
          ]
        }
      ]
    },
    {
      "cell_type": "markdown",
      "source": [
        "# Evaluation"
      ],
      "metadata": {
        "id": "ArY9lP-sI4pH"
      }
    },
    {
      "cell_type": "markdown",
      "source": [
        "## Final Model"
      ],
      "metadata": {
        "id": "y4KbVTGJI_o3"
      }
    },
    {
      "cell_type": "markdown",
      "source": [
        "We run the entire pipeline using the results we obtained from optuna."
      ],
      "metadata": {
        "id": "qPw7isTrVCW8"
      }
    },
    {
      "cell_type": "code",
      "source": [
        "# study.best_trial.params"
      ],
      "metadata": {
        "colab": {
          "base_uri": "https://localhost:8080/"
        },
        "id": "ajXXc5YMR6I_",
        "outputId": "1fa67dd9-2d93-4449-8ee6-baf7498b4842"
      },
      "execution_count": null,
      "outputs": [
        {
          "output_type": "execute_result",
          "data": {
            "text/plain": [
              "{'alpha': 0.0015670687634701816,\n",
              " 'lambda': 0.0013368807529774332,\n",
              " 'learning_rate': 0.02,\n",
              " 'max_depth': 3,\n",
              " 'n_estimators': 1000,\n",
              " 'n_in': 2,\n",
              " 'random_state': 2020,\n",
              " 'roll': 20}"
            ]
          },
          "metadata": {},
          "execution_count": 78
        }
      ]
    },
    {
      "cell_type": "code",
      "source": [
        "# The results I obtained after 50 trials\n",
        "# best_params = study.best_trial.params\n",
        "best_params =  {'alpha': 0.0015670687634701816,\n",
        " 'lambda': 0.0013368807529774332,\n",
        " 'learning_rate': 0.02,\n",
        " 'max_depth': 3,\n",
        " 'n_estimators': 1000,\n",
        " 'n_in': 2,\n",
        " 'random_state': 2020,\n",
        " 'roll': 20}"
      ],
      "metadata": {
        "id": "wnHFjS7dMu5R"
      },
      "execution_count": null,
      "outputs": []
    },
    {
      "cell_type": "code",
      "source": [
        "n_in = best_params['n_in']\n",
        "roll = best_params['roll']\n",
        "\n",
        "X,y = generate_supervised(series,n_in=n_in,roll=roll)\n",
        "# split dataset\n",
        "X_train, X_test = train_test_split(X, 20)\n",
        "y_train, y_test = train_test_split(y, 20)\n"
      ],
      "metadata": {
        "id": "FCZa80BLMgkY"
      },
      "execution_count": null,
      "outputs": []
    },
    {
      "cell_type": "code",
      "source": [
        "model = XGBRegressor(objective='reg:squarederror', **best_params)\n",
        "\n",
        "errors, y, yhat = walk_forward_validation(model,X_train,y_train,X_test,y_test,20)"
      ],
      "metadata": {
        "id": "M5W0NX8PI-9G"
      },
      "execution_count": null,
      "outputs": []
    },
    {
      "cell_type": "markdown",
      "source": [
        "## Results"
      ],
      "metadata": {
        "id": "uQ68mdSfJCHh"
      }
    },
    {
      "cell_type": "markdown",
      "source": [
        "Let see the results !"
      ],
      "metadata": {
        "id": "uVvHuJgQVQjK"
      }
    },
    {
      "cell_type": "code",
      "source": [
        "print('Errors: {0}'.format(errors))\n",
        "# plot expected vs preducted\n",
        "pyplot.plot(y, label='Expected')\n",
        "pyplot.plot(yhat, label='Predicted')\n",
        "pyplot.legend()\n",
        "\n",
        "pyplot.show()"
      ],
      "metadata": {
        "id": "BHEy6YeGd2ga",
        "outputId": "2ae4143f-71ef-43d1-96e1-645dcaaf433d",
        "colab": {
          "base_uri": "https://localhost:8080/",
          "height": 282
        }
      },
      "execution_count": null,
      "outputs": [
        {
          "output_type": "stream",
          "name": "stdout",
          "text": [
            "Errors: {'mae': 4.703444099426269, 'rmse': 5.969725553871381}\n"
          ]
        },
        {
          "output_type": "display_data",
          "data": {
            "text/plain": [
              "<Figure size 432x288 with 1 Axes>"
            ],
            "image/png": "[encoded data removed]"
          },
          "metadata": {
            "needs_background": "light"
          }
        }
      ]
    },
    {
      "cell_type": "markdown",
      "source": [
        "🎆🎇🎈🎉 🎊 We achieve **4.70** on MAE compared to **5.95** on original post!!"
      ],
      "metadata": {
        "id": "uNnVHbFqSOnq"
      }
    },
    {
      "cell_type": "markdown",
      "source": [
        "# Explanation (XAI)"
      ],
      "metadata": {
        "id": "l78oKCm0JGbG"
      }
    },
    {
      "cell_type": "code",
      "source": [
        "# plot feature importance using built-in function\n",
        "from numpy import loadtxt\n",
        "from xgboost import XGBClassifier\n",
        "from xgboost import plot_importance\n",
        "from matplotlib import pyplot\n",
        "\n",
        "# plot feature importance\n",
        "plot_importance(model)\n",
        "pyplot.show()"
      ],
      "metadata": {
        "id": "17vxC4ckd8SN",
        "colab": {
          "base_uri": "https://localhost:8080/",
          "height": 295
        },
        "outputId": "00b3d3df-86d7-4f34-a7de-a782341fd06f"
      },
      "execution_count": null,
      "outputs": [
        {
          "output_type": "display_data",
          "data": {
            "text/plain": [
              "<Figure size 432x288 with 1 Axes>"
            ],
            "image/png": "[encoded data removed]"
          },
          "metadata": {
            "needs_background": "light"
          }
        }
      ]
    },
    {
      "cell_type": "markdown",
      "source": [
        "| fi     | fi+1    | fi+2         | fi+3    |\n",
        "|--------|---------|--------------|---------|\n",
        "| births | day_sin | rolling_mean | weekend |"
      ],
      "metadata": {
        "id": "4xLll6tSN9Vo"
      }
    },
    {
      "cell_type": "markdown",
      "source": [
        "We can see that :\n",
        "* features are indeed the past observations (f0,f4)\n",
        "* but also we see that f2 (rolling mean) has a great impact! That's interesting because we tried the setup with more input days but it didn't work as great, we can ask ourselves **Why is rolling mean more predictive that actual previous vaues?**"
      ],
      "metadata": {
        "id": "AjZOLLSWNRl9"
      }
    },
    {
      "cell_type": "markdown",
      "source": [
        "# Conclusion"
      ],
      "metadata": {
        "id": "xLQUvq9rJLG2"
      }
    },
    {
      "cell_type": "markdown",
      "source": [
        "In this notebook, you discovered how to develop an XGBoost model for time series forecasting, make hyperparameter search using optuna and look at model decision's features. We can see a boost in precision by adding just one feature, even though the dataset is quite simple, there's some room for improvement. I strongly encourage you to try (and maybe share your results).\n",
        "\n",
        "Specifically, you learned:\n",
        "\n",
        "XGBoost is an implementation of the gradient boosting ensemble algorithm for classification and regression.\n",
        "Time series datasets can be transformed into supervised learning using a sliding-window representation.\n",
        "How to fit, evaluate, and make predictions with an XGBoost model for time series forecasting.\n"
      ],
      "metadata": {
        "id": "KNKP9p1OTgZL"
      }
    },
    {
      "cell_type": "markdown",
      "source": [
        "# References\n",
        "\n",
        "* [How to Use XGBoost for Time Series Forecasting\n",
        "](https://machinelearningmastery.com/xgboost-for-time-series-forecasting/)\n",
        "* [Daily total female births in California, 1959\n",
        "](https://www.kaggle.com/datasets/dougcresswell/daily-total-female-births-in-california-1959)\n",
        "* [XGBoost & Catboost Using Optuna 🏄🏻‍♂️](https://www.kaggle.com/code/hamzaghanmi/xgboost-catboost-using-optuna?scriptVersionId=94510532)"
      ],
      "metadata": {
        "id": "8907_c-AJRif"
      }
    },
    {
      "cell_type": "code",
      "source": [
        ""
      ],
      "metadata": {
        "id": "rpBEOXZLJSY4"
      },
      "execution_count": null,
      "outputs": []
    }
  ],
  "metadata": {
    "colab": {
      "name": "XGBoost for Time Series Forecasting [BETA]",
      "provenance": [],
      "toc_visible": true,
      "include_colab_link": true
    },
    "kernelspec": {
      "display_name": "Python 3",
      "name": "python3"
    },
    "accelerator": "GPU",
    "gpuClass": "standard"
  },
  "nbformat": 4,
  "nbformat_minor": 0
}