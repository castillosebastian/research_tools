{
 "cells": [
  {
   "cell_type": "markdown",
   "metadata": {},
   "source": [
    "# Whats is learn in machine learning?"
   ]
  },
  {
   "cell_type": "markdown",
   "metadata": {},
   "source": [
    "Key ideas\n",
    "- \"Learning, in the context of machine learning, describes an automatic search process for better representations\"\n",
    "\n",
    "*\"machine learning is, technically: searching for useful representa-\n",
    "tions of some input data, within a predefined space of possibilities, using guidance\n",
    "from a feedback signal.\"*\n",
    "\n",
    "- \"Learning of weights\" (i.e. it means to learn a model -function- that represents the data in a proper way.\n"
   ]
  },
  {
   "cell_type": "code",
   "execution_count": null,
   "metadata": {},
   "outputs": [],
   "source": []
  }
 ],
 "metadata": {
  "language_info": {
   "name": "python"
  },
  "orig_nbformat": 4
 },
 "nbformat": 4,
 "nbformat_minor": 2
}
