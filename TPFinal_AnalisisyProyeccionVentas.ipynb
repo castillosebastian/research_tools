{
  "nbformat": 4,
  "nbformat_minor": 0,
  "metadata": {
    "colab": {
      "name": "TPFinal_AnalisisyProyeccionVentas.ipynb",
      "provenance": [],
      "collapsed_sections": [],
      "toc_visible": true,
      "authorship_tag": "ABX9TyP6RQTBHMQiNQAAVZepWsH+",
      "include_colab_link": true
    },
    "kernelspec": {
      "name": "python3",
      "display_name": "Python 3"
    },
    "language_info": {
      "name": "python"
    }
  },
  "cells": [
    {
      "cell_type": "markdown",
      "metadata": {
        "id": "view-in-github",
        "colab_type": "text"
      },
      "source": [
        "<a href=\"https://colab.research.google.com/github/castillosebastian/research_tools/blob/master/TPFinal_AnalisisyProyeccionVentas.ipynb\" target=\"_parent\"><img src=\"https://colab.research.google.com/assets/colab-badge.svg\" alt=\"Open In Colab\"/></a>"
      ]
    },
    {
      "cell_type": "markdown",
      "metadata": {
        "id": "64SLTeYHJQ4I"
      },
      "source": [
        "# Trabajo Final - Aprendizaje Automático, UTN-Paraná, 2021\n",
        "# Prof.Dr. Franco Ronchetti\n",
        "\n",
        "## Título: \n",
        "**\"Análisis y proyección de Ventas en XXX\"**\n",
        "## Alumnos:  \n",
        "  - Cívico Sergio \n",
        "  - Shai Blejar\n",
        "  - Castillo Claudio Sebastian"
      ]
    },
    {
      "cell_type": "markdown",
      "metadata": {
        "id": "Ys-2SJnWUzbM"
      },
      "source": [
        "# Revisión Bibliográfica y Recursos\n",
        "- Predicting Future Sales of Retail Products using Machine Learning\n",
        "Devendra Swami, Alay Dilipbhai Shah, Subhrajeet K B Ray, https://arxiv.org/pdf/2008.07779.pdf\n",
        "- Demand forecasting: Using machine learning to predict retail sales,Pascal Coggia and  Jérôme Petit, TECHNATIVE, agosto 2021, https://technative.io/demand-forecasting-machine-learning-retail-sales/. \n",
        "- Facebook Prophet, open-sourced by Facebook research, ejemplo implementación en: https://www.kaggle.com/jagangupta/time-series-basics-exploring-traditional-ts \n",
        "- Retail sales forecast,ALBERTO REMOTO, on Kaggle: https://www.kaggle.com/aremoto/retail-sales-forecast\n",
        "- Playground Prediction Competition: Predict Future Sales, on Kaggle, https://www.kaggle.com/c/competitive-data-science-predict-future-sales/code?competitionId=8587&sortBy=voteCount&language=Python\n",
        "- Encoding de variables categóricas: https://pbpython.com/categorical-encoding.html "
      ]
    },
    {
      "cell_type": "markdown",
      "metadata": {
        "id": "fmqEM5BrYfJl"
      },
      "source": [
        "# Modelos de datasets\n",
        "\n",
        "The target variable, or predictor, is: **Sales** (if forecast: sales of the next period). \n",
        "1. Day of the month.\n",
        "2. Month.\n",
        "3. Day of the week.\n",
        "4. Promotion.\n",
        "5. State holidays.\n",
        "6. School holidays.\n",
        "7. Sales of the 7 previous days.\n",
        "8. Promotions of the 7 previous days.\n",
        "\n",
        "Otros datos importante\n",
        "9. Price\n",
        "10. Location\n",
        "11. Sales done on a day for an item\n",
        "\n",
        "\n"
      ]
    },
    {
      "cell_type": "markdown",
      "metadata": {
        "id": "9Gk2iZPillFO"
      },
      "source": [
        "# Fuentes\n",
        "\n",
        "- Ventas Minoristas: Australian Bureau of Statistics, Retail Trade, Australia Monthly and quarterly estimates of turnover and volumes for retail businesses, including store and online sales. Reference period October 2021. \n",
        "    + Table 1. Retail turnover, by industry group: https://www.abs.gov.au/statistics/industry/retail-and-wholesale-trade/retail-trade-australia/oct-2021/850101.xls\n",
        "    + Table 3. Retail turnover, by state: https://www.abs.gov.au/statistics/industry/retail-and-wholesale-trade/retail-trade-australia/oct-2021/850103.xls \n",
        "\n",
        "\n",
        "\n",
        "\n",
        "\n"
      ]
    },
    {
      "cell_type": "markdown",
      "metadata": {
        "id": "9-HoR9q6ydAw"
      },
      "source": [
        "# Paquetes y herramientas de análisis"
      ]
    },
    {
      "cell_type": "code",
      "metadata": {
        "id": "1l5UH4w8MRQk"
      },
      "source": [
        "# data wrangling\n",
        "import pandas as pd\n",
        "import numpy as np\n",
        "import os\n",
        "import nltk\n",
        "\n",
        "# data visualization\n",
        "import matplotlib.pyplot as plt\n",
        "import seaborn as sns\n",
        "import matplotlib.dates as mdates\n",
        "\n",
        "# machine learning\n",
        "from sklearn.preprocessing import StandardScaler\n",
        "import sklearn.linear_model as skl_lm\n",
        "from sklearn import preprocessing\n",
        "from sklearn import neighbors\n",
        "from sklearn.metrics import confusion_matrix, classification_report, precision_score\n",
        "from sklearn.model_selection import train_test_split\n",
        "import statsmodels.api as sm\n",
        "import statsmodels.formula.api as smf\n",
        "\n",
        "# others\n",
        "import bs4\n",
        "import io\n",
        "import requests\n",
        "from google.colab import drive\n",
        "import json\n",
        "\n",
        "# initialize some package settings\n",
        "sns.set(style=\"whitegrid\", color_codes=True, font_scale=1.3)\n",
        "%matplotlib inline"
      ],
      "execution_count": 282,
      "outputs": []
    },
    {
      "cell_type": "code",
      "metadata": {
        "id": "jJAxQeOi3eRz",
        "colab": {
          "base_uri": "https://localhost:8080/"
        },
        "outputId": "bd09ba18-9957-4139-95e8-0d3d04873ef2"
      },
      "source": [
        "from google.colab import drive # import drive from google colab\n",
        "\n",
        "ROOT = \"/content/drive\"     # default location for the drive\n",
        "print(ROOT)                 # print content of ROOT (Optional)\n",
        "\n",
        "drive.mount(ROOT)           # we mount the google drive at /content/drive"
      ],
      "execution_count": 283,
      "outputs": [
        {
          "output_type": "stream",
          "name": "stdout",
          "text": [
            "/content/drive\n",
            "Drive already mounted at /content/drive; to attempt to forcibly remount, call drive.mount(\"/content/drive\", force_remount=True).\n"
          ]
        }
      ]
    },
    {
      "cell_type": "code",
      "metadata": {
        "id": "7_qSVGUt4ASA",
        "colab": {
          "base_uri": "https://localhost:8080/"
        },
        "outputId": "7a3b4f79-fa3d-4b0c-8eb9-a89a1a47be8c"
      },
      "source": [
        "%cd  'drive/My Drive/Colab Notebooks/data'"
      ],
      "execution_count": 284,
      "outputs": [
        {
          "output_type": "stream",
          "name": "stdout",
          "text": [
            "[Errno 2] No such file or directory: 'drive/My Drive/Colab Notebooks/data'\n",
            "/content/drive/My Drive/Colab Notebooks/data\n"
          ]
        }
      ]
    },
    {
      "cell_type": "code",
      "metadata": {
        "id": "rnDT50z377Nk",
        "colab": {
          "base_uri": "https://localhost:8080/"
        },
        "outputId": "cde67473-7e5d-4cc4-cb38-f344e2e3de18"
      },
      "source": [
        "%ls"
      ],
      "execution_count": 285,
      "outputs": [
        {
          "output_type": "stream",
          "name": "stdout",
          "text": [
            "corpus_fallosmetdat.json  reorder_buyer  sales2020.csv    tbfallos.json\n",
            "corpus_textosfallos.json  sales2018.csv  sales2021.csv    tbmetdat.json\n",
            "Libro1.csv                sales2019.csv  tbdoctrina.json\n"
          ]
        }
      ]
    },
    {
      "cell_type": "markdown",
      "metadata": {
        "id": "qnBNSOIX99B1"
      },
      "source": [
        "# Presentación del Dataset de análisis"
      ]
    },
    {
      "cell_type": "code",
      "metadata": {
        "colab": {
          "base_uri": "https://localhost:8080/"
        },
        "id": "4_nCV8ieLoRK",
        "outputId": "54a3407e-57d7-43ed-c1ce-4a78bb447460"
      },
      "source": [
        "sales2018 = pd.read_csv(\"sales2018.csv\", sep= \";\", header=0, encoding='latin-1', skip_blank_lines=True)\n",
        "#sales2019 = pd.read_csv(\"sales2019.csv\", sep= \";\", header=0, encoding='latin-1', skip_blank_lines=True) #roto\n",
        "sales2020 = pd.read_csv(\"sales2020.csv\", sep= \";\", header=0, encoding='latin-1')\n",
        "#sales2021 = pd.read_csv('sales2021.csv', sep= \";\", header=0, encoding='latin-1', skip_blank_lines=True) # roto"
      ],
      "execution_count": 286,
      "outputs": [
        {
          "output_type": "stream",
          "name": "stderr",
          "text": [
            "/usr/local/lib/python3.7/dist-packages/IPython/core/interactiveshell.py:2718: DtypeWarning: Columns (1,8,11,13,14,15,19,20,27,46,48,49,53,56,57,60,62,63,64,65,67,69,70) have mixed types.Specify dtype option on import or set low_memory=False.\n",
            "  interactivity=interactivity, compiler=compiler, result=result)\n",
            "/usr/local/lib/python3.7/dist-packages/IPython/core/interactiveshell.py:2718: DtypeWarning: Columns (1,11,13,14,15,17,18,24,25,28,29,32,33,34,35,36,41,42,45,48,53,54,56,57,60,70) have mixed types.Specify dtype option on import or set low_memory=False.\n",
            "  interactivity=interactivity, compiler=compiler, result=result)\n"
          ]
        }
      ]
    },
    {
      "cell_type": "code",
      "metadata": {
        "id": "HR1YOmtGOOZM"
      },
      "source": [
        "frames = [sales2018, sales2020] # sales2018, sales2021\n",
        "sales = pd.concat(frames, axis=0)"
      ],
      "execution_count": 287,
      "outputs": []
    },
    {
      "cell_type": "code",
      "metadata": {
        "colab": {
          "base_uri": "https://localhost:8080/"
        },
        "id": "7HXPZ1YhRlM6",
        "outputId": "72cb1429-bc53-44be-e3ec-123bf9780010"
      },
      "source": [
        "sales.shape"
      ],
      "execution_count": 288,
      "outputs": [
        {
          "output_type": "execute_result",
          "data": {
            "text/plain": [
              "(412438, 71)"
            ]
          },
          "metadata": {},
          "execution_count": 288
        }
      ]
    },
    {
      "cell_type": "code",
      "metadata": {
        "colab": {
          "base_uri": "https://localhost:8080/"
        },
        "id": "MXQ9NUNHM8te",
        "outputId": "c68ce374-bf77-4341-a676-3801bd382f39"
      },
      "source": [
        "sales.info()"
      ],
      "execution_count": null,
      "outputs": [
        {
          "output_type": "stream",
          "name": "stdout",
          "text": [
            "<class 'pandas.core.frame.DataFrame'>\n",
            "Int64Index: 412438 entries, 0 to 226158\n",
            "Data columns (total 71 columns):\n",
            " #   Column            Non-Null Count   Dtype  \n",
            "---  ------            --------------   -----  \n",
            " 0   db_source         412438 non-null  int64  \n",
            " 1   so_order_no       412438 non-null  object \n",
            " 2   so_bo_suffix      339554 non-null  object \n",
            " 3   so_cust_code      412438 non-null  object \n",
            " 4   so_order_date     412438 non-null  object \n",
            " 5   so_delivery_date  412438 non-null  object \n",
            " 6   MTH               412438 non-null  int64  \n",
            " 7   WEEK              412438 non-null  int64  \n",
            " 8   WEEKDAY           412438 non-null  object \n",
            " 9   DAY               412438 non-null  object \n",
            " 10  FISCAL YEAR       412438 non-null  object \n",
            " 11  YEAR              412438 non-null  object \n",
            " 12  delivery_date     412438 non-null  object \n",
            " 13  order_packages    412438 non-null  object \n",
            " 14  so_order_weight   412438 non-null  object \n",
            " 15  job_code          330931 non-null  object \n",
            " 16  so_order_status   412438 non-null  int64  \n",
            " 17  reason_code       330147 non-null  object \n",
            " 18  order_type_code   330848 non-null  object \n",
            " 19  so_whse_code      412438 non-null  object \n",
            " 20  territory_code    412438 non-null  object \n",
            " 21  STORE             408168 non-null  object \n",
            " 22  so_cust_type      412432 non-null  object \n",
            " 23  so_rep_code       391354 non-null  object \n",
            " 24  tax_exemption_no  330931 non-null  object \n",
            " 25  so_terms_disc     330931 non-null  object \n",
            " 26  so_price_code     412432 non-null  object \n",
            " 27  cust_reference    343274 non-null  object \n",
            " 28  so_invoice_no     412438 non-null  object \n",
            " 29  credit_note_no    412438 non-null  object \n",
            " 30  so_invoice_date   412438 non-null  object \n",
            " 31  processing_date   412438 non-null  object \n",
            " 32  total_amount      412438 non-null  object \n",
            " 33  total_tax_adj     412438 non-null  object \n",
            " 34  shipped_tax_adj   412438 non-null  object \n",
            " 35  total_charges     412438 non-null  object \n",
            " 36  so_curr_code      330933 non-null  object \n",
            " 37  so_user_id_code   412438 non-null  object \n",
            " 38  so_order_source   412438 non-null  object \n",
            " 39  spare_alpha2_2    412438 non-null  object \n",
            " 40  tax_calc_level    412438 non-null  object \n",
            " 41  so_store_id       405370 non-null  object \n",
            " 42  so_terminal       412438 non-null  object \n",
            " 43  so_operator_code  405370 non-null  object \n",
            " 44  pos_process       412438 non-null  object \n",
            " 45  so_dif_flag       330931 non-null  object \n",
            " 46  so_document_no    412438 non-null  object \n",
            " 47  so_bo_suffix2     339554 non-null  object \n",
            " 48  sol_line_seq      412438 non-null  object \n",
            " 49  reorder_buyer     412438 non-null  object \n",
            " 50  stk_description   412438 non-null  object \n",
            " 51  stk_desc_line_2   412435 non-null  object \n",
            " 52  stk_desc_line_3   404466 non-null  object \n",
            " 53  sol_ordered_qty   412412 non-null  object \n",
            " 54  sol_line_amount   412128 non-null  object \n",
            " 55  stk_description3  411921 non-null  object \n",
            " 56  stock_code        412094 non-null  object \n",
            " 57  stock_code4       412396 non-null  object \n",
            " 58  sys_description   412365 non-null  object \n",
            " 59  stk_stock_status  408752 non-null  object \n",
            " 60  stock_group       375440 non-null  object \n",
            " 61  Status            342271 non-null  object \n",
            " 62  Sales no GST      334142 non-null  object \n",
            " 63  Month Proc        331405 non-null  object \n",
            " 64  rep               330772 non-null  object \n",
            " 65  STATE             326661 non-null  object \n",
            " 66  Year proc         330931 non-null  float64\n",
            " 67  returns           330931 non-null  object \n",
            " 68  Month proc2       330931 non-null  float64\n",
            " 69  Reord_buy_Cat     330931 non-null  object \n",
            " 70  Subcategory       330931 non-null  object \n",
            "dtypes: float64(2), int64(4), object(65)\n",
            "memory usage: 226.6+ MB\n"
          ]
        }
      ]
    },
    {
      "cell_type": "code",
      "metadata": {
        "colab": {
          "base_uri": "https://localhost:8080/",
          "height": 400
        },
        "id": "zVEmy5j8RCDx",
        "outputId": "cb78cc91-fede-485e-9159-a8b585d5ab28"
      },
      "source": [
        "sales.head()"
      ],
      "execution_count": null,
      "outputs": [
        {
          "output_type": "execute_result",
          "data": {
            "text/html": [
              "<div>\n",
              "<style scoped>\n",
              "    .dataframe tbody tr th:only-of-type {\n",
              "        vertical-align: middle;\n",
              "    }\n",
              "\n",
              "    .dataframe tbody tr th {\n",
              "        vertical-align: top;\n",
              "    }\n",
              "\n",
              "    .dataframe thead th {\n",
              "        text-align: right;\n",
              "    }\n",
              "</style>\n",
              "<table border=\"1\" class=\"dataframe\">\n",
              "  <thead>\n",
              "    <tr style=\"text-align: right;\">\n",
              "      <th></th>\n",
              "      <th>db_source</th>\n",
              "      <th>so_order_no</th>\n",
              "      <th>so_bo_suffix</th>\n",
              "      <th>so_cust_code</th>\n",
              "      <th>so_order_date</th>\n",
              "      <th>so_delivery_date</th>\n",
              "      <th>MTH</th>\n",
              "      <th>WEEK</th>\n",
              "      <th>WEEKDAY</th>\n",
              "      <th>DAY</th>\n",
              "      <th>FISCAL YEAR</th>\n",
              "      <th>YEAR</th>\n",
              "      <th>delivery_date</th>\n",
              "      <th>order_packages</th>\n",
              "      <th>so_order_weight</th>\n",
              "      <th>job_code</th>\n",
              "      <th>so_order_status</th>\n",
              "      <th>reason_code</th>\n",
              "      <th>order_type_code</th>\n",
              "      <th>so_whse_code</th>\n",
              "      <th>territory_code</th>\n",
              "      <th>STORE</th>\n",
              "      <th>so_cust_type</th>\n",
              "      <th>so_rep_code</th>\n",
              "      <th>tax_exemption_no</th>\n",
              "      <th>so_terms_disc</th>\n",
              "      <th>so_price_code</th>\n",
              "      <th>cust_reference</th>\n",
              "      <th>so_invoice_no</th>\n",
              "      <th>credit_note_no</th>\n",
              "      <th>so_invoice_date</th>\n",
              "      <th>processing_date</th>\n",
              "      <th>total_amount</th>\n",
              "      <th>total_tax_adj</th>\n",
              "      <th>shipped_tax_adj</th>\n",
              "      <th>total_charges</th>\n",
              "      <th>so_curr_code</th>\n",
              "      <th>so_user_id_code</th>\n",
              "      <th>so_order_source</th>\n",
              "      <th>spare_alpha2_2</th>\n",
              "      <th>tax_calc_level</th>\n",
              "      <th>so_store_id</th>\n",
              "      <th>so_terminal</th>\n",
              "      <th>so_operator_code</th>\n",
              "      <th>pos_process</th>\n",
              "      <th>so_dif_flag</th>\n",
              "      <th>so_document_no</th>\n",
              "      <th>so_bo_suffix2</th>\n",
              "      <th>sol_line_seq</th>\n",
              "      <th>reorder_buyer</th>\n",
              "      <th>stk_description</th>\n",
              "      <th>stk_desc_line_2</th>\n",
              "      <th>stk_desc_line_3</th>\n",
              "      <th>sol_ordered_qty</th>\n",
              "      <th>sol_line_amount</th>\n",
              "      <th>stk_description3</th>\n",
              "      <th>stock_code</th>\n",
              "      <th>stock_code4</th>\n",
              "      <th>sys_description</th>\n",
              "      <th>stk_stock_status</th>\n",
              "      <th>stock_group</th>\n",
              "      <th>Status</th>\n",
              "      <th>Sales no GST</th>\n",
              "      <th>Month Proc</th>\n",
              "      <th>rep</th>\n",
              "      <th>STATE</th>\n",
              "      <th>Year proc</th>\n",
              "      <th>returns</th>\n",
              "      <th>Month proc2</th>\n",
              "      <th>Reord_buy_Cat</th>\n",
              "      <th>Subcategory</th>\n",
              "    </tr>\n",
              "  </thead>\n",
              "  <tbody>\n",
              "    <tr>\n",
              "      <th>0</th>\n",
              "      <td>2</td>\n",
              "      <td>547281</td>\n",
              "      <td>203262</td>\n",
              "      <td>14/1/2018</td>\n",
              "      <td>10/2/2018</td>\n",
              "      <td>1</td>\n",
              "      <td>28</td>\n",
              "      <td>7</td>\n",
              "      <td>domingo</td>\n",
              "      <td>2021-2022</td>\n",
              "      <td>2018</td>\n",
              "      <td>10/2/2018</td>\n",
              "      <td>4</td>\n",
              "      <td>0</td>\n",
              "      <td>90</td>\n",
              "      <td>1211</td>\n",
              "      <td>211</td>\n",
              "      <td>SG &amp; JL Hornsby</td>\n",
              "      <td>R</td>\n",
              "      <td>J</td>\n",
              "      <td>R0</td>\n",
              "      <td>547281</td>\n",
              "      <td>0</td>\n",
              "      <td>10/2/2018</td>\n",
              "      <td>10/2/2018</td>\n",
              "      <td>1720.74</td>\n",
              "      <td>0</td>\n",
              "      <td>0</td>\n",
              "      <td>0</td>\n",
              "      <td>pos1211</td>\n",
              "      <td>3</td>\n",
              "      <td>M</td>\n",
              "      <td>L</td>\n",
              "      <td>1211</td>\n",
              "      <td>1</td>\n",
              "      <td>J</td>\n",
              "      <td>14/1/2018 05:33</td>\n",
              "      <td>0</td>\n",
              "      <td>5</td>\n",
              "      <td>22</td>\n",
              "      <td>Sleepmaker Lifestyle</td>\n",
              "      <td>Firm Mattress (R-Out Fabric)</td>\n",
              "      <td>Single</td>\n",
              "      <td>1</td>\n",
              "      <td>312.78</td>\n",
              "      <td>Sleepmaker Lifestyle</td>\n",
              "      <td>281023001</td>\n",
              "      <td>281023001</td>\n",
              "      <td>SG Mattress</td>\n",
              "      <td>I</td>\n",
              "      <td>9000</td>\n",
              "      <td>Finished</td>\n",
              "      <td>284.3454545</td>\n",
              "      <td>2</td>\n",
              "      <td>Halina Domeika</td>\n",
              "      <td>NSW</td>\n",
              "      <td>2018</td>\n",
              "      <td>sale</td>\n",
              "      <td>2</td>\n",
              "      <td>Others</td>\n",
              "      <td>0</td>\n",
              "      <td>NaN</td>\n",
              "      <td>NaN</td>\n",
              "      <td>NaN</td>\n",
              "      <td>NaN</td>\n",
              "      <td>NaN</td>\n",
              "      <td>NaN</td>\n",
              "      <td>NaN</td>\n",
              "      <td>NaN</td>\n",
              "      <td>NaN</td>\n",
              "      <td>NaN</td>\n",
              "    </tr>\n",
              "    <tr>\n",
              "      <th>1</th>\n",
              "      <td>2</td>\n",
              "      <td>553318</td>\n",
              "      <td>259196</td>\n",
              "      <td>4/2/2018</td>\n",
              "      <td>17/2/2018</td>\n",
              "      <td>2</td>\n",
              "      <td>31</td>\n",
              "      <td>7</td>\n",
              "      <td>domingo</td>\n",
              "      <td>2021-2022</td>\n",
              "      <td>2018</td>\n",
              "      <td>17/2/2018</td>\n",
              "      <td>1</td>\n",
              "      <td>0</td>\n",
              "      <td>90</td>\n",
              "      <td>2200</td>\n",
              "      <td>206</td>\n",
              "      <td>SG Castle Hill</td>\n",
              "      <td>R</td>\n",
              "      <td>R0</td>\n",
              "      <td>553318</td>\n",
              "      <td>0</td>\n",
              "      <td>19/2/2018</td>\n",
              "      <td>19/2/2018</td>\n",
              "      <td>404</td>\n",
              "      <td>0</td>\n",
              "      <td>0</td>\n",
              "      <td>0</td>\n",
              "      <td>pos1206</td>\n",
              "      <td>3</td>\n",
              "      <td>M</td>\n",
              "      <td>L</td>\n",
              "      <td>1206</td>\n",
              "      <td>1</td>\n",
              "      <td>38</td>\n",
              "      <td>4/2/2018 00:53</td>\n",
              "      <td>0</td>\n",
              "      <td>1</td>\n",
              "      <td>22</td>\n",
              "      <td>Sleepmaker Lifestyle</td>\n",
              "      <td>Firm Mattress (R-Out Fabric)</td>\n",
              "      <td>Single</td>\n",
              "      <td>1</td>\n",
              "      <td>329</td>\n",
              "      <td>Sleepmaker Lifestyle</td>\n",
              "      <td>281023001</td>\n",
              "      <td>281023001</td>\n",
              "      <td>SG Mattress</td>\n",
              "      <td>I</td>\n",
              "      <td>9000</td>\n",
              "      <td>Finished</td>\n",
              "      <td>299.0909091</td>\n",
              "      <td>2</td>\n",
              "      <td>Default-User</td>\n",
              "      <td>NSW</td>\n",
              "      <td>2018</td>\n",
              "      <td>sale</td>\n",
              "      <td>2</td>\n",
              "      <td>Others</td>\n",
              "      <td>0</td>\n",
              "      <td>NaN</td>\n",
              "      <td>NaN</td>\n",
              "      <td>NaN</td>\n",
              "      <td>NaN</td>\n",
              "      <td>NaN</td>\n",
              "      <td>NaN</td>\n",
              "      <td>NaN</td>\n",
              "      <td>NaN</td>\n",
              "      <td>NaN</td>\n",
              "      <td>NaN</td>\n",
              "      <td>NaN</td>\n",
              "    </tr>\n",
              "    <tr>\n",
              "      <th>2</th>\n",
              "      <td>2</td>\n",
              "      <td>568569</td>\n",
              "      <td>AA</td>\n",
              "      <td>266405</td>\n",
              "      <td>2/4/2018</td>\n",
              "      <td>3/4/2018</td>\n",
              "      <td>4</td>\n",
              "      <td>40</td>\n",
              "      <td>1</td>\n",
              "      <td>lunes</td>\n",
              "      <td>2021-2022</td>\n",
              "      <td>2018</td>\n",
              "      <td>3/4/2018</td>\n",
              "      <td>2</td>\n",
              "      <td>18.5</td>\n",
              "      <td>90</td>\n",
              "      <td>1227</td>\n",
              "      <td>227</td>\n",
              "      <td>SG &amp; JL Liverpool</td>\n",
              "      <td>R</td>\n",
              "      <td>63</td>\n",
              "      <td>R0</td>\n",
              "      <td>568569</td>\n",
              "      <td>0</td>\n",
              "      <td>3/4/2018</td>\n",
              "      <td>3/4/2018</td>\n",
              "      <td>410</td>\n",
              "      <td>0</td>\n",
              "      <td>0</td>\n",
              "      <td>0</td>\n",
              "      <td>pos1227</td>\n",
              "      <td>3</td>\n",
              "      <td>M</td>\n",
              "      <td>L</td>\n",
              "      <td>1227</td>\n",
              "      <td>1</td>\n",
              "      <td>63</td>\n",
              "      <td>2/4/2018 01:36</td>\n",
              "      <td>568569</td>\n",
              "      <td>AA</td>\n",
              "      <td>1</td>\n",
              "      <td>22</td>\n",
              "      <td>Sleepmaker Lifestyle</td>\n",
              "      <td>Firm Mattress (R-Out Fabric)</td>\n",
              "      <td>Single</td>\n",
              "      <td>1</td>\n",
              "      <td>230</td>\n",
              "      <td>Sleepmaker Lifestyle</td>\n",
              "      <td>281023001</td>\n",
              "      <td>281023001</td>\n",
              "      <td>SG Mattress</td>\n",
              "      <td>I</td>\n",
              "      <td>9000</td>\n",
              "      <td>Finished</td>\n",
              "      <td>209.0909091</td>\n",
              "      <td>4</td>\n",
              "      <td>Nicole De Martin</td>\n",
              "      <td>NSW</td>\n",
              "      <td>2018</td>\n",
              "      <td>sale</td>\n",
              "      <td>4</td>\n",
              "      <td>Others</td>\n",
              "      <td>0</td>\n",
              "      <td>NaN</td>\n",
              "      <td>NaN</td>\n",
              "      <td>NaN</td>\n",
              "      <td>NaN</td>\n",
              "      <td>NaN</td>\n",
              "      <td>NaN</td>\n",
              "      <td>NaN</td>\n",
              "      <td>NaN</td>\n",
              "    </tr>\n",
              "    <tr>\n",
              "      <th>3</th>\n",
              "      <td>2</td>\n",
              "      <td>635206</td>\n",
              "      <td>298785</td>\n",
              "      <td>28/10/2018</td>\n",
              "      <td>28/10/2018</td>\n",
              "      <td>10</td>\n",
              "      <td>17</td>\n",
              "      <td>7</td>\n",
              "      <td>domingo</td>\n",
              "      <td>2021-2022</td>\n",
              "      <td>2018</td>\n",
              "      <td>28/10/2018</td>\n",
              "      <td>3</td>\n",
              "      <td>0</td>\n",
              "      <td>90</td>\n",
              "      <td>1223</td>\n",
              "      <td>223</td>\n",
              "      <td>SG &amp; JL Penrith Clearance</td>\n",
              "      <td>R</td>\n",
              "      <td>138</td>\n",
              "      <td>R0</td>\n",
              "      <td>635206</td>\n",
              "      <td>0</td>\n",
              "      <td>28/10/2018</td>\n",
              "      <td>28/10/2018</td>\n",
              "      <td>480</td>\n",
              "      <td>0</td>\n",
              "      <td>0</td>\n",
              "      <td>0</td>\n",
              "      <td>pos1223</td>\n",
              "      <td>3</td>\n",
              "      <td>M</td>\n",
              "      <td>L</td>\n",
              "      <td>1223</td>\n",
              "      <td>1</td>\n",
              "      <td>138</td>\n",
              "      <td>28/10/2018 00:29</td>\n",
              "      <td>635206</td>\n",
              "      <td>2</td>\n",
              "      <td>22</td>\n",
              "      <td>Sleepmaker Lifestyle</td>\n",
              "      <td>Firm Mattress (R-Out Fabric)</td>\n",
              "      <td>Single</td>\n",
              "      <td>2</td>\n",
              "      <td>160</td>\n",
              "      <td>Sleepmaker Lifestyle</td>\n",
              "      <td>281023001</td>\n",
              "      <td>281023001</td>\n",
              "      <td>SG Mattress</td>\n",
              "      <td>I</td>\n",
              "      <td>9000</td>\n",
              "      <td>Finished</td>\n",
              "      <td>145.4545455</td>\n",
              "      <td>10</td>\n",
              "      <td>Alex Ryder</td>\n",
              "      <td>NSW</td>\n",
              "      <td>2018</td>\n",
              "      <td>sale</td>\n",
              "      <td>10</td>\n",
              "      <td>Others</td>\n",
              "      <td>0</td>\n",
              "      <td>NaN</td>\n",
              "      <td>NaN</td>\n",
              "      <td>NaN</td>\n",
              "      <td>NaN</td>\n",
              "      <td>NaN</td>\n",
              "      <td>NaN</td>\n",
              "      <td>NaN</td>\n",
              "      <td>NaN</td>\n",
              "      <td>NaN</td>\n",
              "      <td>NaN</td>\n",
              "    </tr>\n",
              "    <tr>\n",
              "      <th>4</th>\n",
              "      <td>2</td>\n",
              "      <td>635686</td>\n",
              "      <td>298785</td>\n",
              "      <td>29/10/2018</td>\n",
              "      <td>0/1/1900</td>\n",
              "      <td>10</td>\n",
              "      <td>18</td>\n",
              "      <td>1</td>\n",
              "      <td>lunes</td>\n",
              "      <td>2021-2022</td>\n",
              "      <td>2018</td>\n",
              "      <td>28/10/2018</td>\n",
              "      <td>1</td>\n",
              "      <td>0</td>\n",
              "      <td>90</td>\n",
              "      <td>7</td>\n",
              "      <td>1223</td>\n",
              "      <td>223</td>\n",
              "      <td>SG &amp; JL Penrith Clearance</td>\n",
              "      <td>R</td>\n",
              "      <td>138</td>\n",
              "      <td>R0</td>\n",
              "      <td>635206</td>\n",
              "      <td>9526</td>\n",
              "      <td>28/10/2018</td>\n",
              "      <td>29/10/2018</td>\n",
              "      <td>-80</td>\n",
              "      <td>0</td>\n",
              "      <td>0</td>\n",
              "      <td>0</td>\n",
              "      <td>jennik</td>\n",
              "      <td>3</td>\n",
              "      <td>M</td>\n",
              "      <td>L</td>\n",
              "      <td>1223</td>\n",
              "      <td>1</td>\n",
              "      <td>138</td>\n",
              "      <td>28/10/2018 00:29</td>\n",
              "      <td>635206</td>\n",
              "      <td>2</td>\n",
              "      <td>22</td>\n",
              "      <td>Sleepmaker Lifestyle</td>\n",
              "      <td>Firm Mattress (R-Out Fabric)</td>\n",
              "      <td>Single</td>\n",
              "      <td>-1</td>\n",
              "      <td>-80</td>\n",
              "      <td>Sleepmaker Lifestyle</td>\n",
              "      <td>281023001</td>\n",
              "      <td>281023001</td>\n",
              "      <td>SG Mattress</td>\n",
              "      <td>I</td>\n",
              "      <td>9000</td>\n",
              "      <td>Finished</td>\n",
              "      <td>-72.72727273</td>\n",
              "      <td>10</td>\n",
              "      <td>Alex Ryder</td>\n",
              "      <td>NSW</td>\n",
              "      <td>2018</td>\n",
              "      <td>return</td>\n",
              "      <td>10</td>\n",
              "      <td>Others</td>\n",
              "      <td>0</td>\n",
              "      <td>NaN</td>\n",
              "      <td>NaN</td>\n",
              "      <td>NaN</td>\n",
              "      <td>NaN</td>\n",
              "      <td>NaN</td>\n",
              "      <td>NaN</td>\n",
              "      <td>NaN</td>\n",
              "      <td>NaN</td>\n",
              "      <td>NaN</td>\n",
              "    </tr>\n",
              "  </tbody>\n",
              "</table>\n",
              "</div>"
            ],
            "text/plain": [
              "   db_source so_order_no so_bo_suffix  ... Month proc2 Reord_buy_Cat Subcategory\n",
              "0          2      547281       203262  ...         NaN           NaN         NaN\n",
              "1          2      553318       259196  ...         NaN           NaN         NaN\n",
              "2          2      568569           AA  ...         NaN           NaN         NaN\n",
              "3          2      635206       298785  ...         NaN           NaN         NaN\n",
              "4          2      635686       298785  ...         NaN           NaN         NaN\n",
              "\n",
              "[5 rows x 71 columns]"
            ]
          },
          "metadata": {},
          "execution_count": 11
        }
      ]
    },
    {
      "cell_type": "code",
      "metadata": {
        "colab": {
          "base_uri": "https://localhost:8080/"
        },
        "id": "fsmxEJgMYfWl",
        "outputId": "695c5ef7-ee35-4047-8d88-9e21fad2edd8"
      },
      "source": [
        "sales.so_order_date.value_counts()"
      ],
      "execution_count": null,
      "outputs": [
        {
          "output_type": "execute_result",
          "data": {
            "text/plain": [
              "26/12/2020    1966\n",
              "28/6/2020     1835\n",
              "27/6/2020     1706\n",
              "21/6/2020     1631\n",
              "29/11/2020    1620\n",
              "              ... \n",
              "31/8/2019        1\n",
              "1/8/2019         1\n",
              "23/7/2019        1\n",
              "29/4/2019        1\n",
              "27/6/2019        1\n",
              "Name: so_order_date, Length: 870, dtype: int64"
            ]
          },
          "metadata": {},
          "execution_count": 12
        }
      ]
    },
    {
      "cell_type": "code",
      "metadata": {
        "id": "upPhaSDpX0ak"
      },
      "source": [
        "sales[\"so_order_date\"] = pd.to_datetime(sales[\"so_order_date\"], errors = 'coerce')\n",
        "sales[\"so_delivery_date\"] = pd.to_datetime(sales[\"so_delivery_date\"], errors = 'coerce')"
      ],
      "execution_count": 289,
      "outputs": []
    },
    {
      "cell_type": "code",
      "metadata": {
        "id": "76v27O1BUxtj"
      },
      "source": [
        "def missing_values_table(df):\n",
        "    mis_val = df.isnull().sum()\n",
        "    mis_val_percent = 100 * df.isnull().sum() / len(df)\n",
        "    mis_val_table = pd.concat([mis_val, mis_val_percent], axis=1)\n",
        "    mis_val_table_ren_columns = mis_val_table.rename(\n",
        "    columns = {0 : 'Missing Values', 1 : '% of Total Values'})\n",
        "    mis_val_table_ren_columns = mis_val_table_ren_columns[\n",
        "        mis_val_table_ren_columns.iloc[:,1] != 0].sort_values(\n",
        "    '% of Total Values', ascending=False).round(1)\n",
        "    print (\"Your selected dataframe has \" + str(df.shape[1]) + \" columns.\\n\"      \n",
        "        \"There are \" + str(mis_val_table_ren_columns.shape[0]) +\n",
        "            \" columns that have missing values.\")\n",
        "    return mis_val_table_ren_columns"
      ],
      "execution_count": 290,
      "outputs": []
    },
    {
      "cell_type": "code",
      "metadata": {
        "colab": {
          "base_uri": "https://localhost:8080/",
          "height": 1000
        },
        "id": "aEYeTrWaVXuD",
        "outputId": "17aeae3e-4d39-4cc6-a33d-5cb0fc953427"
      },
      "source": [
        "missing_values_table(sales)"
      ],
      "execution_count": 291,
      "outputs": [
        {
          "output_type": "stream",
          "name": "stdout",
          "text": [
            "Your selected dataframe has 71 columns.\n",
            "There are 38 columns that have missing values.\n"
          ]
        },
        {
          "output_type": "execute_result",
          "data": {
            "text/html": [
              "<div>\n",
              "<style scoped>\n",
              "    .dataframe tbody tr th:only-of-type {\n",
              "        vertical-align: middle;\n",
              "    }\n",
              "\n",
              "    .dataframe tbody tr th {\n",
              "        vertical-align: top;\n",
              "    }\n",
              "\n",
              "    .dataframe thead th {\n",
              "        text-align: right;\n",
              "    }\n",
              "</style>\n",
              "<table border=\"1\" class=\"dataframe\">\n",
              "  <thead>\n",
              "    <tr style=\"text-align: right;\">\n",
              "      <th></th>\n",
              "      <th>Missing Values</th>\n",
              "      <th>% of Total Values</th>\n",
              "    </tr>\n",
              "  </thead>\n",
              "  <tbody>\n",
              "    <tr>\n",
              "      <th>STATE</th>\n",
              "      <td>85777</td>\n",
              "      <td>20.8</td>\n",
              "    </tr>\n",
              "    <tr>\n",
              "      <th>reason_code</th>\n",
              "      <td>82291</td>\n",
              "      <td>20.0</td>\n",
              "    </tr>\n",
              "    <tr>\n",
              "      <th>rep</th>\n",
              "      <td>81666</td>\n",
              "      <td>19.8</td>\n",
              "    </tr>\n",
              "    <tr>\n",
              "      <th>order_type_code</th>\n",
              "      <td>81590</td>\n",
              "      <td>19.8</td>\n",
              "    </tr>\n",
              "    <tr>\n",
              "      <th>Subcategory</th>\n",
              "      <td>81507</td>\n",
              "      <td>19.8</td>\n",
              "    </tr>\n",
              "    <tr>\n",
              "      <th>tax_exemption_no</th>\n",
              "      <td>81507</td>\n",
              "      <td>19.8</td>\n",
              "    </tr>\n",
              "    <tr>\n",
              "      <th>Year proc</th>\n",
              "      <td>81507</td>\n",
              "      <td>19.8</td>\n",
              "    </tr>\n",
              "    <tr>\n",
              "      <th>so_terms_disc</th>\n",
              "      <td>81507</td>\n",
              "      <td>19.8</td>\n",
              "    </tr>\n",
              "    <tr>\n",
              "      <th>returns</th>\n",
              "      <td>81507</td>\n",
              "      <td>19.8</td>\n",
              "    </tr>\n",
              "    <tr>\n",
              "      <th>Month proc2</th>\n",
              "      <td>81507</td>\n",
              "      <td>19.8</td>\n",
              "    </tr>\n",
              "    <tr>\n",
              "      <th>Reord_buy_Cat</th>\n",
              "      <td>81507</td>\n",
              "      <td>19.8</td>\n",
              "    </tr>\n",
              "    <tr>\n",
              "      <th>job_code</th>\n",
              "      <td>81507</td>\n",
              "      <td>19.8</td>\n",
              "    </tr>\n",
              "    <tr>\n",
              "      <th>so_dif_flag</th>\n",
              "      <td>81507</td>\n",
              "      <td>19.8</td>\n",
              "    </tr>\n",
              "    <tr>\n",
              "      <th>so_curr_code</th>\n",
              "      <td>81505</td>\n",
              "      <td>19.8</td>\n",
              "    </tr>\n",
              "    <tr>\n",
              "      <th>Month Proc</th>\n",
              "      <td>81033</td>\n",
              "      <td>19.6</td>\n",
              "    </tr>\n",
              "    <tr>\n",
              "      <th>so_delivery_date</th>\n",
              "      <td>80170</td>\n",
              "      <td>19.4</td>\n",
              "    </tr>\n",
              "    <tr>\n",
              "      <th>Sales no GST</th>\n",
              "      <td>78296</td>\n",
              "      <td>19.0</td>\n",
              "    </tr>\n",
              "    <tr>\n",
              "      <th>so_bo_suffix</th>\n",
              "      <td>72884</td>\n",
              "      <td>17.7</td>\n",
              "    </tr>\n",
              "    <tr>\n",
              "      <th>so_bo_suffix2</th>\n",
              "      <td>72884</td>\n",
              "      <td>17.7</td>\n",
              "    </tr>\n",
              "    <tr>\n",
              "      <th>Status</th>\n",
              "      <td>70167</td>\n",
              "      <td>17.0</td>\n",
              "    </tr>\n",
              "    <tr>\n",
              "      <th>cust_reference</th>\n",
              "      <td>69164</td>\n",
              "      <td>16.8</td>\n",
              "    </tr>\n",
              "    <tr>\n",
              "      <th>stock_group</th>\n",
              "      <td>36998</td>\n",
              "      <td>9.0</td>\n",
              "    </tr>\n",
              "    <tr>\n",
              "      <th>so_rep_code</th>\n",
              "      <td>21084</td>\n",
              "      <td>5.1</td>\n",
              "    </tr>\n",
              "    <tr>\n",
              "      <th>stk_desc_line_3</th>\n",
              "      <td>7972</td>\n",
              "      <td>1.9</td>\n",
              "    </tr>\n",
              "    <tr>\n",
              "      <th>so_operator_code</th>\n",
              "      <td>7068</td>\n",
              "      <td>1.7</td>\n",
              "    </tr>\n",
              "    <tr>\n",
              "      <th>so_store_id</th>\n",
              "      <td>7068</td>\n",
              "      <td>1.7</td>\n",
              "    </tr>\n",
              "    <tr>\n",
              "      <th>STORE</th>\n",
              "      <td>4270</td>\n",
              "      <td>1.0</td>\n",
              "    </tr>\n",
              "    <tr>\n",
              "      <th>stk_stock_status</th>\n",
              "      <td>3686</td>\n",
              "      <td>0.9</td>\n",
              "    </tr>\n",
              "    <tr>\n",
              "      <th>so_order_date</th>\n",
              "      <td>1308</td>\n",
              "      <td>0.3</td>\n",
              "    </tr>\n",
              "    <tr>\n",
              "      <th>stk_description3</th>\n",
              "      <td>517</td>\n",
              "      <td>0.1</td>\n",
              "    </tr>\n",
              "    <tr>\n",
              "      <th>stock_code</th>\n",
              "      <td>344</td>\n",
              "      <td>0.1</td>\n",
              "    </tr>\n",
              "    <tr>\n",
              "      <th>sol_line_amount</th>\n",
              "      <td>310</td>\n",
              "      <td>0.1</td>\n",
              "    </tr>\n",
              "    <tr>\n",
              "      <th>sys_description</th>\n",
              "      <td>73</td>\n",
              "      <td>0.0</td>\n",
              "    </tr>\n",
              "    <tr>\n",
              "      <th>stock_code4</th>\n",
              "      <td>42</td>\n",
              "      <td>0.0</td>\n",
              "    </tr>\n",
              "    <tr>\n",
              "      <th>sol_ordered_qty</th>\n",
              "      <td>26</td>\n",
              "      <td>0.0</td>\n",
              "    </tr>\n",
              "    <tr>\n",
              "      <th>so_price_code</th>\n",
              "      <td>6</td>\n",
              "      <td>0.0</td>\n",
              "    </tr>\n",
              "    <tr>\n",
              "      <th>so_cust_type</th>\n",
              "      <td>6</td>\n",
              "      <td>0.0</td>\n",
              "    </tr>\n",
              "    <tr>\n",
              "      <th>stk_desc_line_2</th>\n",
              "      <td>3</td>\n",
              "      <td>0.0</td>\n",
              "    </tr>\n",
              "  </tbody>\n",
              "</table>\n",
              "</div>"
            ],
            "text/plain": [
              "                  Missing Values  % of Total Values\n",
              "STATE                      85777               20.8\n",
              "reason_code                82291               20.0\n",
              "rep                        81666               19.8\n",
              "order_type_code            81590               19.8\n",
              "Subcategory                81507               19.8\n",
              "tax_exemption_no           81507               19.8\n",
              "Year proc                  81507               19.8\n",
              "so_terms_disc              81507               19.8\n",
              "returns                    81507               19.8\n",
              "Month proc2                81507               19.8\n",
              "Reord_buy_Cat              81507               19.8\n",
              "job_code                   81507               19.8\n",
              "so_dif_flag                81507               19.8\n",
              "so_curr_code               81505               19.8\n",
              "Month Proc                 81033               19.6\n",
              "so_delivery_date           80170               19.4\n",
              "Sales no GST               78296               19.0\n",
              "so_bo_suffix               72884               17.7\n",
              "so_bo_suffix2              72884               17.7\n",
              "Status                     70167               17.0\n",
              "cust_reference             69164               16.8\n",
              "stock_group                36998                9.0\n",
              "so_rep_code                21084                5.1\n",
              "stk_desc_line_3             7972                1.9\n",
              "so_operator_code            7068                1.7\n",
              "so_store_id                 7068                1.7\n",
              "STORE                       4270                1.0\n",
              "stk_stock_status            3686                0.9\n",
              "so_order_date               1308                0.3\n",
              "stk_description3             517                0.1\n",
              "stock_code                   344                0.1\n",
              "sol_line_amount              310                0.1\n",
              "sys_description               73                0.0\n",
              "stock_code4                   42                0.0\n",
              "sol_ordered_qty               26                0.0\n",
              "so_price_code                  6                0.0\n",
              "so_cust_type                   6                0.0\n",
              "stk_desc_line_2                3                0.0"
            ]
          },
          "metadata": {},
          "execution_count": 291
        }
      ]
    },
    {
      "cell_type": "markdown",
      "metadata": {
        "id": "L-7CQol4Yifr"
      },
      "source": [
        "## Muchos valores nulos\n",
        "\n",
        "El dataset tiene muchos nulos, si se eliminan se pierde el 40%+. Ojo que so_delibery_date tiene el 20% valores nulos!"
      ]
    },
    {
      "cell_type": "code",
      "metadata": {
        "id": "n5VVjwuOXNgC"
      },
      "source": [
        "#sales = sales.dropna('index')"
      ],
      "execution_count": null,
      "outputs": []
    },
    {
      "cell_type": "code",
      "metadata": {
        "id": "vTyqyPXPXyvy"
      },
      "source": [
        "# missing_values_table(sales)"
      ],
      "execution_count": null,
      "outputs": []
    },
    {
      "cell_type": "code",
      "metadata": {
        "colab": {
          "base_uri": "https://localhost:8080/"
        },
        "id": "uN4KPHicXrlz",
        "outputId": "c3e982f6-ca7b-4f32-da21-3bc1c0cd01b7"
      },
      "source": [
        "sales.shape"
      ],
      "execution_count": null,
      "outputs": [
        {
          "output_type": "execute_result",
          "data": {
            "text/plain": [
              "(412438, 71)"
            ]
          },
          "metadata": {},
          "execution_count": 228
        }
      ]
    },
    {
      "cell_type": "code",
      "metadata": {
        "id": "UYyvUlMVsMQK"
      },
      "source": [
        "ts = sales['so_order_date'].value_counts().sort_index()"
      ],
      "execution_count": 293,
      "outputs": []
    },
    {
      "cell_type": "code",
      "metadata": {
        "colab": {
          "base_uri": "https://localhost:8080/",
          "height": 393
        },
        "id": "SViFFc3DtBqo",
        "outputId": "36db1cae-eda9-4468-c26d-89963557f051"
      },
      "source": [
        "fig1, ax1 = plt.subplots(figsize=(12,6))\n",
        "ts.plot()"
      ],
      "execution_count": 294,
      "outputs": [
        {
          "output_type": "execute_result",
          "data": {
            "text/plain": [
              "<matplotlib.axes._subplots.AxesSubplot at 0x7f59af267710>"
            ]
          },
          "metadata": {},
          "execution_count": 294
        },
        {
          "output_type": "display_data",
          "data": {
            "image/png": "[encoded data removed]",
            "text/plain": [
              "<Figure size 864x432 with 1 Axes>"
            ]
          },
          "metadata": {
            "needs_background": "light"
          }
        }
      ]
    },
    {
      "cell_type": "code",
      "metadata": {
        "colab": {
          "base_uri": "https://localhost:8080/",
          "height": 381
        },
        "id": "lhhLXL1u-aWT",
        "outputId": "4d071f6a-1d08-444a-a3fe-5b2858dd5ac1"
      },
      "source": [
        "plt.figure(figsize=(16,6))\n",
        "plt.plot(ts.rolling(window=40,center=False).mean(),label='Rolling Mean');\n",
        "plt.plot(ts.rolling(window=40,center=False).std(),label='Rolling sd');\n",
        "plt.legend();"
      ],
      "execution_count": 295,
      "outputs": [
        {
          "output_type": "display_data",
          "data": {
            "image/png": "[encoded data removed]",
            "text/plain": [
              "<Figure size 1152x432 with 1 Axes>"
            ]
          },
          "metadata": {
            "needs_background": "light"
          }
        }
      ]
    },
    {
      "cell_type": "markdown",
      "metadata": {
        "id": "rJzH2z1Z_KWx"
      },
      "source": [
        "## Hay estacionalidad y podría a marcarse cierta tendencia ascendente"
      ]
    },
    {
      "cell_type": "code",
      "metadata": {
        "colab": {
          "base_uri": "https://localhost:8080/",
          "height": 325
        },
        "id": "B7bN41Ly-adF",
        "outputId": "abcf3d7c-dfdf-4896-a444-3f13eb9112c2"
      },
      "source": [
        "import statsmodels.api as sm\n",
        "# multiplicative\n",
        "res = sm.tsa.seasonal_decompose(ts.values,freq=20,model=\"multiplicative\")\n",
        "plt.figure(figsize=(20,16))\n",
        "fig = res.plot()"
      ],
      "execution_count": 296,
      "outputs": [
        {
          "output_type": "display_data",
          "data": {
            "text/plain": [
              "<Figure size 1440x1152 with 0 Axes>"
            ]
          },
          "metadata": {}
        },
        {
          "output_type": "display_data",
          "data": {
            "image/png": "[encoded data removed]",
            "text/plain": [
              "<Figure size 432x288 with 4 Axes>"
            ]
          },
          "metadata": {
            "needs_background": "light"
          }
        }
      ]
    },
    {
      "cell_type": "code",
      "metadata": {
        "colab": {
          "base_uri": "https://localhost:8080/",
          "height": 307
        },
        "id": "NxPsVkFm-aiB",
        "outputId": "4f430611-68e1-464a-e866-1b4d592fe69e"
      },
      "source": [
        "# Additive model\n",
        "res = sm.tsa.seasonal_decompose(ts.values,freq=20,model=\"additive\")\n",
        "#plt.figure(figsize=(16,12))\n",
        "fig = res.plot()\n",
        "#fig.show()"
      ],
      "execution_count": 297,
      "outputs": [
        {
          "output_type": "display_data",
          "data": {
            "image/png": "[encoded data removed]",
            "text/plain": [
              "<Figure size 432x288 with 4 Axes>"
            ]
          },
          "metadata": {
            "needs_background": "light"
          }
        }
      ]
    },
    {
      "cell_type": "code",
      "metadata": {
        "id": "OFY-JmuswfQd"
      },
      "source": [
        "stores = sales.groupby([\"STORE\"]).size()\n",
        "fig1, ax1 = plt.subplots(figsize=(12,6))\n",
        "stores.plot.bar()"
      ],
      "execution_count": null,
      "outputs": []
    },
    {
      "cell_type": "code",
      "metadata": {
        "colab": {
          "base_uri": "https://localhost:8080/",
          "height": 547
        },
        "id": "q_YE0D0WwffN",
        "outputId": "5eab2953-b159-4156-a0cf-2fa5cd675033"
      },
      "source": [
        "subcat = sales.groupby([\"Subcategory\"]).size()\n",
        "fig1, ax1 = plt.subplots(figsize=(12,6))\n",
        "subcat.plot.bar()"
      ],
      "execution_count": 298,
      "outputs": [
        {
          "output_type": "execute_result",
          "data": {
            "text/plain": [
              "<matplotlib.axes._subplots.AxesSubplot at 0x7f59b0df2a50>"
            ]
          },
          "metadata": {},
          "execution_count": 298
        },
        {
          "output_type": "display_data",
          "data": {
            "image/png": "[encoded data removed]",
            "text/plain": [
              "<Figure size 864x432 with 1 Axes>"
            ]
          },
          "metadata": {
            "needs_background": "light"
          }
        }
      ]
    },
    {
      "cell_type": "code",
      "metadata": {
        "colab": {
          "base_uri": "https://localhost:8080/",
          "height": 424
        },
        "id": "IDcaLD423gyL",
        "outputId": "448b9553-a5a5-48a4-f14c-37be266c50af"
      },
      "source": [
        "sales.groupby('stock_group').size().reset_index(name='Count').sort_values(['Count'], ascending=False)"
      ],
      "execution_count": null,
      "outputs": [
        {
          "output_type": "execute_result",
          "data": {
            "text/html": [
              "<div>\n",
              "<style scoped>\n",
              "    .dataframe tbody tr th:only-of-type {\n",
              "        vertical-align: middle;\n",
              "    }\n",
              "\n",
              "    .dataframe tbody tr th {\n",
              "        vertical-align: top;\n",
              "    }\n",
              "\n",
              "    .dataframe thead th {\n",
              "        text-align: right;\n",
              "    }\n",
              "</style>\n",
              "<table border=\"1\" class=\"dataframe\">\n",
              "  <thead>\n",
              "    <tr style=\"text-align: right;\">\n",
              "      <th></th>\n",
              "      <th>stock_group</th>\n",
              "      <th>Count</th>\n",
              "    </tr>\n",
              "  </thead>\n",
              "  <tbody>\n",
              "    <tr>\n",
              "      <th>96</th>\n",
              "      <td>YDCH</td>\n",
              "      <td>102024</td>\n",
              "    </tr>\n",
              "    <tr>\n",
              "      <th>104</th>\n",
              "      <td>0</td>\n",
              "      <td>31049</td>\n",
              "    </tr>\n",
              "    <tr>\n",
              "      <th>54</th>\n",
              "      <td>4012</td>\n",
              "      <td>14435</td>\n",
              "    </tr>\n",
              "    <tr>\n",
              "      <th>17</th>\n",
              "      <td>1005</td>\n",
              "      <td>12817</td>\n",
              "    </tr>\n",
              "    <tr>\n",
              "      <th>101</th>\n",
              "      <td>ZSER</td>\n",
              "      <td>12729</td>\n",
              "    </tr>\n",
              "    <tr>\n",
              "      <th>...</th>\n",
              "      <td>...</td>\n",
              "      <td>...</td>\n",
              "    </tr>\n",
              "    <tr>\n",
              "      <th>131</th>\n",
              "      <td>3010</td>\n",
              "      <td>1</td>\n",
              "    </tr>\n",
              "    <tr>\n",
              "      <th>130</th>\n",
              "      <td>3009</td>\n",
              "      <td>1</td>\n",
              "    </tr>\n",
              "    <tr>\n",
              "      <th>125</th>\n",
              "      <td>2019</td>\n",
              "      <td>1</td>\n",
              "    </tr>\n",
              "    <tr>\n",
              "      <th>107</th>\n",
              "      <td>1006</td>\n",
              "      <td>1</td>\n",
              "    </tr>\n",
              "    <tr>\n",
              "      <th>147</th>\n",
              "      <td>42</td>\n",
              "      <td>1</td>\n",
              "    </tr>\n",
              "  </tbody>\n",
              "</table>\n",
              "<p>191 rows × 2 columns</p>\n",
              "</div>"
            ],
            "text/plain": [
              "    stock_group   Count\n",
              "96        YDCH   102024\n",
              "104           0   31049\n",
              "54         4012   14435\n",
              "17         1005   12817\n",
              "101       ZSER    12729\n",
              "..          ...     ...\n",
              "131        3010       1\n",
              "130        3009       1\n",
              "125        2019       1\n",
              "107        1006       1\n",
              "147          42       1\n",
              "\n",
              "[191 rows x 2 columns]"
            ]
          },
          "metadata": {},
          "execution_count": 31
        }
      ]
    },
    {
      "cell_type": "code",
      "metadata": {
        "colab": {
          "base_uri": "https://localhost:8080/",
          "height": 788
        },
        "id": "k7wqWAvr27a1",
        "outputId": "1b8f23d2-d5cb-4421-9a4e-e2d2b119450f"
      },
      "source": [
        "stores = sales.groupby([\"stock_group\"]).size()\n",
        "fig1, ax1 = plt.subplots(figsize=(20,10))\n",
        "stores.plot.bar()"
      ],
      "execution_count": 299,
      "outputs": [
        {
          "output_type": "execute_result",
          "data": {
            "text/plain": [
              "<matplotlib.axes._subplots.AxesSubplot at 0x7f59b4a74390>"
            ]
          },
          "metadata": {},
          "execution_count": 299
        },
        {
          "output_type": "display_data",
          "data": {
            "image/png": "[encoded data removed]",
            "text/plain": [
              "<Figure size 1440x720 with 1 Axes>"
            ]
          },
          "metadata": {
            "needs_background": "light"
          }
        }
      ]
    },
    {
      "cell_type": "markdown",
      "metadata": {
        "id": "l-zUm7mtrKom"
      },
      "source": [
        "# Exploración de otras variables"
      ]
    },
    {
      "cell_type": "code",
      "metadata": {
        "colab": {
          "base_uri": "https://localhost:8080/",
          "height": 408
        },
        "id": "_biMxpiOvjqD",
        "outputId": "b4de1f45-0edf-4926-83ae-ef10ed957ecc"
      },
      "source": [
        "sales.groupby('stock_code').size().reset_index(name='Count').sort_values(['Count'], ascending=False)"
      ],
      "execution_count": null,
      "outputs": [
        {
          "output_type": "execute_result",
          "data": {
            "text/html": [
              "<div>\n",
              "<style scoped>\n",
              "    .dataframe tbody tr th:only-of-type {\n",
              "        vertical-align: middle;\n",
              "    }\n",
              "\n",
              "    .dataframe tbody tr th {\n",
              "        vertical-align: top;\n",
              "    }\n",
              "\n",
              "    .dataframe thead th {\n",
              "        text-align: right;\n",
              "    }\n",
              "</style>\n",
              "<table border=\"1\" class=\"dataframe\">\n",
              "  <thead>\n",
              "    <tr style=\"text-align: right;\">\n",
              "      <th></th>\n",
              "      <th>stock_code</th>\n",
              "      <th>Count</th>\n",
              "    </tr>\n",
              "  </thead>\n",
              "  <tbody>\n",
              "    <tr>\n",
              "      <th>1135</th>\n",
              "      <td>YDELIVERYSMALL</td>\n",
              "      <td>23429</td>\n",
              "    </tr>\n",
              "    <tr>\n",
              "      <th>0</th>\n",
              "      <td>1.11071e+11</td>\n",
              "      <td>16384</td>\n",
              "    </tr>\n",
              "    <tr>\n",
              "      <th>1132</th>\n",
              "      <td>YDELIVERYLARGE</td>\n",
              "      <td>10201</td>\n",
              "    </tr>\n",
              "    <tr>\n",
              "      <th>1145</th>\n",
              "      <td>1.11071E+11</td>\n",
              "      <td>7774</td>\n",
              "    </tr>\n",
              "    <tr>\n",
              "      <th>2224</th>\n",
              "      <td>3.0131E+11</td>\n",
              "      <td>5829</td>\n",
              "    </tr>\n",
              "    <tr>\n",
              "      <th>...</th>\n",
              "      <td>...</td>\n",
              "      <td>...</td>\n",
              "    </tr>\n",
              "    <tr>\n",
              "      <th>1184</th>\n",
              "      <td>1070608018</td>\n",
              "      <td>1</td>\n",
              "    </tr>\n",
              "    <tr>\n",
              "      <th>1905</th>\n",
              "      <td>132TOO160380CHA</td>\n",
              "      <td>1</td>\n",
              "    </tr>\n",
              "    <tr>\n",
              "      <th>1185</th>\n",
              "      <td>1070637003</td>\n",
              "      <td>1</td>\n",
              "    </tr>\n",
              "    <tr>\n",
              "      <th>1188</th>\n",
              "      <td>1071018001</td>\n",
              "      <td>1</td>\n",
              "    </tr>\n",
              "    <tr>\n",
              "      <th>1741</th>\n",
              "      <td>132DAI130070MAB</td>\n",
              "      <td>1</td>\n",
              "    </tr>\n",
              "  </tbody>\n",
              "</table>\n",
              "<p>2276 rows × 2 columns</p>\n",
              "</div>"
            ],
            "text/plain": [
              "            stock_code  Count\n",
              "1135   YDELIVERYSMALL   23429\n",
              "0          1.11071e+11  16384\n",
              "1132   YDELIVERYLARGE   10201\n",
              "1145       1.11071E+11   7774\n",
              "2224        3.0131E+11   5829\n",
              "...                ...    ...\n",
              "1184        1070608018      1\n",
              "1905   132TOO160380CHA      1\n",
              "1185        1070637003      1\n",
              "1188        1071018001      1\n",
              "1741   132DAI130070MAB      1\n",
              "\n",
              "[2276 rows x 2 columns]"
            ]
          },
          "metadata": {},
          "execution_count": 15
        }
      ]
    },
    {
      "cell_type": "code",
      "metadata": {
        "colab": {
          "base_uri": "https://localhost:8080/",
          "height": 408
        },
        "id": "njGTq6aiHxq0",
        "outputId": "4d0f5f6f-c252-4239-f644-1d09011f698c"
      },
      "source": [
        "sales.groupby('so_user_id_code').size().reset_index(name='Count').sort_values(['Count'], ascending=False)"
      ],
      "execution_count": null,
      "outputs": [
        {
          "output_type": "execute_result",
          "data": {
            "text/html": [
              "<div>\n",
              "<style scoped>\n",
              "    .dataframe tbody tr th:only-of-type {\n",
              "        vertical-align: middle;\n",
              "    }\n",
              "\n",
              "    .dataframe tbody tr th {\n",
              "        vertical-align: top;\n",
              "    }\n",
              "\n",
              "    .dataframe thead th {\n",
              "        text-align: right;\n",
              "    }\n",
              "</style>\n",
              "<table border=\"1\" class=\"dataframe\">\n",
              "  <thead>\n",
              "    <tr style=\"text-align: right;\">\n",
              "      <th></th>\n",
              "      <th>so_user_id_code</th>\n",
              "      <th>Count</th>\n",
              "    </tr>\n",
              "  </thead>\n",
              "  <tbody>\n",
              "    <tr>\n",
              "      <th>39</th>\n",
              "      <td>pos1205</td>\n",
              "      <td>7334</td>\n",
              "    </tr>\n",
              "    <tr>\n",
              "      <th>47</th>\n",
              "      <td>pos1227</td>\n",
              "      <td>5898</td>\n",
              "    </tr>\n",
              "    <tr>\n",
              "      <th>40</th>\n",
              "      <td>pos1206</td>\n",
              "      <td>5729</td>\n",
              "    </tr>\n",
              "    <tr>\n",
              "      <th>42</th>\n",
              "      <td>pos1208</td>\n",
              "      <td>5050</td>\n",
              "    </tr>\n",
              "    <tr>\n",
              "      <th>80</th>\n",
              "      <td>pos5215</td>\n",
              "      <td>4822</td>\n",
              "    </tr>\n",
              "    <tr>\n",
              "      <th>...</th>\n",
              "      <td>...</td>\n",
              "      <td>...</td>\n",
              "    </tr>\n",
              "    <tr>\n",
              "      <th>99</th>\n",
              "      <td>danae.carly@hotmail.com</td>\n",
              "      <td>1</td>\n",
              "    </tr>\n",
              "    <tr>\n",
              "      <th>107</th>\n",
              "      <td>jaclynp@iinet.net.au</td>\n",
              "      <td>1</td>\n",
              "    </tr>\n",
              "    <tr>\n",
              "      <th>109</th>\n",
              "      <td>jeffreychikhonglim@gmail.com</td>\n",
              "      <td>1</td>\n",
              "    </tr>\n",
              "    <tr>\n",
              "      <th>112</th>\n",
              "      <td>karla@changesuccess.com.au</td>\n",
              "      <td>1</td>\n",
              "    </tr>\n",
              "    <tr>\n",
              "      <th>0</th>\n",
              "      <td>Australia</td>\n",
              "      <td>1</td>\n",
              "    </tr>\n",
              "  </tbody>\n",
              "</table>\n",
              "<p>172 rows × 2 columns</p>\n",
              "</div>"
            ],
            "text/plain": [
              "                  so_user_id_code  Count\n",
              "39                       pos1205    7334\n",
              "47                       pos1227    5898\n",
              "40                       pos1206    5729\n",
              "42                       pos1208    5050\n",
              "80                       pos5215    4822\n",
              "..                            ...    ...\n",
              "99        danae.carly@hotmail.com      1\n",
              "107          jaclynp@iinet.net.au      1\n",
              "109  jeffreychikhonglim@gmail.com      1\n",
              "112    karla@changesuccess.com.au      1\n",
              "0                      Australia       1\n",
              "\n",
              "[172 rows x 2 columns]"
            ]
          },
          "metadata": {},
          "execution_count": 17
        }
      ]
    },
    {
      "cell_type": "code",
      "metadata": {
        "colab": {
          "base_uri": "https://localhost:8080/",
          "height": 290
        },
        "id": "1OmVHALsIPvD",
        "outputId": "2e3f5aa9-cb5c-4319-cff3-bd6dd0989c75"
      },
      "source": [
        "sales.groupby('so_order_source').size().reset_index(name='Count').sort_values(['Count'], ascending=False)"
      ],
      "execution_count": null,
      "outputs": [
        {
          "output_type": "execute_result",
          "data": {
            "text/html": [
              "<div>\n",
              "<style scoped>\n",
              "    .dataframe tbody tr th:only-of-type {\n",
              "        vertical-align: middle;\n",
              "    }\n",
              "\n",
              "    .dataframe tbody tr th {\n",
              "        vertical-align: top;\n",
              "    }\n",
              "\n",
              "    .dataframe thead th {\n",
              "        text-align: right;\n",
              "    }\n",
              "</style>\n",
              "<table border=\"1\" class=\"dataframe\">\n",
              "  <thead>\n",
              "    <tr style=\"text-align: right;\">\n",
              "      <th></th>\n",
              "      <th>so_order_source</th>\n",
              "      <th>Count</th>\n",
              "    </tr>\n",
              "  </thead>\n",
              "  <tbody>\n",
              "    <tr>\n",
              "      <th>4</th>\n",
              "      <td>3</td>\n",
              "      <td>203440</td>\n",
              "    </tr>\n",
              "    <tr>\n",
              "      <th>2</th>\n",
              "      <td>S</td>\n",
              "      <td>8525</td>\n",
              "    </tr>\n",
              "    <tr>\n",
              "      <th>1</th>\n",
              "      <td>P</td>\n",
              "      <td>5257</td>\n",
              "    </tr>\n",
              "    <tr>\n",
              "      <th>5</th>\n",
              "      <td>8</td>\n",
              "      <td>3431</td>\n",
              "    </tr>\n",
              "    <tr>\n",
              "      <th>6</th>\n",
              "      <td>P</td>\n",
              "      <td>2758</td>\n",
              "    </tr>\n",
              "    <tr>\n",
              "      <th>7</th>\n",
              "      <td>S</td>\n",
              "      <td>2698</td>\n",
              "    </tr>\n",
              "    <tr>\n",
              "      <th>3</th>\n",
              "      <td>0</td>\n",
              "      <td>48</td>\n",
              "    </tr>\n",
              "    <tr>\n",
              "      <th>0</th>\n",
              "      <td>-</td>\n",
              "      <td>2</td>\n",
              "    </tr>\n",
              "  </tbody>\n",
              "</table>\n",
              "</div>"
            ],
            "text/plain": [
              "  so_order_source   Count\n",
              "4               3  203440\n",
              "2              S     8525\n",
              "1              P     5257\n",
              "5               8    3431\n",
              "6               P    2758\n",
              "7               S    2698\n",
              "3               0      48\n",
              "0              -        2"
            ]
          },
          "metadata": {},
          "execution_count": 18
        }
      ]
    },
    {
      "cell_type": "code",
      "metadata": {
        "colab": {
          "base_uri": "https://localhost:8080/",
          "height": 408
        },
        "id": "JKdMH2fjJmz5",
        "outputId": "d6faaf2b-9322-4782-c332-32102b96156e"
      },
      "source": [
        "sales.groupby('sol_line_seq').size().reset_index(name='Count').sort_values(['Count'], ascending=False)"
      ],
      "execution_count": null,
      "outputs": [
        {
          "output_type": "execute_result",
          "data": {
            "text/html": [
              "<div>\n",
              "<style scoped>\n",
              "    .dataframe tbody tr th:only-of-type {\n",
              "        vertical-align: middle;\n",
              "    }\n",
              "\n",
              "    .dataframe tbody tr th {\n",
              "        vertical-align: top;\n",
              "    }\n",
              "\n",
              "    .dataframe thead th {\n",
              "        text-align: right;\n",
              "    }\n",
              "</style>\n",
              "<table border=\"1\" class=\"dataframe\">\n",
              "  <thead>\n",
              "    <tr style=\"text-align: right;\">\n",
              "      <th></th>\n",
              "      <th>sol_line_seq</th>\n",
              "      <th>Count</th>\n",
              "    </tr>\n",
              "  </thead>\n",
              "  <tbody>\n",
              "    <tr>\n",
              "      <th>208</th>\n",
              "      <td>1</td>\n",
              "      <td>41435</td>\n",
              "    </tr>\n",
              "    <tr>\n",
              "      <th>6</th>\n",
              "      <td>1</td>\n",
              "      <td>37891</td>\n",
              "    </tr>\n",
              "    <tr>\n",
              "      <th>17</th>\n",
              "      <td>2</td>\n",
              "      <td>25095</td>\n",
              "    </tr>\n",
              "    <tr>\n",
              "      <th>230</th>\n",
              "      <td>2</td>\n",
              "      <td>21658</td>\n",
              "    </tr>\n",
              "    <tr>\n",
              "      <th>28</th>\n",
              "      <td>3</td>\n",
              "      <td>15522</td>\n",
              "    </tr>\n",
              "    <tr>\n",
              "      <th>...</th>\n",
              "      <td>...</td>\n",
              "      <td>...</td>\n",
              "    </tr>\n",
              "    <tr>\n",
              "      <th>154</th>\n",
              "      <td>70</td>\n",
              "      <td>1</td>\n",
              "    </tr>\n",
              "    <tr>\n",
              "      <th>234</th>\n",
              "      <td>2.3</td>\n",
              "      <td>1</td>\n",
              "    </tr>\n",
              "    <tr>\n",
              "      <th>155</th>\n",
              "      <td>71</td>\n",
              "      <td>1</td>\n",
              "    </tr>\n",
              "    <tr>\n",
              "      <th>156</th>\n",
              "      <td>72</td>\n",
              "      <td>1</td>\n",
              "    </tr>\n",
              "    <tr>\n",
              "      <th>166</th>\n",
              "      <td>99</td>\n",
              "      <td>1</td>\n",
              "    </tr>\n",
              "  </tbody>\n",
              "</table>\n",
              "<p>332 rows × 2 columns</p>\n",
              "</div>"
            ],
            "text/plain": [
              "    sol_line_seq  Count\n",
              "208            1  41435\n",
              "6              1  37891\n",
              "17             2  25095\n",
              "230            2  21658\n",
              "28             3  15522\n",
              "..           ...    ...\n",
              "154           70      1\n",
              "234          2.3      1\n",
              "155           71      1\n",
              "156           72      1\n",
              "166           99      1\n",
              "\n",
              "[332 rows x 2 columns]"
            ]
          },
          "metadata": {},
          "execution_count": 20
        }
      ]
    },
    {
      "cell_type": "code",
      "metadata": {
        "colab": {
          "base_uri": "https://localhost:8080/",
          "height": 424
        },
        "id": "MjVH4MaieSnz",
        "outputId": "1810ad06-098e-44e9-e083-b8fccf1dbd10"
      },
      "source": [
        "sales.groupby('reorder_buyer').size().reset_index(name='Count').sort_values(['Count'], ascending=False)"
      ],
      "execution_count": null,
      "outputs": [
        {
          "output_type": "execute_result",
          "data": {
            "text/html": [
              "<div>\n",
              "<style scoped>\n",
              "    .dataframe tbody tr th:only-of-type {\n",
              "        vertical-align: middle;\n",
              "    }\n",
              "\n",
              "    .dataframe tbody tr th {\n",
              "        vertical-align: top;\n",
              "    }\n",
              "\n",
              "    .dataframe thead th {\n",
              "        text-align: right;\n",
              "    }\n",
              "</style>\n",
              "<table border=\"1\" class=\"dataframe\">\n",
              "  <thead>\n",
              "    <tr style=\"text-align: right;\">\n",
              "      <th></th>\n",
              "      <th>reorder_buyer</th>\n",
              "      <th>Count</th>\n",
              "    </tr>\n",
              "  </thead>\n",
              "  <tbody>\n",
              "    <tr>\n",
              "      <th>1</th>\n",
              "      <td>7</td>\n",
              "      <td>128966</td>\n",
              "    </tr>\n",
              "    <tr>\n",
              "      <th>7</th>\n",
              "      <td>27</td>\n",
              "      <td>62705</td>\n",
              "    </tr>\n",
              "    <tr>\n",
              "      <th>13</th>\n",
              "      <td>39</td>\n",
              "      <td>33210</td>\n",
              "    </tr>\n",
              "    <tr>\n",
              "      <th>834</th>\n",
              "      <td>S</td>\n",
              "      <td>33070</td>\n",
              "    </tr>\n",
              "    <tr>\n",
              "      <th>5</th>\n",
              "      <td>22</td>\n",
              "      <td>30829</td>\n",
              "    </tr>\n",
              "    <tr>\n",
              "      <th>...</th>\n",
              "      <td>...</td>\n",
              "      <td>...</td>\n",
              "    </tr>\n",
              "    <tr>\n",
              "      <th>428</th>\n",
              "      <td>132STO150050LIC</td>\n",
              "      <td>1</td>\n",
              "    </tr>\n",
              "    <tr>\n",
              "      <th>427</th>\n",
              "      <td>132STO150050DAC</td>\n",
              "      <td>1</td>\n",
              "    </tr>\n",
              "    <tr>\n",
              "      <th>424</th>\n",
              "      <td>132SERQUEBEDBRW</td>\n",
              "      <td>1</td>\n",
              "    </tr>\n",
              "    <tr>\n",
              "      <th>421</th>\n",
              "      <td>132SAVQUEBEDCOM</td>\n",
              "      <td>1</td>\n",
              "    </tr>\n",
              "    <tr>\n",
              "      <th>420</th>\n",
              "      <td>132SAVDOUBEDCOM</td>\n",
              "      <td>1</td>\n",
              "    </tr>\n",
              "  </tbody>\n",
              "</table>\n",
              "<p>840 rows × 2 columns</p>\n",
              "</div>"
            ],
            "text/plain": [
              "       reorder_buyer   Count\n",
              "1                  7  128966\n",
              "7                 27   62705\n",
              "13                39   33210\n",
              "834                S   33070\n",
              "5                 22   30829\n",
              "..               ...     ...\n",
              "428  132STO150050LIC       1\n",
              "427  132STO150050DAC       1\n",
              "424  132SERQUEBEDBRW       1\n",
              "421  132SAVQUEBEDCOM       1\n",
              "420  132SAVDOUBEDCOM       1\n",
              "\n",
              "[840 rows x 2 columns]"
            ]
          },
          "metadata": {},
          "execution_count": 41
        }
      ]
    },
    {
      "cell_type": "markdown",
      "metadata": {
        "id": "jfvMrW3fzNlQ"
      },
      "source": [
        "# Agrego feature externos: ventas_minoristas de Australia\n",
        "\n"
      ]
    },
    {
      "cell_type": "code",
      "metadata": {
        "id": "POcn4H7lzWqo"
      },
      "source": [
        "from pandas import read_excel\n",
        "my_sheet = 'Data1' \n",
        "file = 'https://www.abs.gov.au/statistics/industry/retail-and-wholesale-trade/retail-trade-australia/oct-2021/850101.xls'\n",
        "df = read_excel(file, sheet_name = my_sheet, usecols=[0,1,2,3,4,5,6,7])            "
      ],
      "execution_count": null,
      "outputs": []
    },
    {
      "cell_type": "code",
      "metadata": {
        "id": "tE5M2znl7wZB"
      },
      "source": [
        "df = df.iloc[9:,]"
      ],
      "execution_count": null,
      "outputs": []
    },
    {
      "cell_type": "code",
      "metadata": {
        "colab": {
          "base_uri": "https://localhost:8080/",
          "height": 346
        },
        "id": "F5ElhOZ99tdB",
        "outputId": "8f93a5bd-56ae-43f8-868a-04d6ed724218"
      },
      "source": [
        "df.head()"
      ],
      "execution_count": null,
      "outputs": [
        {
          "output_type": "execute_result",
          "data": {
            "text/html": [
              "<div>\n",
              "<style scoped>\n",
              "    .dataframe tbody tr th:only-of-type {\n",
              "        vertical-align: middle;\n",
              "    }\n",
              "\n",
              "    .dataframe tbody tr th {\n",
              "        vertical-align: top;\n",
              "    }\n",
              "\n",
              "    .dataframe thead th {\n",
              "        text-align: right;\n",
              "    }\n",
              "</style>\n",
              "<table border=\"1\" class=\"dataframe\">\n",
              "  <thead>\n",
              "    <tr style=\"text-align: right;\">\n",
              "      <th></th>\n",
              "      <th>Unnamed: 0</th>\n",
              "      <th>Turnover ;  Total (State) ;  Food retailing ;</th>\n",
              "      <th>Turnover ;  Total (State) ;  Household goods retailing ;</th>\n",
              "      <th>Turnover ;  Total (State) ;  Clothing, footwear and personal accessory retailing ;</th>\n",
              "      <th>Turnover ;  Total (State) ;  Department stores ;</th>\n",
              "      <th>Turnover ;  Total (State) ;  Other retailing ;</th>\n",
              "      <th>Turnover ;  Total (State) ;  Cafes, restaurants and takeaway food services ;</th>\n",
              "      <th>Turnover ;  Total (State) ;  Total (Industry) ;</th>\n",
              "    </tr>\n",
              "  </thead>\n",
              "  <tbody>\n",
              "    <tr>\n",
              "      <th>9</th>\n",
              "      <td>1982-04-01 00:00:00</td>\n",
              "      <td>1162.6</td>\n",
              "      <td>592.3</td>\n",
              "      <td>359.9</td>\n",
              "      <td>460.1</td>\n",
              "      <td>479.1</td>\n",
              "      <td>342.4</td>\n",
              "      <td>3396.4</td>\n",
              "    </tr>\n",
              "    <tr>\n",
              "      <th>10</th>\n",
              "      <td>1982-05-01 00:00:00</td>\n",
              "      <td>1150.9</td>\n",
              "      <td>629.6</td>\n",
              "      <td>386.6</td>\n",
              "      <td>502.6</td>\n",
              "      <td>486.1</td>\n",
              "      <td>342.1</td>\n",
              "      <td>3497.9</td>\n",
              "    </tr>\n",
              "    <tr>\n",
              "      <th>11</th>\n",
              "      <td>1982-06-01 00:00:00</td>\n",
              "      <td>1160</td>\n",
              "      <td>607.4</td>\n",
              "      <td>350.5</td>\n",
              "      <td>443.8</td>\n",
              "      <td>467.5</td>\n",
              "      <td>328.7</td>\n",
              "      <td>3357.8</td>\n",
              "    </tr>\n",
              "    <tr>\n",
              "      <th>12</th>\n",
              "      <td>1982-07-01 00:00:00</td>\n",
              "      <td>1206.4</td>\n",
              "      <td>632.4</td>\n",
              "      <td>359.3</td>\n",
              "      <td>459.1</td>\n",
              "      <td>491.1</td>\n",
              "      <td>338.5</td>\n",
              "      <td>3486.8</td>\n",
              "    </tr>\n",
              "    <tr>\n",
              "      <th>13</th>\n",
              "      <td>1982-08-01 00:00:00</td>\n",
              "      <td>1152.5</td>\n",
              "      <td>622.6</td>\n",
              "      <td>325.2</td>\n",
              "      <td>438.4</td>\n",
              "      <td>485.7</td>\n",
              "      <td>331.5</td>\n",
              "      <td>3355.9</td>\n",
              "    </tr>\n",
              "  </tbody>\n",
              "</table>\n",
              "</div>"
            ],
            "text/plain": [
              "             Unnamed: 0  ... Turnover ;  Total (State) ;  Total (Industry) ;\n",
              "9   1982-04-01 00:00:00  ...                                          3396.4\n",
              "10  1982-05-01 00:00:00  ...                                          3497.9\n",
              "11  1982-06-01 00:00:00  ...                                          3357.8\n",
              "12  1982-07-01 00:00:00  ...                                          3486.8\n",
              "13  1982-08-01 00:00:00  ...                                          3355.9\n",
              "\n",
              "[5 rows x 8 columns]"
            ]
          },
          "metadata": {},
          "execution_count": 15
        }
      ]
    },
    {
      "cell_type": "code",
      "metadata": {
        "id": "_0FQgVdY_GHf"
      },
      "source": [
        "ventas_minoristas = df"
      ],
      "execution_count": null,
      "outputs": []
    },
    {
      "cell_type": "code",
      "metadata": {
        "id": "iTKAkA_e_c8V"
      },
      "source": [
        "ventas_minoristas.columns = ['dates', 'food', 'household_goods', 'clothing', 'department_stores', 'other', 'restaurants_takeaw_food', 'industry']"
      ],
      "execution_count": null,
      "outputs": []
    },
    {
      "cell_type": "code",
      "metadata": {
        "colab": {
          "base_uri": "https://localhost:8080/"
        },
        "id": "RIn8GpwZ_dDN",
        "outputId": "527b716d-7e91-46fa-8b51-7a08063ce14d"
      },
      "source": [
        "ventas_minoristas.info()"
      ],
      "execution_count": null,
      "outputs": [
        {
          "output_type": "stream",
          "name": "stdout",
          "text": [
            "<class 'pandas.core.frame.DataFrame'>\n",
            "RangeIndex: 475 entries, 9 to 483\n",
            "Data columns (total 8 columns):\n",
            " #   Column                   Non-Null Count  Dtype \n",
            "---  ------                   --------------  ----- \n",
            " 0   dates                    475 non-null    object\n",
            " 1   food                     475 non-null    object\n",
            " 2   household_goods          475 non-null    object\n",
            " 3   clothing                 475 non-null    object\n",
            " 4   department_stores        475 non-null    object\n",
            " 5   other                    475 non-null    object\n",
            " 6   restaurants_takeaw_food  475 non-null    object\n",
            " 7   industry                 475 non-null    object\n",
            "dtypes: object(8)\n",
            "memory usage: 29.8+ KB\n"
          ]
        }
      ]
    },
    {
      "cell_type": "code",
      "metadata": {
        "colab": {
          "base_uri": "https://localhost:8080/"
        },
        "id": "B0aWkN2G_dGd",
        "outputId": "e3ac869e-f002-4ae9-e3cc-74bdc3bb1c37"
      },
      "source": [
        "ventas_minoristas['dates'] = pd.to_datetime(ventas_minoristas['dates'])\n",
        "ventas_minoristas['food'] = pd.to_numeric(ventas_minoristas['food'],errors = 'coerce')\n",
        "ventas_minoristas['household_goods'] = pd.to_numeric(ventas_minoristas['household_goods'],errors = 'coerce')\n",
        "ventas_minoristas['clothing'] = pd.to_numeric(ventas_minoristas['clothing'],errors = 'coerce')\n",
        "ventas_minoristas['department_stores'] = pd.to_numeric(ventas_minoristas['department_stores'],errors = 'coerce')\n",
        "ventas_minoristas['other'] = pd.to_numeric(ventas_minoristas['other'],errors = 'coerce')\n",
        "ventas_minoristas['restaurants_takeaw_food'] = pd.to_numeric(ventas_minoristas['restaurants_takeaw_food'],errors = 'coerce')\n",
        "ventas_minoristas['industry'] = pd.to_numeric(ventas_minoristas['industry'],errors = 'coerce')\n",
        "ventas_minoristas.info()\n"
      ],
      "execution_count": null,
      "outputs": [
        {
          "output_type": "stream",
          "name": "stdout",
          "text": [
            "<class 'pandas.core.frame.DataFrame'>\n",
            "RangeIndex: 475 entries, 9 to 483\n",
            "Data columns (total 8 columns):\n",
            " #   Column                   Non-Null Count  Dtype         \n",
            "---  ------                   --------------  -----         \n",
            " 0   dates                    475 non-null    datetime64[ns]\n",
            " 1   food                     475 non-null    float64       \n",
            " 2   household_goods          475 non-null    float64       \n",
            " 3   clothing                 475 non-null    float64       \n",
            " 4   department_stores        475 non-null    float64       \n",
            " 5   other                    475 non-null    float64       \n",
            " 6   restaurants_takeaw_food  475 non-null    float64       \n",
            " 7   industry                 475 non-null    float64       \n",
            "dtypes: datetime64[ns](1), float64(7)\n",
            "memory usage: 29.8 KB\n"
          ]
        }
      ]
    },
    {
      "cell_type": "code",
      "metadata": {
        "colab": {
          "base_uri": "https://localhost:8080/",
          "height": 200
        },
        "id": "gHqVGanU_dKn",
        "outputId": "c0600895-f5e2-4f0d-99f4-570eb72b70c9"
      },
      "source": [
        "ventas_minoristas.head()\n"
      ],
      "execution_count": null,
      "outputs": [
        {
          "output_type": "execute_result",
          "data": {
            "text/html": [
              "<div>\n",
              "<style scoped>\n",
              "    .dataframe tbody tr th:only-of-type {\n",
              "        vertical-align: middle;\n",
              "    }\n",
              "\n",
              "    .dataframe tbody tr th {\n",
              "        vertical-align: top;\n",
              "    }\n",
              "\n",
              "    .dataframe thead th {\n",
              "        text-align: right;\n",
              "    }\n",
              "</style>\n",
              "<table border=\"1\" class=\"dataframe\">\n",
              "  <thead>\n",
              "    <tr style=\"text-align: right;\">\n",
              "      <th></th>\n",
              "      <th>dates</th>\n",
              "      <th>food</th>\n",
              "      <th>household_goods</th>\n",
              "      <th>clothing</th>\n",
              "      <th>department_stores</th>\n",
              "      <th>other</th>\n",
              "      <th>restaurants_takeaw_food</th>\n",
              "      <th>industry</th>\n",
              "    </tr>\n",
              "  </thead>\n",
              "  <tbody>\n",
              "    <tr>\n",
              "      <th>9</th>\n",
              "      <td>1982-04-01</td>\n",
              "      <td>1162.6</td>\n",
              "      <td>592.3</td>\n",
              "      <td>359.9</td>\n",
              "      <td>460.1</td>\n",
              "      <td>479.1</td>\n",
              "      <td>342.4</td>\n",
              "      <td>3396.4</td>\n",
              "    </tr>\n",
              "    <tr>\n",
              "      <th>10</th>\n",
              "      <td>1982-05-01</td>\n",
              "      <td>1150.9</td>\n",
              "      <td>629.6</td>\n",
              "      <td>386.6</td>\n",
              "      <td>502.6</td>\n",
              "      <td>486.1</td>\n",
              "      <td>342.1</td>\n",
              "      <td>3497.9</td>\n",
              "    </tr>\n",
              "    <tr>\n",
              "      <th>11</th>\n",
              "      <td>1982-06-01</td>\n",
              "      <td>1160.0</td>\n",
              "      <td>607.4</td>\n",
              "      <td>350.5</td>\n",
              "      <td>443.8</td>\n",
              "      <td>467.5</td>\n",
              "      <td>328.7</td>\n",
              "      <td>3357.8</td>\n",
              "    </tr>\n",
              "    <tr>\n",
              "      <th>12</th>\n",
              "      <td>1982-07-01</td>\n",
              "      <td>1206.4</td>\n",
              "      <td>632.4</td>\n",
              "      <td>359.3</td>\n",
              "      <td>459.1</td>\n",
              "      <td>491.1</td>\n",
              "      <td>338.5</td>\n",
              "      <td>3486.8</td>\n",
              "    </tr>\n",
              "    <tr>\n",
              "      <th>13</th>\n",
              "      <td>1982-08-01</td>\n",
              "      <td>1152.5</td>\n",
              "      <td>622.6</td>\n",
              "      <td>325.2</td>\n",
              "      <td>438.4</td>\n",
              "      <td>485.7</td>\n",
              "      <td>331.5</td>\n",
              "      <td>3355.9</td>\n",
              "    </tr>\n",
              "  </tbody>\n",
              "</table>\n",
              "</div>"
            ],
            "text/plain": [
              "        dates    food  ...  restaurants_takeaw_food  industry\n",
              "9  1982-04-01  1162.6  ...                    342.4    3396.4\n",
              "10 1982-05-01  1150.9  ...                    342.1    3497.9\n",
              "11 1982-06-01  1160.0  ...                    328.7    3357.8\n",
              "12 1982-07-01  1206.4  ...                    338.5    3486.8\n",
              "13 1982-08-01  1152.5  ...                    331.5    3355.9\n",
              "\n",
              "[5 rows x 8 columns]"
            ]
          },
          "metadata": {},
          "execution_count": 20
        }
      ]
    },
    {
      "cell_type": "markdown",
      "metadata": {
        "id": "dY2vH8cYdg2H"
      },
      "source": [
        "Tenemos las ventas minoristas de Australia histórico 1982-1921 por industria, inluye household_goods."
      ]
    },
    {
      "cell_type": "markdown",
      "metadata": {
        "id": "4-HU9upYdzzO"
      },
      "source": [
        "# Iniciamos Modelado"
      ]
    },
    {
      "cell_type": "markdown",
      "metadata": {
        "id": "XOZnnbegeCwh"
      },
      "source": [
        "Vamos a filtrar el data set para las categorías que nos interesan y filtrar features."
      ]
    },
    {
      "cell_type": "markdown",
      "metadata": {
        "id": "HOxt7O1omIMO"
      },
      "source": [
        "Filtramos observaciones de los códigos que nos interesan"
      ]
    },
    {
      "cell_type": "code",
      "metadata": {
        "id": "NIrlTeyFd41p"
      },
      "source": [
        "products_code = {7, 22, 27, 39}\n",
        "df = sales.loc[sales['reorder_buyer'].isin(products_code)]"
      ],
      "execution_count": 317,
      "outputs": []
    },
    {
      "cell_type": "code",
      "metadata": {
        "colab": {
          "base_uri": "https://localhost:8080/"
        },
        "id": "UTrM7_Nsi5Mf",
        "outputId": "f7ba25fb-cec8-4a79-8748-f4bdfde30b23"
      },
      "source": [
        "df.shape"
      ],
      "execution_count": 318,
      "outputs": [
        {
          "output_type": "execute_result",
          "data": {
            "text/plain": [
              "(255710, 71)"
            ]
          },
          "metadata": {},
          "execution_count": 318
        }
      ]
    },
    {
      "cell_type": "code",
      "metadata": {
        "colab": {
          "base_uri": "https://localhost:8080/",
          "height": 512
        },
        "id": "aopugJ31kPPU",
        "outputId": "de161470-9f0b-4001-ea4e-05e9c55c1256"
      },
      "source": [
        "categorias = df.groupby([\"reorder_buyer\"]).size()\n",
        "fig1, ax1 = plt.subplots(figsize=(16,8))\n",
        "categorias.plot.bar();"
      ],
      "execution_count": 319,
      "outputs": [
        {
          "output_type": "display_data",
          "data": {
            "image/png": "[encoded data removed]",
            "text/plain": [
              "<Figure size 1152x576 with 1 Axes>"
            ]
          },
          "metadata": {
            "needs_background": "light"
          }
        }
      ]
    },
    {
      "cell_type": "markdown",
      "metadata": {
        "id": "8vM7cHU5mPnW"
      },
      "source": [
        "Filtramos features preseleccionados con gente del dominio"
      ]
    },
    {
      "cell_type": "code",
      "metadata": {
        "id": "ml_kx-HIlC7D"
      },
      "source": [
        "df = df[['reorder_buyer', 'STORE', 'so_order_date', 'so_delivery_date', 'order_packages', 'so_order_status', 'so_invoice_no', 'sol_ordered_qty', 'sol_line_amount']]"
      ],
      "execution_count": 320,
      "outputs": []
    },
    {
      "cell_type": "code",
      "metadata": {
        "colab": {
          "base_uri": "https://localhost:8080/"
        },
        "id": "1XSFEMT-oxD1",
        "outputId": "b5504da4-f81c-4912-9b68-f98842b0d448"
      },
      "source": [
        "df.shape"
      ],
      "execution_count": 321,
      "outputs": [
        {
          "output_type": "execute_result",
          "data": {
            "text/plain": [
              "(255710, 9)"
            ]
          },
          "metadata": {},
          "execution_count": 321
        }
      ]
    },
    {
      "cell_type": "markdown",
      "metadata": {
        "id": "OSL9I2UW8kiz"
      },
      "source": [
        "Crear nuevos features"
      ]
    },
    {
      "cell_type": "code",
      "metadata": {
        "id": "BeDc1yIm8oDO"
      },
      "source": [
        "df['dif_order_deliver'] = (df['so_delivery_date'] - df['so_order_date']).dt.days"
      ],
      "execution_count": 322,
      "outputs": []
    },
    {
      "cell_type": "markdown",
      "metadata": {
        "id": "NzpOYjAWOAl4"
      },
      "source": [
        "# Corregir formato fecha"
      ]
    },
    {
      "cell_type": "code",
      "metadata": {
        "colab": {
          "base_uri": "https://localhost:8080/",
          "height": 301
        },
        "id": "tFHnJpBZ-YtV",
        "outputId": "1e3e7a01-f429-43fc-b18a-d447bed864d2"
      },
      "source": [
        "df.head()"
      ],
      "execution_count": 306,
      "outputs": [
        {
          "output_type": "execute_result",
          "data": {
            "text/html": [
              "<div>\n",
              "<style scoped>\n",
              "    .dataframe tbody tr th:only-of-type {\n",
              "        vertical-align: middle;\n",
              "    }\n",
              "\n",
              "    .dataframe tbody tr th {\n",
              "        vertical-align: top;\n",
              "    }\n",
              "\n",
              "    .dataframe thead th {\n",
              "        text-align: right;\n",
              "    }\n",
              "</style>\n",
              "<table border=\"1\" class=\"dataframe\">\n",
              "  <thead>\n",
              "    <tr style=\"text-align: right;\">\n",
              "      <th></th>\n",
              "      <th>reorder_buyer</th>\n",
              "      <th>STORE</th>\n",
              "      <th>so_order_date</th>\n",
              "      <th>so_delivery_date</th>\n",
              "      <th>order_packages</th>\n",
              "      <th>so_order_status</th>\n",
              "      <th>so_invoice_no</th>\n",
              "      <th>sol_ordered_qty</th>\n",
              "      <th>sol_line_amount</th>\n",
              "      <th>dif_order_deliver</th>\n",
              "    </tr>\n",
              "  </thead>\n",
              "  <tbody>\n",
              "    <tr>\n",
              "      <th>90284</th>\n",
              "      <td>22</td>\n",
              "      <td>SG &amp; JL Hornsby</td>\n",
              "      <td>2018-08-01</td>\n",
              "      <td>2018-01-16</td>\n",
              "      <td>4</td>\n",
              "      <td>90</td>\n",
              "      <td>545238</td>\n",
              "      <td>1</td>\n",
              "      <td>313</td>\n",
              "      <td>-197.0</td>\n",
              "    </tr>\n",
              "    <tr>\n",
              "      <th>90285</th>\n",
              "      <td>22</td>\n",
              "      <td>SG Auburn</td>\n",
              "      <td>2018-01-14</td>\n",
              "      <td>2018-01-31</td>\n",
              "      <td>2</td>\n",
              "      <td>90</td>\n",
              "      <td>547052</td>\n",
              "      <td>1</td>\n",
              "      <td>313</td>\n",
              "      <td>17.0</td>\n",
              "    </tr>\n",
              "    <tr>\n",
              "      <th>90286</th>\n",
              "      <td>22</td>\n",
              "      <td>SG &amp; JL Hornsby</td>\n",
              "      <td>2018-01-18</td>\n",
              "      <td>2018-05-03</td>\n",
              "      <td>1</td>\n",
              "      <td>90</td>\n",
              "      <td>548130</td>\n",
              "      <td>1</td>\n",
              "      <td>329</td>\n",
              "      <td>105.0</td>\n",
              "    </tr>\n",
              "    <tr>\n",
              "      <th>90287</th>\n",
              "      <td>22</td>\n",
              "      <td>SG &amp; JL Hornsby</td>\n",
              "      <td>2018-01-28</td>\n",
              "      <td>2018-01-02</td>\n",
              "      <td>4</td>\n",
              "      <td>90</td>\n",
              "      <td>551153</td>\n",
              "      <td>1</td>\n",
              "      <td>329</td>\n",
              "      <td>-26.0</td>\n",
              "    </tr>\n",
              "    <tr>\n",
              "      <th>90288</th>\n",
              "      <td>22</td>\n",
              "      <td>SG Auburn</td>\n",
              "      <td>2018-04-02</td>\n",
              "      <td>2018-06-02</td>\n",
              "      <td>4</td>\n",
              "      <td>90</td>\n",
              "      <td>553410</td>\n",
              "      <td>1</td>\n",
              "      <td>310</td>\n",
              "      <td>61.0</td>\n",
              "    </tr>\n",
              "  </tbody>\n",
              "</table>\n",
              "</div>"
            ],
            "text/plain": [
              "      reorder_buyer            STORE  ... sol_line_amount dif_order_deliver\n",
              "90284            22  SG & JL Hornsby  ...             313            -197.0\n",
              "90285            22        SG Auburn  ...             313              17.0\n",
              "90286            22  SG & JL Hornsby  ...             329             105.0\n",
              "90287            22  SG & JL Hornsby  ...             329             -26.0\n",
              "90288            22        SG Auburn  ...             310              61.0\n",
              "\n",
              "[5 rows x 10 columns]"
            ]
          },
          "metadata": {},
          "execution_count": 306
        }
      ]
    },
    {
      "cell_type": "code",
      "metadata": {
        "colab": {
          "base_uri": "https://localhost:8080/",
          "height": 291
        },
        "id": "eASngulL9YlL",
        "outputId": "fd652d64-c3c7-4f3a-ffc9-2d78f9f82528"
      },
      "source": [
        "df.dif_order_deliver.hist()"
      ],
      "execution_count": 323,
      "outputs": [
        {
          "output_type": "execute_result",
          "data": {
            "text/plain": [
              "<matplotlib.axes._subplots.AxesSubplot at 0x7f59afcad690>"
            ]
          },
          "metadata": {},
          "execution_count": 323
        },
        {
          "output_type": "display_data",
          "data": {
            "image/png": "[encoded data removed]",
            "text/plain": [
              "<Figure size 432x288 with 1 Axes>"
            ]
          },
          "metadata": {
            "needs_background": "light"
          }
        }
      ]
    },
    {
      "cell_type": "markdown",
      "metadata": {
        "id": "0jZHSxQ1_hqS"
      },
      "source": [
        "En el histograma podemos ver la diferencia en días corridos entre la *order_date* y la *delivery_date* que estaría asociada a la demora en la entrega del producto. El resultado es anómalo pues tiene demoras negativas, lo que implica que el producto se entregó antes que se genere la orden. Puede estar vinculado al registro de backorders, así que lo vamos a filtrar por razones de consistencia. "
      ]
    },
    {
      "cell_type": "code",
      "metadata": {
        "id": "CzQfWuI_AKwe"
      },
      "source": [
        "df = df.loc[df['dif_order_deliver'] >= 0]"
      ],
      "execution_count": 324,
      "outputs": []
    },
    {
      "cell_type": "code",
      "metadata": {
        "colab": {
          "base_uri": "https://localhost:8080/",
          "height": 290
        },
        "id": "AjJztq6vttNf",
        "outputId": "8657ca17-3989-4e75-aad2-60f7f6fc64cd"
      },
      "source": [
        "df.dif_order_deliver.hist()"
      ],
      "execution_count": 329,
      "outputs": [
        {
          "output_type": "execute_result",
          "data": {
            "text/plain": [
              "<matplotlib.axes._subplots.AxesSubplot at 0x7f59af330790>"
            ]
          },
          "metadata": {},
          "execution_count": 329
        },
        {
          "output_type": "display_data",
          "data": {
            "image/png": "[encoded data removed]",
            "text/plain": [
              "<Figure size 432x288 with 1 Axes>"
            ]
          },
          "metadata": {
            "needs_background": "light"
          }
        }
      ]
    },
    {
      "cell_type": "code",
      "metadata": {
        "colab": {
          "base_uri": "https://localhost:8080/",
          "height": 290
        },
        "id": "VZvpPtSxAz0L",
        "outputId": "c8e4e86f-ef14-49c4-f6ee-8cf402440338"
      },
      "source": [
        "df.dif_order_deliver.hist(bins= range(100))"
      ],
      "execution_count": 328,
      "outputs": [
        {
          "output_type": "execute_result",
          "data": {
            "text/plain": [
              "<matplotlib.axes._subplots.AxesSubplot at 0x7f59b10a60d0>"
            ]
          },
          "metadata": {},
          "execution_count": 328
        },
        {
          "output_type": "display_data",
          "data": {
            "image/png": "[encoded data removed]",
            "text/plain": [
              "<Figure size 432x288 with 1 Axes>"
            ]
          },
          "metadata": {
            "needs_background": "light"
          }
        }
      ]
    },
    {
      "cell_type": "markdown",
      "metadata": {
        "id": "pxRfg7cRsuMg"
      },
      "source": [
        "Hay demoras muy grandes > 60 ¿puede ser?"
      ]
    },
    {
      "cell_type": "code",
      "metadata": {
        "colab": {
          "base_uri": "https://localhost:8080/"
        },
        "id": "YPr86z8dA3Tz",
        "outputId": "09ffb217-0f44-43dc-b0e6-4fd532c5541b"
      },
      "source": [
        "df.shape"
      ],
      "execution_count": null,
      "outputs": [
        {
          "output_type": "execute_result",
          "data": {
            "text/plain": [
              "(201107, 10)"
            ]
          },
          "metadata": {},
          "execution_count": 246
        }
      ]
    },
    {
      "cell_type": "code",
      "metadata": {
        "colab": {
          "base_uri": "https://localhost:8080/"
        },
        "id": "xUX4eyu3DHrh",
        "outputId": "23bc30d7-6c07-49e4-f57a-652d5f43f1ac"
      },
      "source": [
        "df.info()"
      ],
      "execution_count": null,
      "outputs": [
        {
          "output_type": "stream",
          "name": "stdout",
          "text": [
            "<class 'pandas.core.frame.DataFrame'>\n",
            "Int64Index: 201107 entries, 90285 to 224174\n",
            "Data columns (total 10 columns):\n",
            " #   Column             Non-Null Count   Dtype         \n",
            "---  ------             --------------   -----         \n",
            " 0   reorder_buyer      201107 non-null  object        \n",
            " 1   STORE              198910 non-null  object        \n",
            " 2   so_order_date      201107 non-null  datetime64[ns]\n",
            " 3   so_delivery_date   201107 non-null  datetime64[ns]\n",
            " 4   order_packages     201107 non-null  object        \n",
            " 5   so_order_status    201107 non-null  int64         \n",
            " 6   so_invoice_no      201107 non-null  object        \n",
            " 7   sol_ordered_qty    201107 non-null  object        \n",
            " 8   sol_line_amount    201107 non-null  object        \n",
            " 9   dif_order_deliver  201107 non-null  float64       \n",
            "dtypes: datetime64[ns](2), float64(1), int64(1), object(6)\n",
            "memory usage: 16.9+ MB\n"
          ]
        }
      ]
    },
    {
      "cell_type": "markdown",
      "metadata": {
        "id": "63LM8c9GKqd9"
      },
      "source": [
        "# Formateamos features"
      ]
    },
    {
      "cell_type": "code",
      "metadata": {
        "id": "Owk4a3NeDh47"
      },
      "source": [
        "cols = ['reorder_buyer', 'STORE', 'so_order_status', 'so_invoice_no']\n",
        "df[cols] = df[cols].astype('category')"
      ],
      "execution_count": 310,
      "outputs": []
    },
    {
      "cell_type": "code",
      "metadata": {
        "colab": {
          "base_uri": "https://localhost:8080/"
        },
        "id": "TjqFZKKxEp1W",
        "outputId": "f67deb8d-7a08-4c39-c8b1-ec5d0d9dc840"
      },
      "source": [
        "df.info()"
      ],
      "execution_count": 311,
      "outputs": [
        {
          "output_type": "stream",
          "name": "stdout",
          "text": [
            "<class 'pandas.core.frame.DataFrame'>\n",
            "Int64Index: 201107 entries, 90285 to 224174\n",
            "Data columns (total 10 columns):\n",
            " #   Column             Non-Null Count   Dtype         \n",
            "---  ------             --------------   -----         \n",
            " 0   reorder_buyer      201107 non-null  category      \n",
            " 1   STORE              198910 non-null  category      \n",
            " 2   so_order_date      201107 non-null  datetime64[ns]\n",
            " 3   so_delivery_date   201107 non-null  datetime64[ns]\n",
            " 4   order_packages     201107 non-null  object        \n",
            " 5   so_order_status    201107 non-null  category      \n",
            " 6   so_invoice_no      201107 non-null  category      \n",
            " 7   sol_ordered_qty    201107 non-null  object        \n",
            " 8   sol_line_amount    201107 non-null  object        \n",
            " 9   dif_order_deliver  201107 non-null  float64       \n",
            "dtypes: category(4), datetime64[ns](2), float64(1), object(3)\n",
            "memory usage: 17.9+ MB\n"
          ]
        }
      ]
    },
    {
      "cell_type": "code",
      "metadata": {
        "id": "c4IaOHDLFPbT"
      },
      "source": [
        "# error en los paquetes : Unable to parse string \" -   \" at position 856\n",
        "# df['order_packages'] = pd.to_numeric(df['order_packages']) #"
      ],
      "execution_count": null,
      "outputs": []
    },
    {
      "cell_type": "code",
      "metadata": {
        "id": "cVmAYeTaFPeo"
      },
      "source": [
        "df['order_packages'] = pd.to_numeric(df['order_packages'], errors='coerce').convert_dtypes()\n",
        "df['sol_ordered_qty'] = pd.to_numeric(df['sol_ordered_qty'], errors='coerce').convert_dtypes()\n",
        "df['sol_line_amount'] = pd.to_numeric(df['sol_line_amount'], errors='coerce').convert_dtypes()"
      ],
      "execution_count": 312,
      "outputs": []
    },
    {
      "cell_type": "code",
      "metadata": {
        "colab": {
          "base_uri": "https://localhost:8080/"
        },
        "id": "lZXLcWSAHlvO",
        "outputId": "c430ba89-d71a-4f2b-8614-1b22c0b50ff7"
      },
      "source": [
        "df.info()"
      ],
      "execution_count": 313,
      "outputs": [
        {
          "output_type": "stream",
          "name": "stdout",
          "text": [
            "<class 'pandas.core.frame.DataFrame'>\n",
            "Int64Index: 201107 entries, 90285 to 224174\n",
            "Data columns (total 10 columns):\n",
            " #   Column             Non-Null Count   Dtype         \n",
            "---  ------             --------------   -----         \n",
            " 0   reorder_buyer      201107 non-null  category      \n",
            " 1   STORE              198910 non-null  category      \n",
            " 2   so_order_date      201107 non-null  datetime64[ns]\n",
            " 3   so_delivery_date   201107 non-null  datetime64[ns]\n",
            " 4   order_packages     198797 non-null  Int64         \n",
            " 5   so_order_status    201107 non-null  category      \n",
            " 6   so_invoice_no      201107 non-null  category      \n",
            " 7   sol_ordered_qty    201107 non-null  Int64         \n",
            " 8   sol_line_amount    166082 non-null  float64       \n",
            " 9   dif_order_deliver  201107 non-null  float64       \n",
            "dtypes: Int64(2), category(4), datetime64[ns](2), float64(2)\n",
            "memory usage: 18.3 MB\n"
          ]
        }
      ]
    },
    {
      "cell_type": "code",
      "metadata": {
        "colab": {
          "base_uri": "https://localhost:8080/",
          "height": 301
        },
        "id": "qUeW2VKSHrFe",
        "outputId": "a0e10845-5d84-49c9-f4e2-f94fd844a47e"
      },
      "source": [
        "df.head()"
      ],
      "execution_count": null,
      "outputs": [
        {
          "output_type": "execute_result",
          "data": {
            "text/html": [
              "<div>\n",
              "<style scoped>\n",
              "    .dataframe tbody tr th:only-of-type {\n",
              "        vertical-align: middle;\n",
              "    }\n",
              "\n",
              "    .dataframe tbody tr th {\n",
              "        vertical-align: top;\n",
              "    }\n",
              "\n",
              "    .dataframe thead th {\n",
              "        text-align: right;\n",
              "    }\n",
              "</style>\n",
              "<table border=\"1\" class=\"dataframe\">\n",
              "  <thead>\n",
              "    <tr style=\"text-align: right;\">\n",
              "      <th></th>\n",
              "      <th>reorder_buyer</th>\n",
              "      <th>STORE</th>\n",
              "      <th>so_order_date</th>\n",
              "      <th>so_delivery_date</th>\n",
              "      <th>order_packages</th>\n",
              "      <th>so_order_status</th>\n",
              "      <th>so_invoice_no</th>\n",
              "      <th>sol_ordered_qty</th>\n",
              "      <th>sol_line_amount</th>\n",
              "      <th>dif_order_deliver</th>\n",
              "    </tr>\n",
              "  </thead>\n",
              "  <tbody>\n",
              "    <tr>\n",
              "      <th>90285</th>\n",
              "      <td>22</td>\n",
              "      <td>SG Auburn</td>\n",
              "      <td>2018-01-14</td>\n",
              "      <td>2018-01-31</td>\n",
              "      <td>2</td>\n",
              "      <td>90</td>\n",
              "      <td>547052</td>\n",
              "      <td>1</td>\n",
              "      <td>313.0</td>\n",
              "      <td>17.0</td>\n",
              "    </tr>\n",
              "    <tr>\n",
              "      <th>90286</th>\n",
              "      <td>22</td>\n",
              "      <td>SG &amp; JL Hornsby</td>\n",
              "      <td>2018-01-18</td>\n",
              "      <td>2018-05-03</td>\n",
              "      <td>1</td>\n",
              "      <td>90</td>\n",
              "      <td>548130</td>\n",
              "      <td>1</td>\n",
              "      <td>329.0</td>\n",
              "      <td>105.0</td>\n",
              "    </tr>\n",
              "    <tr>\n",
              "      <th>90288</th>\n",
              "      <td>22</td>\n",
              "      <td>SG Auburn</td>\n",
              "      <td>2018-04-02</td>\n",
              "      <td>2018-06-02</td>\n",
              "      <td>4</td>\n",
              "      <td>90</td>\n",
              "      <td>553410</td>\n",
              "      <td>1</td>\n",
              "      <td>310.0</td>\n",
              "      <td>61.0</td>\n",
              "    </tr>\n",
              "    <tr>\n",
              "      <th>90289</th>\n",
              "      <td>22</td>\n",
              "      <td>SG &amp; JL Penrith</td>\n",
              "      <td>2018-06-02</td>\n",
              "      <td>2018-10-02</td>\n",
              "      <td>1</td>\n",
              "      <td>90</td>\n",
              "      <td>553979</td>\n",
              "      <td>1</td>\n",
              "      <td>329.0</td>\n",
              "      <td>122.0</td>\n",
              "    </tr>\n",
              "    <tr>\n",
              "      <th>90290</th>\n",
              "      <td>22</td>\n",
              "      <td>SG &amp; JL Penrith</td>\n",
              "      <td>2018-02-17</td>\n",
              "      <td>2018-02-21</td>\n",
              "      <td>3</td>\n",
              "      <td>90</td>\n",
              "      <td>556930</td>\n",
              "      <td>1</td>\n",
              "      <td>305.0</td>\n",
              "      <td>4.0</td>\n",
              "    </tr>\n",
              "  </tbody>\n",
              "</table>\n",
              "</div>"
            ],
            "text/plain": [
              "      reorder_buyer            STORE  ... sol_line_amount dif_order_deliver\n",
              "90285            22        SG Auburn  ...           313.0              17.0\n",
              "90286            22  SG & JL Hornsby  ...           329.0             105.0\n",
              "90288            22        SG Auburn  ...           310.0              61.0\n",
              "90289            22  SG & JL Penrith  ...           329.0             122.0\n",
              "90290            22  SG & JL Penrith  ...           305.0               4.0\n",
              "\n",
              "[5 rows x 10 columns]"
            ]
          },
          "metadata": {},
          "execution_count": 36
        }
      ]
    },
    {
      "cell_type": "code",
      "metadata": {
        "colab": {
          "base_uri": "https://localhost:8080/",
          "height": 290
        },
        "id": "K3JRuYazFPh8",
        "outputId": "6e9ee397-096c-41b5-983e-8f5caf4acae6"
      },
      "source": [
        "df.order_packages.hist(bins=range(20))"
      ],
      "execution_count": 314,
      "outputs": [
        {
          "output_type": "execute_result",
          "data": {
            "text/plain": [
              "<matplotlib.axes._subplots.AxesSubplot at 0x7f59b21e1350>"
            ]
          },
          "metadata": {},
          "execution_count": 314
        },
        {
          "output_type": "display_data",
          "data": {
            "image/png": "[encoded data removed]",
            "text/plain": [
              "<Figure size 432x288 with 1 Axes>"
            ]
          },
          "metadata": {
            "needs_background": "light"
          }
        }
      ]
    },
    {
      "cell_type": "code",
      "metadata": {
        "colab": {
          "base_uri": "https://localhost:8080/",
          "height": 173
        },
        "id": "WN-6FzWlQbp9",
        "outputId": "03aba0c9-a09b-4d40-c21b-0bb75c50b830"
      },
      "source": [
        "missing_values_table(df)"
      ],
      "execution_count": null,
      "outputs": [
        {
          "output_type": "stream",
          "name": "stdout",
          "text": [
            "Your selected dataframe has 10 columns.\n",
            "There are 3 columns that have missing values.\n"
          ]
        },
        {
          "output_type": "execute_result",
          "data": {
            "text/html": [
              "<div>\n",
              "<style scoped>\n",
              "    .dataframe tbody tr th:only-of-type {\n",
              "        vertical-align: middle;\n",
              "    }\n",
              "\n",
              "    .dataframe tbody tr th {\n",
              "        vertical-align: top;\n",
              "    }\n",
              "\n",
              "    .dataframe thead th {\n",
              "        text-align: right;\n",
              "    }\n",
              "</style>\n",
              "<table border=\"1\" class=\"dataframe\">\n",
              "  <thead>\n",
              "    <tr style=\"text-align: right;\">\n",
              "      <th></th>\n",
              "      <th>Missing Values</th>\n",
              "      <th>% of Total Values</th>\n",
              "    </tr>\n",
              "  </thead>\n",
              "  <tbody>\n",
              "    <tr>\n",
              "      <th>sol_line_amount</th>\n",
              "      <td>35025</td>\n",
              "      <td>17.4</td>\n",
              "    </tr>\n",
              "    <tr>\n",
              "      <th>order_packages</th>\n",
              "      <td>2310</td>\n",
              "      <td>1.1</td>\n",
              "    </tr>\n",
              "    <tr>\n",
              "      <th>STORE</th>\n",
              "      <td>2197</td>\n",
              "      <td>1.1</td>\n",
              "    </tr>\n",
              "  </tbody>\n",
              "</table>\n",
              "</div>"
            ],
            "text/plain": [
              "                 Missing Values  % of Total Values\n",
              "sol_line_amount           35025               17.4\n",
              "order_packages             2310                1.1\n",
              "STORE                      2197                1.1"
            ]
          },
          "metadata": {},
          "execution_count": 38
        }
      ]
    },
    {
      "cell_type": "markdown",
      "metadata": {
        "id": "AEqHLpgYMGvp"
      },
      "source": [
        "# armamos Dataset de trabajo\n",
        "\n",
        "Agrupamos ventas por día_de_venta, tienda y producto y sumarizamos cantidad vendida (sol_ordered_qty) , valor total de la venta (sol_line_amount) y demora total de las ventas del día (dif_order_deliver)"
      ]
    },
    {
      "cell_type": "code",
      "metadata": {
        "id": "kn-ljH0jP5dt"
      },
      "source": [
        "df_small = df.dropna()"
      ],
      "execution_count": null,
      "outputs": []
    },
    {
      "cell_type": "code",
      "metadata": {
        "colab": {
          "base_uri": "https://localhost:8080/"
        },
        "id": "CiGLd--mP-i0",
        "outputId": "3292a0e7-1457-4182-dca4-997c269ae37c"
      },
      "source": [
        "df_small.shape"
      ],
      "execution_count": null,
      "outputs": [
        {
          "output_type": "execute_result",
          "data": {
            "text/plain": [
              "(163122, 10)"
            ]
          },
          "metadata": {},
          "execution_count": 253
        }
      ]
    },
    {
      "cell_type": "code",
      "metadata": {
        "colab": {
          "base_uri": "https://localhost:8080/"
        },
        "id": "ybjR5E8aBofI",
        "outputId": "3c1a52e2-a69e-4857-edb7-c1ff361b2f84"
      },
      "source": [
        "df_small = df_small.groupby(['so_order_date', 'STORE', 'reorder_buyer'])['sol_ordered_qty', 'sol_line_amount'].sum()"
      ],
      "execution_count": null,
      "outputs": [
        {
          "output_type": "stream",
          "name": "stderr",
          "text": [
            "/usr/local/lib/python3.7/dist-packages/ipykernel_launcher.py:1: FutureWarning: Indexing with multiple keys (implicitly converted to a tuple of keys) will be deprecated, use a list instead.\n",
            "  \"\"\"Entry point for launching an IPython kernel.\n"
          ]
        }
      ]
    },
    {
      "cell_type": "code",
      "metadata": {
        "colab": {
          "base_uri": "https://localhost:8080/",
          "height": 230
        },
        "id": "T82CBzk-OvCy",
        "outputId": "3ef91778-3bc5-4587-b91a-06cf7412ad7d"
      },
      "source": [
        "df_small.head()"
      ],
      "execution_count": null,
      "outputs": [
        {
          "output_type": "execute_result",
          "data": {
            "text/html": [
              "<div>\n",
              "<style scoped>\n",
              "    .dataframe tbody tr th:only-of-type {\n",
              "        vertical-align: middle;\n",
              "    }\n",
              "\n",
              "    .dataframe tbody tr th {\n",
              "        vertical-align: top;\n",
              "    }\n",
              "\n",
              "    .dataframe thead th {\n",
              "        text-align: right;\n",
              "    }\n",
              "</style>\n",
              "<table border=\"1\" class=\"dataframe\">\n",
              "  <thead>\n",
              "    <tr style=\"text-align: right;\">\n",
              "      <th></th>\n",
              "      <th></th>\n",
              "      <th></th>\n",
              "      <th>sol_ordered_qty</th>\n",
              "      <th>sol_line_amount</th>\n",
              "    </tr>\n",
              "    <tr>\n",
              "      <th>so_order_date</th>\n",
              "      <th>STORE</th>\n",
              "      <th>reorder_buyer</th>\n",
              "      <th></th>\n",
              "      <th></th>\n",
              "    </tr>\n",
              "  </thead>\n",
              "  <tbody>\n",
              "    <tr>\n",
              "      <th rowspan=\"5\" valign=\"top\">2018-01-01</th>\n",
              "      <th rowspan=\"4\" valign=\"top\">BC Auburn</th>\n",
              "      <th>7</th>\n",
              "      <td>&lt;NA&gt;</td>\n",
              "      <td>NaN</td>\n",
              "    </tr>\n",
              "    <tr>\n",
              "      <th>22</th>\n",
              "      <td>&lt;NA&gt;</td>\n",
              "      <td>NaN</td>\n",
              "    </tr>\n",
              "    <tr>\n",
              "      <th>27</th>\n",
              "      <td>&lt;NA&gt;</td>\n",
              "      <td>NaN</td>\n",
              "    </tr>\n",
              "    <tr>\n",
              "      <th>39</th>\n",
              "      <td>&lt;NA&gt;</td>\n",
              "      <td>NaN</td>\n",
              "    </tr>\n",
              "    <tr>\n",
              "      <th>JL Alexandria</th>\n",
              "      <th>7</th>\n",
              "      <td>&lt;NA&gt;</td>\n",
              "      <td>NaN</td>\n",
              "    </tr>\n",
              "  </tbody>\n",
              "</table>\n",
              "</div>"
            ],
            "text/plain": [
              "                                           sol_ordered_qty  sol_line_amount\n",
              "so_order_date STORE         reorder_buyer                                  \n",
              "2018-01-01    BC Auburn     7                         <NA>              NaN\n",
              "                            22                        <NA>              NaN\n",
              "                            27                        <NA>              NaN\n",
              "                            39                        <NA>              NaN\n",
              "              JL Alexandria 7                         <NA>              NaN"
            ]
          },
          "metadata": {},
          "execution_count": 42
        }
      ]
    },
    {
      "cell_type": "code",
      "metadata": {
        "colab": {
          "base_uri": "https://localhost:8080/",
          "height": 230
        },
        "id": "3_F5qmnFRObs",
        "outputId": "d45ce4b4-3fbe-46b1-8d46-bcf11bf5a963"
      },
      "source": [
        "df_small.tail()"
      ],
      "execution_count": null,
      "outputs": [
        {
          "output_type": "execute_result",
          "data": {
            "text/html": [
              "<div>\n",
              "<style scoped>\n",
              "    .dataframe tbody tr th:only-of-type {\n",
              "        vertical-align: middle;\n",
              "    }\n",
              "\n",
              "    .dataframe tbody tr th {\n",
              "        vertical-align: top;\n",
              "    }\n",
              "\n",
              "    .dataframe thead th {\n",
              "        text-align: right;\n",
              "    }\n",
              "</style>\n",
              "<table border=\"1\" class=\"dataframe\">\n",
              "  <thead>\n",
              "    <tr style=\"text-align: right;\">\n",
              "      <th></th>\n",
              "      <th></th>\n",
              "      <th></th>\n",
              "      <th>sol_ordered_qty</th>\n",
              "      <th>sol_line_amount</th>\n",
              "    </tr>\n",
              "    <tr>\n",
              "      <th>so_order_date</th>\n",
              "      <th>STORE</th>\n",
              "      <th>reorder_buyer</th>\n",
              "      <th></th>\n",
              "      <th></th>\n",
              "    </tr>\n",
              "  </thead>\n",
              "  <tbody>\n",
              "    <tr>\n",
              "      <th rowspan=\"5\" valign=\"top\">2020-12-31</th>\n",
              "      <th>SG Website</th>\n",
              "      <th>39</th>\n",
              "      <td>&lt;NA&gt;</td>\n",
              "      <td>NaN</td>\n",
              "    </tr>\n",
              "    <tr>\n",
              "      <th rowspan=\"4\" valign=\"top\">The Sleeping Giant</th>\n",
              "      <th>7</th>\n",
              "      <td>&lt;NA&gt;</td>\n",
              "      <td>NaN</td>\n",
              "    </tr>\n",
              "    <tr>\n",
              "      <th>22</th>\n",
              "      <td>5</td>\n",
              "      <td>1666.56</td>\n",
              "    </tr>\n",
              "    <tr>\n",
              "      <th>27</th>\n",
              "      <td>3</td>\n",
              "      <td>808.66</td>\n",
              "    </tr>\n",
              "    <tr>\n",
              "      <th>39</th>\n",
              "      <td>&lt;NA&gt;</td>\n",
              "      <td>NaN</td>\n",
              "    </tr>\n",
              "  </tbody>\n",
              "</table>\n",
              "</div>"
            ],
            "text/plain": [
              "                                                sol_ordered_qty  sol_line_amount\n",
              "so_order_date STORE              reorder_buyer                                  \n",
              "2020-12-31    SG Website         39                        <NA>              NaN\n",
              "              The Sleeping Giant 7                         <NA>              NaN\n",
              "                                 22                           5          1666.56\n",
              "                                 27                           3           808.66\n",
              "                                 39                        <NA>              NaN"
            ]
          },
          "metadata": {},
          "execution_count": 43
        }
      ]
    },
    {
      "cell_type": "markdown",
      "metadata": {
        "id": "Tmq1_RxnR2H0"
      },
      "source": [
        "Eliminamos nulos"
      ]
    },
    {
      "cell_type": "code",
      "metadata": {
        "id": "MF5ZkcSYRfQN"
      },
      "source": [
        "df_small = df_small.dropna()"
      ],
      "execution_count": null,
      "outputs": []
    },
    {
      "cell_type": "code",
      "metadata": {
        "colab": {
          "base_uri": "https://localhost:8080/"
        },
        "id": "VAFYXv7YUA9u",
        "outputId": "4b9b2a31-eb3d-4aca-9b00-236606b78eff"
      },
      "source": [
        "df_small.info()"
      ],
      "execution_count": null,
      "outputs": [
        {
          "output_type": "stream",
          "name": "stdout",
          "text": [
            "<class 'pandas.core.frame.DataFrame'>\n",
            "MultiIndex: 51728 entries, (Timestamp('2018-01-01 00:00:00'), 'JL Bundall', 7) to (Timestamp('2020-12-31 00:00:00'), 'The Sleeping Giant', 27)\n",
            "Data columns (total 2 columns):\n",
            " #   Column           Non-Null Count  Dtype  \n",
            "---  ------           --------------  -----  \n",
            " 0   sol_ordered_qty  51728 non-null  Int64  \n",
            " 1   sol_line_amount  51728 non-null  float64\n",
            "dtypes: Int64(1), float64(1)\n",
            "memory usage: 1.1 MB\n"
          ]
        }
      ]
    },
    {
      "cell_type": "code",
      "metadata": {
        "colab": {
          "base_uri": "https://localhost:8080/",
          "height": 230
        },
        "id": "7QqRoO_XUpYn",
        "outputId": "07dd5e8c-7666-46bc-fc2d-9b32e64d95fe"
      },
      "source": [
        "df_small.head()"
      ],
      "execution_count": null,
      "outputs": [
        {
          "output_type": "execute_result",
          "data": {
            "text/html": [
              "<div>\n",
              "<style scoped>\n",
              "    .dataframe tbody tr th:only-of-type {\n",
              "        vertical-align: middle;\n",
              "    }\n",
              "\n",
              "    .dataframe tbody tr th {\n",
              "        vertical-align: top;\n",
              "    }\n",
              "\n",
              "    .dataframe thead th {\n",
              "        text-align: right;\n",
              "    }\n",
              "</style>\n",
              "<table border=\"1\" class=\"dataframe\">\n",
              "  <thead>\n",
              "    <tr style=\"text-align: right;\">\n",
              "      <th></th>\n",
              "      <th></th>\n",
              "      <th></th>\n",
              "      <th>sol_ordered_qty</th>\n",
              "      <th>sol_line_amount</th>\n",
              "    </tr>\n",
              "    <tr>\n",
              "      <th>so_order_date</th>\n",
              "      <th>STORE</th>\n",
              "      <th>reorder_buyer</th>\n",
              "      <th></th>\n",
              "      <th></th>\n",
              "    </tr>\n",
              "  </thead>\n",
              "  <tbody>\n",
              "    <tr>\n",
              "      <th rowspan=\"4\" valign=\"top\">2018-01-01</th>\n",
              "      <th rowspan=\"2\" valign=\"top\">JL Bundall</th>\n",
              "      <th>7</th>\n",
              "      <td>1</td>\n",
              "      <td>80.0</td>\n",
              "    </tr>\n",
              "    <tr>\n",
              "      <th>27</th>\n",
              "      <td>3</td>\n",
              "      <td>948.0</td>\n",
              "    </tr>\n",
              "    <tr>\n",
              "      <th rowspan=\"2\" valign=\"top\">SG &amp; JL Toowoomba</th>\n",
              "      <th>7</th>\n",
              "      <td>1</td>\n",
              "      <td>76.0</td>\n",
              "    </tr>\n",
              "    <tr>\n",
              "      <th>27</th>\n",
              "      <td>1</td>\n",
              "      <td>249.0</td>\n",
              "    </tr>\n",
              "    <tr>\n",
              "      <th>2018-01-02</th>\n",
              "      <th>JL Alexandria</th>\n",
              "      <th>7</th>\n",
              "      <td>9</td>\n",
              "      <td>610.0</td>\n",
              "    </tr>\n",
              "  </tbody>\n",
              "</table>\n",
              "</div>"
            ],
            "text/plain": [
              "                                               sol_ordered_qty  sol_line_amount\n",
              "so_order_date STORE             reorder_buyer                                  \n",
              "2018-01-01    JL Bundall        7                            1             80.0\n",
              "                                27                           3            948.0\n",
              "              SG & JL Toowoomba 7                            1             76.0\n",
              "                                27                           1            249.0\n",
              "2018-01-02    JL Alexandria     7                            9            610.0"
            ]
          },
          "metadata": {},
          "execution_count": 46
        }
      ]
    },
    {
      "cell_type": "markdown",
      "metadata": {
        "id": "q1_1Dw1sLzvz"
      },
      "source": [
        "# Primer Modelo: Regresion Logística"
      ]
    },
    {
      "cell_type": "code",
      "metadata": {
        "id": "2glVoOghL-Sb"
      },
      "source": [
        "df_raw = df_small"
      ],
      "execution_count": 330,
      "outputs": []
    },
    {
      "cell_type": "code",
      "metadata": {
        "id": "IoZNZDT6Nv0D"
      },
      "source": [
        "#df_small = df_raw"
      ],
      "execution_count": 331,
      "outputs": []
    },
    {
      "cell_type": "code",
      "metadata": {
        "id": "jp25sT59V00S"
      },
      "source": [
        "df_small = df_small.reset_index([ 'STORE' , 'reorder_buyer' ])"
      ],
      "execution_count": 332,
      "outputs": []
    },
    {
      "cell_type": "code",
      "metadata": {
        "colab": {
          "base_uri": "https://localhost:8080/"
        },
        "id": "9RJ8Ch8JWI4H",
        "outputId": "7447f4d8-4e2d-4a2f-d4b4-735352aafb35"
      },
      "source": [
        "df_small.info()"
      ],
      "execution_count": 333,
      "outputs": [
        {
          "output_type": "stream",
          "name": "stdout",
          "text": [
            "<class 'pandas.core.frame.DataFrame'>\n",
            "DatetimeIndex: 51728 entries, 2018-01-01 to 2020-12-31\n",
            "Data columns (total 4 columns):\n",
            " #   Column           Non-Null Count  Dtype   \n",
            "---  ------           --------------  -----   \n",
            " 0   STORE            51728 non-null  category\n",
            " 1   reorder_buyer    51728 non-null  category\n",
            " 2   sol_ordered_qty  51728 non-null  Int64   \n",
            " 3   sol_line_amount  51728 non-null  float64 \n",
            "dtypes: Int64(1), category(2), float64(1)\n",
            "memory usage: 1.3 MB\n"
          ]
        }
      ]
    },
    {
      "cell_type": "code",
      "metadata": {
        "id": "LYkJVwG9SHyi"
      },
      "source": [
        "df_small[\"STORE_code\"] = df_small[\"STORE\"].cat.codes"
      ],
      "execution_count": 334,
      "outputs": []
    },
    {
      "cell_type": "code",
      "metadata": {
        "id": "lgML0z52XDSy"
      },
      "source": [
        "df_small.drop(columns='STORE', inplace=True)"
      ],
      "execution_count": 335,
      "outputs": []
    },
    {
      "cell_type": "code",
      "metadata": {
        "colab": {
          "base_uri": "https://localhost:8080/",
          "height": 230
        },
        "id": "X4_P7kgCXx-d",
        "outputId": "5ddeefd3-5c8e-40b5-e064-186e870bcc30"
      },
      "source": [
        "df_small.head()"
      ],
      "execution_count": 336,
      "outputs": [
        {
          "output_type": "execute_result",
          "data": {
            "text/html": [
              "<div>\n",
              "<style scoped>\n",
              "    .dataframe tbody tr th:only-of-type {\n",
              "        vertical-align: middle;\n",
              "    }\n",
              "\n",
              "    .dataframe tbody tr th {\n",
              "        vertical-align: top;\n",
              "    }\n",
              "\n",
              "    .dataframe thead th {\n",
              "        text-align: right;\n",
              "    }\n",
              "</style>\n",
              "<table border=\"1\" class=\"dataframe\">\n",
              "  <thead>\n",
              "    <tr style=\"text-align: right;\">\n",
              "      <th></th>\n",
              "      <th>reorder_buyer</th>\n",
              "      <th>sol_ordered_qty</th>\n",
              "      <th>sol_line_amount</th>\n",
              "      <th>STORE_code</th>\n",
              "    </tr>\n",
              "    <tr>\n",
              "      <th>so_order_date</th>\n",
              "      <th></th>\n",
              "      <th></th>\n",
              "      <th></th>\n",
              "      <th></th>\n",
              "    </tr>\n",
              "  </thead>\n",
              "  <tbody>\n",
              "    <tr>\n",
              "      <th>2018-01-01</th>\n",
              "      <td>7</td>\n",
              "      <td>1</td>\n",
              "      <td>80.0</td>\n",
              "      <td>4</td>\n",
              "    </tr>\n",
              "    <tr>\n",
              "      <th>2018-01-01</th>\n",
              "      <td>27</td>\n",
              "      <td>3</td>\n",
              "      <td>948.0</td>\n",
              "      <td>4</td>\n",
              "    </tr>\n",
              "    <tr>\n",
              "      <th>2018-01-01</th>\n",
              "      <td>7</td>\n",
              "      <td>1</td>\n",
              "      <td>76.0</td>\n",
              "      <td>35</td>\n",
              "    </tr>\n",
              "    <tr>\n",
              "      <th>2018-01-01</th>\n",
              "      <td>27</td>\n",
              "      <td>1</td>\n",
              "      <td>249.0</td>\n",
              "      <td>35</td>\n",
              "    </tr>\n",
              "    <tr>\n",
              "      <th>2018-01-02</th>\n",
              "      <td>7</td>\n",
              "      <td>9</td>\n",
              "      <td>610.0</td>\n",
              "      <td>1</td>\n",
              "    </tr>\n",
              "  </tbody>\n",
              "</table>\n",
              "</div>"
            ],
            "text/plain": [
              "              reorder_buyer  sol_ordered_qty  sol_line_amount  STORE_code\n",
              "so_order_date                                                            \n",
              "2018-01-01                7                1             80.0           4\n",
              "2018-01-01               27                3            948.0           4\n",
              "2018-01-01                7                1             76.0          35\n",
              "2018-01-01               27                1            249.0          35\n",
              "2018-01-02                7                9            610.0           1"
            ]
          },
          "metadata": {},
          "execution_count": 336
        }
      ]
    },
    {
      "cell_type": "code",
      "metadata": {
        "colab": {
          "base_uri": "https://localhost:8080/",
          "height": 377
        },
        "id": "bi17FQyCbWzy",
        "outputId": "dbd444b8-cff5-4494-b4e3-29580f54bf8a"
      },
      "source": [
        "df_small.hist()"
      ],
      "execution_count": 337,
      "outputs": [
        {
          "output_type": "execute_result",
          "data": {
            "text/plain": [
              "array([[<matplotlib.axes._subplots.AxesSubplot object at 0x7f59af329750>,\n",
              "        <matplotlib.axes._subplots.AxesSubplot object at 0x7f59af31ff10>],\n",
              "       [<matplotlib.axes._subplots.AxesSubplot object at 0x7f59af318350>,\n",
              "        <matplotlib.axes._subplots.AxesSubplot object at 0x7f59af3109d0>]],\n",
              "      dtype=object)"
            ]
          },
          "metadata": {},
          "execution_count": 337
        },
        {
          "output_type": "display_data",
          "data": {
            "image/png": "[encoded data removed]",
            "text/plain": [
              "<Figure size 432x288 with 4 Axes>"
            ]
          },
          "metadata": {
            "needs_background": "light"
          }
        }
      ]
    },
    {
      "cell_type": "code",
      "metadata": {
        "colab": {
          "base_uri": "https://localhost:8080/",
          "height": 597
        },
        "id": "RarLKPBjYKJB",
        "outputId": "fdf78c59-bd62-4619-83b7-8ec70a60f7bb"
      },
      "source": [
        "items = pd.DataFrame(df_small.groupby(['so_order_date','reorder_buyer']).sum()['sol_ordered_qty']).unstack()\n",
        "items = items.resample('7D',label='left').sum()\n",
        "items.sort_index(inplace = True)\n",
        "items.plot(figsize=(16,9), title='Ventas Semanales x prodcuto', legend=None)\n",
        "plt.show()"
      ],
      "execution_count": 338,
      "outputs": [
        {
          "output_type": "display_data",
          "data": {
            "image/png": "[encoded data removed]",
            "text/plain": [
              "<Figure size 1152x648 with 1 Axes>"
            ]
          },
          "metadata": {
            "needs_background": "light"
          }
        }
      ]
    },
    {
      "cell_type": "code",
      "metadata": {
        "colab": {
          "base_uri": "https://localhost:8080/",
          "height": 1000
        },
        "id": "aQHNFd3DkwD-",
        "outputId": "fe89e421-b644-4b21-9f32-197dd08f36b8"
      },
      "source": [
        "# Generate and visualize the correlation matrix\n",
        "corr = df.corr().round(2)\n",
        "\n",
        "# Mask for the upper triangle\n",
        "mask = np.zeros_like(corr, dtype=bool)\n",
        "mask[np.triu_indices_from(mask)] = True\n",
        "\n",
        "# Set figure size\n",
        "f, ax = plt.subplots(figsize=(20, 20))\n",
        "\n",
        "# Define custom colormap\n",
        "cmap = sns.diverging_palette(220, 10, as_cmap=True)\n",
        "\n",
        "# Draw the heatmap\n",
        "sns.heatmap(corr, mask=mask, cmap=cmap, vmin=-1, vmax=1, center=0,\n",
        "            square=True, linewidths=.5, cbar_kws={\"shrink\": .5}, annot=True)\n",
        "\n",
        "plt.tight_layout()"
      ],
      "execution_count": 339,
      "outputs": [
        {
          "output_type": "display_data",
          "data": {
            "image/png": "[encoded data removed]",
            "text/plain": [
              "<Figure size 1440x1440 with 2 Axes>"
            ]
          },
          "metadata": {
            "needs_background": "light"
          }
        }
      ]
    },
    {
      "cell_type": "markdown",
      "metadata": {
        "id": "h5w0Ji9GZLwr"
      },
      "source": [
        "Nos faltan datos del año 2019"
      ]
    },
    {
      "cell_type": "markdown",
      "metadata": {
        "id": "21zqeckwa8am"
      },
      "source": [
        "Vamos a predecir qué tienda lo vendió"
      ]
    },
    {
      "cell_type": "code",
      "metadata": {
        "id": "SGo0Tdy4du4j"
      },
      "source": [
        "from sklearn.linear_model import LogisticRegression\n",
        "from sklearn.model_selection import train_test_split\n",
        "from sklearn.preprocessing import StandardScaler\n",
        "from sklearn.metrics import accuracy_score,classification_report"
      ],
      "execution_count": 340,
      "outputs": []
    },
    {
      "cell_type": "code",
      "metadata": {
        "id": "2XtZ3vaomkhc"
      },
      "source": [
        "df_small.reset_index(drop=True, inplace=True)\n"
      ],
      "execution_count": 341,
      "outputs": []
    },
    {
      "cell_type": "code",
      "metadata": {
        "colab": {
          "base_uri": "https://localhost:8080/"
        },
        "id": "j7Yk0GPyMtkI",
        "outputId": "fdf396c0-b2ec-4c4a-b795-0bbe9ff525b8"
      },
      "source": [
        "df_small.info()"
      ],
      "execution_count": 342,
      "outputs": [
        {
          "output_type": "stream",
          "name": "stdout",
          "text": [
            "<class 'pandas.core.frame.DataFrame'>\n",
            "RangeIndex: 51728 entries, 0 to 51727\n",
            "Data columns (total 4 columns):\n",
            " #   Column           Non-Null Count  Dtype   \n",
            "---  ------           --------------  -----   \n",
            " 0   reorder_buyer    51728 non-null  category\n",
            " 1   sol_ordered_qty  51728 non-null  Int64   \n",
            " 2   sol_line_amount  51728 non-null  float64 \n",
            " 3   STORE_code       51728 non-null  int8    \n",
            "dtypes: Int64(1), category(1), float64(1), int8(1)\n",
            "memory usage: 960.1 KB\n"
          ]
        }
      ]
    },
    {
      "cell_type": "markdown",
      "metadata": {
        "id": "3K8U7RiWudbr"
      },
      "source": [
        "En la línea anterior al quitar en indice de fecha, quedan repetidas observaciones de producto-store. Deberían recomputarse!"
      ]
    },
    {
      "cell_type": "code",
      "metadata": {
        "id": "6NB9f54Jdufj"
      },
      "source": [
        "x = df_small\n",
        "y = df_small['reorder_buyer']"
      ],
      "execution_count": 343,
      "outputs": []
    },
    {
      "cell_type": "code",
      "metadata": {
        "colab": {
          "base_uri": "https://localhost:8080/"
        },
        "id": "1iCvPFUClm5U",
        "outputId": "35ee05fc-28d2-4015-a79b-635237e5462b"
      },
      "source": [
        "#%% Dividir Training y Testing\n",
        "porc_test= 0.1\n",
        "x_train, x_test, y_train, y_test = train_test_split(x, y, test_size= porc_test)\n",
        "print(\"%d datos para training\" %x_train.shape[0])\n",
        "print(\"%d datos para testing\" %x_test.shape[0])\n"
      ],
      "execution_count": 344,
      "outputs": [
        {
          "output_type": "stream",
          "name": "stdout",
          "text": [
            "46555 datos para training\n",
            "5173 datos para testing\n"
          ]
        }
      ]
    },
    {
      "cell_type": "code",
      "metadata": {
        "colab": {
          "base_uri": "https://localhost:8080/"
        },
        "id": "077BlTHFnllm",
        "outputId": "f299b11f-5be1-42c3-df6c-cd7babcd0d3e"
      },
      "source": [
        "y_test"
      ],
      "execution_count": 345,
      "outputs": [
        {
          "output_type": "execute_result",
          "data": {
            "text/plain": [
              "50814    22\n",
              "19519    27\n",
              "45344     7\n",
              "3949      7\n",
              "12363    39\n",
              "         ..\n",
              "18407    22\n",
              "20537    22\n",
              "43513     7\n",
              "23773    39\n",
              "22300     7\n",
              "Name: reorder_buyer, Length: 5173, dtype: category\n",
              "Categories (4, int64): [7, 22, 27, 39]"
            ]
          },
          "metadata": {},
          "execution_count": 345
        }
      ]
    },
    {
      "cell_type": "code",
      "metadata": {
        "colab": {
          "base_uri": "https://localhost:8080/"
        },
        "id": "G1zVoOuel17j",
        "outputId": "5516c359-c0b0-46c5-815e-743d9703cfa6"
      },
      "source": [
        "# Run the model and report the results\n",
        "modelo = LogisticRegression(solver='saga', tol=0.1) # Saga es más rápido para dataset muy grandes\n",
        "modelo.fit(x_train, y_train)"
      ],
      "execution_count": 346,
      "outputs": [
        {
          "output_type": "execute_result",
          "data": {
            "text/plain": [
              "LogisticRegression(solver='saga', tol=0.1)"
            ]
          },
          "metadata": {},
          "execution_count": 346
        }
      ]
    },
    {
      "cell_type": "code",
      "metadata": {
        "colab": {
          "base_uri": "https://localhost:8080/"
        },
        "id": "r9LFkmelphu8",
        "outputId": "3af52f42-8223-483a-e8ba-fed3b1fd3c5b"
      },
      "source": [
        "y_pred_train = modelo.predict(x_train)\n",
        "print(\"\\nTrain   Accuracy: %.2f\" % accuracy_score(y_train, y_pred_train ));\n",
        "y_pred= modelo.predict(x_test)\n",
        "print(\"\\nTest   Accuracy: %.2f\" % accuracy_score(y_test, y_pred ));\n",
        "print(classification_report(y_test, y_pred));\n"
      ],
      "execution_count": 347,
      "outputs": [
        {
          "output_type": "stream",
          "name": "stdout",
          "text": [
            "\n",
            "Train   Accuracy: 0.56\n",
            "\n",
            "Test   Accuracy: 0.56\n",
            "              precision    recall  f1-score   support\n",
            "\n",
            "           7       0.86      0.50      0.64      1870\n",
            "          22       0.00      0.00      0.00       855\n",
            "          27       0.38      0.92      0.54      1415\n",
            "          39       0.92      0.63      0.75      1033\n",
            "\n",
            "    accuracy                           0.56      5173\n",
            "   macro avg       0.54      0.51      0.48      5173\n",
            "weighted avg       0.60      0.56      0.53      5173\n",
            "\n"
          ]
        },
        {
          "output_type": "stream",
          "name": "stderr",
          "text": [
            "/usr/local/lib/python3.7/dist-packages/sklearn/metrics/_classification.py:1308: UndefinedMetricWarning: Precision and F-score are ill-defined and being set to 0.0 in labels with no predicted samples. Use `zero_division` parameter to control this behavior.\n",
            "  _warn_prf(average, modifier, msg_start, len(result))\n",
            "/usr/local/lib/python3.7/dist-packages/sklearn/metrics/_classification.py:1308: UndefinedMetricWarning: Precision and F-score are ill-defined and being set to 0.0 in labels with no predicted samples. Use `zero_division` parameter to control this behavior.\n",
            "  _warn_prf(average, modifier, msg_start, len(result))\n",
            "/usr/local/lib/python3.7/dist-packages/sklearn/metrics/_classification.py:1308: UndefinedMetricWarning: Precision and F-score are ill-defined and being set to 0.0 in labels with no predicted samples. Use `zero_division` parameter to control this behavior.\n",
            "  _warn_prf(average, modifier, msg_start, len(result))\n"
          ]
        }
      ]
    },
    {
      "cell_type": "code",
      "metadata": {
        "id": "NWX0QMuyq9jG",
        "colab": {
          "base_uri": "https://localhost:8080/"
        },
        "outputId": "ef288330-f09a-49ba-8695-0231917899f5"
      },
      "source": [
        "df_small.columns"
      ],
      "execution_count": 348,
      "outputs": [
        {
          "output_type": "execute_result",
          "data": {
            "text/plain": [
              "Index(['reorder_buyer', 'sol_ordered_qty', 'sol_line_amount', 'STORE_code'], dtype='object')"
            ]
          },
          "metadata": {},
          "execution_count": 348
        }
      ]
    },
    {
      "cell_type": "markdown",
      "metadata": {
        "id": "jBvsu_YSOUWB"
      },
      "source": [
        "# Segundo Modelo: Regresion lineal\n",
        "\n",
        "La regresion lineal la vamos a implementar para predecir la demora. Este modelo nos va a permitir explorar los coeficientes para ver la interacción de variables. El caso de uso sería determinar para un tipo de producto cual es la demora proyectada."
      ]
    },
    {
      "cell_type": "code",
      "metadata": {
        "id": "7eRv7Df_OY8z"
      },
      "source": [
        "df_small_2 = df.dropna()"
      ],
      "execution_count": null,
      "outputs": []
    },
    {
      "cell_type": "code",
      "metadata": {
        "colab": {
          "base_uri": "https://localhost:8080/"
        },
        "id": "pNi7prNxQqoX",
        "outputId": "bdfa6c6e-9ce2-47ee-c902-0461b4b75a5f"
      },
      "source": [
        "df_small_2.info()"
      ],
      "execution_count": null,
      "outputs": [
        {
          "output_type": "stream",
          "name": "stdout",
          "text": [
            "<class 'pandas.core.frame.DataFrame'>\n",
            "Int64Index: 163122 entries, 90285 to 224174\n",
            "Data columns (total 10 columns):\n",
            " #   Column             Non-Null Count   Dtype         \n",
            "---  ------             --------------   -----         \n",
            " 0   reorder_buyer      163122 non-null  category      \n",
            " 1   STORE              163122 non-null  category      \n",
            " 2   so_order_date      163122 non-null  datetime64[ns]\n",
            " 3   so_delivery_date   163122 non-null  datetime64[ns]\n",
            " 4   order_packages     163122 non-null  Int64         \n",
            " 5   so_order_status    163122 non-null  category      \n",
            " 6   so_invoice_no      163122 non-null  category      \n",
            " 7   sol_ordered_qty    163122 non-null  Int64         \n",
            " 8   sol_line_amount    163122 non-null  float64       \n",
            " 9   dif_order_deliver  163122 non-null  float64       \n",
            "dtypes: Int64(2), category(4), datetime64[ns](2), float64(2)\n",
            "memory usage: 15.9 MB\n"
          ]
        }
      ]
    },
    {
      "cell_type": "code",
      "metadata": {
        "id": "0YdRIYIJRpPV"
      },
      "source": [
        "# df_small_2 = df_small_2.reset_index([ 'STORE' , 'reorder_buyer' ])"
      ],
      "execution_count": null,
      "outputs": []
    },
    {
      "cell_type": "code",
      "metadata": {
        "colab": {
          "base_uri": "https://localhost:8080/"
        },
        "id": "1ZlXq5rdQqy_",
        "outputId": "590cbb5e-130c-4509-f23b-3566d6771ff7"
      },
      "source": [
        "# extraer mes de venta\n",
        "# df_small_2['month'] = df_small_2.index.month\n",
        "df_small_2['month'] = df_small_2['so_order_date'].dt.month"
      ],
      "execution_count": null,
      "outputs": [
        {
          "output_type": "stream",
          "name": "stderr",
          "text": [
            "/usr/local/lib/python3.7/dist-packages/ipykernel_launcher.py:3: SettingWithCopyWarning: \n",
            "A value is trying to be set on a copy of a slice from a DataFrame.\n",
            "Try using .loc[row_indexer,col_indexer] = value instead\n",
            "\n",
            "See the caveats in the documentation: https://pandas.pydata.org/pandas-docs/stable/user_guide/indexing.html#returning-a-view-versus-a-copy\n",
            "  This is separate from the ipykernel package so we can avoid doing imports until\n"
          ]
        }
      ]
    },
    {
      "cell_type": "code",
      "metadata": {
        "colab": {
          "base_uri": "https://localhost:8080/",
          "height": 301
        },
        "id": "6kUcupp6R3wV",
        "outputId": "54dff265-ed4d-446f-d93b-7e235c188a5f"
      },
      "source": [
        "df_small_2.head()"
      ],
      "execution_count": null,
      "outputs": [
        {
          "output_type": "execute_result",
          "data": {
            "text/html": [
              "<div>\n",
              "<style scoped>\n",
              "    .dataframe tbody tr th:only-of-type {\n",
              "        vertical-align: middle;\n",
              "    }\n",
              "\n",
              "    .dataframe tbody tr th {\n",
              "        vertical-align: top;\n",
              "    }\n",
              "\n",
              "    .dataframe thead th {\n",
              "        text-align: right;\n",
              "    }\n",
              "</style>\n",
              "<table border=\"1\" class=\"dataframe\">\n",
              "  <thead>\n",
              "    <tr style=\"text-align: right;\">\n",
              "      <th></th>\n",
              "      <th>reorder_buyer</th>\n",
              "      <th>STORE</th>\n",
              "      <th>so_order_date</th>\n",
              "      <th>so_delivery_date</th>\n",
              "      <th>order_packages</th>\n",
              "      <th>so_order_status</th>\n",
              "      <th>so_invoice_no</th>\n",
              "      <th>sol_ordered_qty</th>\n",
              "      <th>sol_line_amount</th>\n",
              "      <th>dif_order_deliver</th>\n",
              "      <th>month</th>\n",
              "    </tr>\n",
              "  </thead>\n",
              "  <tbody>\n",
              "    <tr>\n",
              "      <th>90285</th>\n",
              "      <td>22</td>\n",
              "      <td>SG Auburn</td>\n",
              "      <td>2018-01-14</td>\n",
              "      <td>2018-01-31</td>\n",
              "      <td>2</td>\n",
              "      <td>90</td>\n",
              "      <td>547052</td>\n",
              "      <td>1</td>\n",
              "      <td>313.0</td>\n",
              "      <td>17.0</td>\n",
              "      <td>1</td>\n",
              "    </tr>\n",
              "    <tr>\n",
              "      <th>90286</th>\n",
              "      <td>22</td>\n",
              "      <td>SG &amp; JL Hornsby</td>\n",
              "      <td>2018-01-18</td>\n",
              "      <td>2018-05-03</td>\n",
              "      <td>1</td>\n",
              "      <td>90</td>\n",
              "      <td>548130</td>\n",
              "      <td>1</td>\n",
              "      <td>329.0</td>\n",
              "      <td>105.0</td>\n",
              "      <td>1</td>\n",
              "    </tr>\n",
              "    <tr>\n",
              "      <th>90288</th>\n",
              "      <td>22</td>\n",
              "      <td>SG Auburn</td>\n",
              "      <td>2018-04-02</td>\n",
              "      <td>2018-06-02</td>\n",
              "      <td>4</td>\n",
              "      <td>90</td>\n",
              "      <td>553410</td>\n",
              "      <td>1</td>\n",
              "      <td>310.0</td>\n",
              "      <td>61.0</td>\n",
              "      <td>4</td>\n",
              "    </tr>\n",
              "    <tr>\n",
              "      <th>90289</th>\n",
              "      <td>22</td>\n",
              "      <td>SG &amp; JL Penrith</td>\n",
              "      <td>2018-06-02</td>\n",
              "      <td>2018-10-02</td>\n",
              "      <td>1</td>\n",
              "      <td>90</td>\n",
              "      <td>553979</td>\n",
              "      <td>1</td>\n",
              "      <td>329.0</td>\n",
              "      <td>122.0</td>\n",
              "      <td>6</td>\n",
              "    </tr>\n",
              "    <tr>\n",
              "      <th>90290</th>\n",
              "      <td>22</td>\n",
              "      <td>SG &amp; JL Penrith</td>\n",
              "      <td>2018-02-17</td>\n",
              "      <td>2018-02-21</td>\n",
              "      <td>3</td>\n",
              "      <td>90</td>\n",
              "      <td>556930</td>\n",
              "      <td>1</td>\n",
              "      <td>305.0</td>\n",
              "      <td>4.0</td>\n",
              "      <td>2</td>\n",
              "    </tr>\n",
              "  </tbody>\n",
              "</table>\n",
              "</div>"
            ],
            "text/plain": [
              "      reorder_buyer            STORE  ... dif_order_deliver month\n",
              "90285            22        SG Auburn  ...              17.0     1\n",
              "90286            22  SG & JL Hornsby  ...             105.0     1\n",
              "90288            22        SG Auburn  ...              61.0     4\n",
              "90289            22  SG & JL Penrith  ...             122.0     6\n",
              "90290            22  SG & JL Penrith  ...               4.0     2\n",
              "\n",
              "[5 rows x 11 columns]"
            ]
          },
          "metadata": {},
          "execution_count": 260
        }
      ]
    },
    {
      "cell_type": "code",
      "metadata": {
        "colab": {
          "base_uri": "https://localhost:8080/"
        },
        "id": "QxmXB71rSUF-",
        "outputId": "10419ef8-4f55-4761-b32b-9ef58e5fa93c"
      },
      "source": [
        "df_small_2[\"STORE_code\"] = df_small_2[\"STORE\"].cat.codes"
      ],
      "execution_count": null,
      "outputs": [
        {
          "output_type": "stream",
          "name": "stderr",
          "text": [
            "/usr/local/lib/python3.7/dist-packages/ipykernel_launcher.py:1: SettingWithCopyWarning: \n",
            "A value is trying to be set on a copy of a slice from a DataFrame.\n",
            "Try using .loc[row_indexer,col_indexer] = value instead\n",
            "\n",
            "See the caveats in the documentation: https://pandas.pydata.org/pandas-docs/stable/user_guide/indexing.html#returning-a-view-versus-a-copy\n",
            "  \"\"\"Entry point for launching an IPython kernel.\n"
          ]
        }
      ]
    },
    {
      "cell_type": "code",
      "metadata": {
        "colab": {
          "base_uri": "https://localhost:8080/"
        },
        "id": "tPLSq5mISUF_",
        "outputId": "ef788cb7-f609-4451-a5f6-6be7cf1b0320"
      },
      "source": [
        "df_small_2.drop(columns='STORE', inplace=True)"
      ],
      "execution_count": null,
      "outputs": [
        {
          "output_type": "stream",
          "name": "stderr",
          "text": [
            "/usr/local/lib/python3.7/dist-packages/pandas/core/frame.py:4174: SettingWithCopyWarning: \n",
            "A value is trying to be set on a copy of a slice from a DataFrame\n",
            "\n",
            "See the caveats in the documentation: https://pandas.pydata.org/pandas-docs/stable/user_guide/indexing.html#returning-a-view-versus-a-copy\n",
            "  errors=errors,\n"
          ]
        }
      ]
    },
    {
      "cell_type": "code",
      "metadata": {
        "colab": {
          "base_uri": "https://localhost:8080/",
          "height": 220
        },
        "id": "vLs8awOeSb2H",
        "outputId": "58dd1fda-0bf5-4b7f-8ae9-1affcecfcad1"
      },
      "source": [
        "df_small_2.head()"
      ],
      "execution_count": null,
      "outputs": [
        {
          "output_type": "execute_result",
          "data": {
            "text/html": [
              "<div>\n",
              "<style scoped>\n",
              "    .dataframe tbody tr th:only-of-type {\n",
              "        vertical-align: middle;\n",
              "    }\n",
              "\n",
              "    .dataframe tbody tr th {\n",
              "        vertical-align: top;\n",
              "    }\n",
              "\n",
              "    .dataframe thead th {\n",
              "        text-align: right;\n",
              "    }\n",
              "</style>\n",
              "<table border=\"1\" class=\"dataframe\">\n",
              "  <thead>\n",
              "    <tr style=\"text-align: right;\">\n",
              "      <th></th>\n",
              "      <th>reorder_buyer</th>\n",
              "      <th>so_order_date</th>\n",
              "      <th>so_delivery_date</th>\n",
              "      <th>order_packages</th>\n",
              "      <th>so_order_status</th>\n",
              "      <th>so_invoice_no</th>\n",
              "      <th>sol_ordered_qty</th>\n",
              "      <th>sol_line_amount</th>\n",
              "      <th>dif_order_deliver</th>\n",
              "      <th>month</th>\n",
              "      <th>STORE_code</th>\n",
              "    </tr>\n",
              "  </thead>\n",
              "  <tbody>\n",
              "    <tr>\n",
              "      <th>90285</th>\n",
              "      <td>22</td>\n",
              "      <td>2018-01-14</td>\n",
              "      <td>2018-01-31</td>\n",
              "      <td>2</td>\n",
              "      <td>90</td>\n",
              "      <td>547052</td>\n",
              "      <td>1</td>\n",
              "      <td>313.0</td>\n",
              "      <td>17.0</td>\n",
              "      <td>1</td>\n",
              "      <td>40</td>\n",
              "    </tr>\n",
              "    <tr>\n",
              "      <th>90286</th>\n",
              "      <td>22</td>\n",
              "      <td>2018-01-18</td>\n",
              "      <td>2018-05-03</td>\n",
              "      <td>1</td>\n",
              "      <td>90</td>\n",
              "      <td>548130</td>\n",
              "      <td>1</td>\n",
              "      <td>329.0</td>\n",
              "      <td>105.0</td>\n",
              "      <td>1</td>\n",
              "      <td>25</td>\n",
              "    </tr>\n",
              "    <tr>\n",
              "      <th>90288</th>\n",
              "      <td>22</td>\n",
              "      <td>2018-04-02</td>\n",
              "      <td>2018-06-02</td>\n",
              "      <td>4</td>\n",
              "      <td>90</td>\n",
              "      <td>553410</td>\n",
              "      <td>1</td>\n",
              "      <td>310.0</td>\n",
              "      <td>61.0</td>\n",
              "      <td>4</td>\n",
              "      <td>40</td>\n",
              "    </tr>\n",
              "    <tr>\n",
              "      <th>90289</th>\n",
              "      <td>22</td>\n",
              "      <td>2018-06-02</td>\n",
              "      <td>2018-10-02</td>\n",
              "      <td>1</td>\n",
              "      <td>90</td>\n",
              "      <td>553979</td>\n",
              "      <td>1</td>\n",
              "      <td>329.0</td>\n",
              "      <td>122.0</td>\n",
              "      <td>6</td>\n",
              "      <td>29</td>\n",
              "    </tr>\n",
              "    <tr>\n",
              "      <th>90290</th>\n",
              "      <td>22</td>\n",
              "      <td>2018-02-17</td>\n",
              "      <td>2018-02-21</td>\n",
              "      <td>3</td>\n",
              "      <td>90</td>\n",
              "      <td>556930</td>\n",
              "      <td>1</td>\n",
              "      <td>305.0</td>\n",
              "      <td>4.0</td>\n",
              "      <td>2</td>\n",
              "      <td>29</td>\n",
              "    </tr>\n",
              "  </tbody>\n",
              "</table>\n",
              "</div>"
            ],
            "text/plain": [
              "      reorder_buyer so_order_date  ... month  STORE_code\n",
              "90285            22    2018-01-14  ...     1          40\n",
              "90286            22    2018-01-18  ...     1          25\n",
              "90288            22    2018-04-02  ...     4          40\n",
              "90289            22    2018-06-02  ...     6          29\n",
              "90290            22    2018-02-17  ...     2          29\n",
              "\n",
              "[5 rows x 11 columns]"
            ]
          },
          "metadata": {},
          "execution_count": 263
        }
      ]
    },
    {
      "cell_type": "code",
      "metadata": {
        "id": "H8j_XuBpU0OO"
      },
      "source": [
        "df_small_2 = df_small_2[df_small_2.reorder_buyer == 7] # filtro producto 7"
      ],
      "execution_count": null,
      "outputs": []
    },
    {
      "cell_type": "code",
      "metadata": {
        "colab": {
          "base_uri": "https://localhost:8080/",
          "height": 220
        },
        "id": "8q97TexRVPhZ",
        "outputId": "ce668a82-42a7-45b3-c912-9e1dc3f2cd3d"
      },
      "source": [
        "df_small_2.head()"
      ],
      "execution_count": null,
      "outputs": [
        {
          "output_type": "execute_result",
          "data": {
            "text/html": [
              "<div>\n",
              "<style scoped>\n",
              "    .dataframe tbody tr th:only-of-type {\n",
              "        vertical-align: middle;\n",
              "    }\n",
              "\n",
              "    .dataframe tbody tr th {\n",
              "        vertical-align: top;\n",
              "    }\n",
              "\n",
              "    .dataframe thead th {\n",
              "        text-align: right;\n",
              "    }\n",
              "</style>\n",
              "<table border=\"1\" class=\"dataframe\">\n",
              "  <thead>\n",
              "    <tr style=\"text-align: right;\">\n",
              "      <th></th>\n",
              "      <th>reorder_buyer</th>\n",
              "      <th>so_order_date</th>\n",
              "      <th>so_delivery_date</th>\n",
              "      <th>order_packages</th>\n",
              "      <th>so_order_status</th>\n",
              "      <th>so_invoice_no</th>\n",
              "      <th>sol_ordered_qty</th>\n",
              "      <th>sol_line_amount</th>\n",
              "      <th>dif_order_deliver</th>\n",
              "      <th>month</th>\n",
              "      <th>STORE_code</th>\n",
              "    </tr>\n",
              "  </thead>\n",
              "  <tbody>\n",
              "    <tr>\n",
              "      <th>121365</th>\n",
              "      <td>7</td>\n",
              "      <td>2018-03-29</td>\n",
              "      <td>2018-08-16</td>\n",
              "      <td>1</td>\n",
              "      <td>90</td>\n",
              "      <td>568017</td>\n",
              "      <td>1</td>\n",
              "      <td>50.0</td>\n",
              "      <td>140.0</td>\n",
              "      <td>3</td>\n",
              "      <td>1</td>\n",
              "    </tr>\n",
              "    <tr>\n",
              "      <th>121367</th>\n",
              "      <td>7</td>\n",
              "      <td>2018-04-04</td>\n",
              "      <td>2018-10-04</td>\n",
              "      <td>2</td>\n",
              "      <td>90</td>\n",
              "      <td>569377</td>\n",
              "      <td>1</td>\n",
              "      <td>50.0</td>\n",
              "      <td>183.0</td>\n",
              "      <td>4</td>\n",
              "      <td>28</td>\n",
              "    </tr>\n",
              "    <tr>\n",
              "      <th>121368</th>\n",
              "      <td>7</td>\n",
              "      <td>2018-04-14</td>\n",
              "      <td>2018-05-25</td>\n",
              "      <td>27</td>\n",
              "      <td>90</td>\n",
              "      <td>572121</td>\n",
              "      <td>1</td>\n",
              "      <td>300.0</td>\n",
              "      <td>41.0</td>\n",
              "      <td>4</td>\n",
              "      <td>1</td>\n",
              "    </tr>\n",
              "    <tr>\n",
              "      <th>121372</th>\n",
              "      <td>7</td>\n",
              "      <td>2018-04-28</td>\n",
              "      <td>2018-05-05</td>\n",
              "      <td>1</td>\n",
              "      <td>90</td>\n",
              "      <td>576093</td>\n",
              "      <td>1</td>\n",
              "      <td>50.0</td>\n",
              "      <td>7.0</td>\n",
              "      <td>4</td>\n",
              "      <td>40</td>\n",
              "    </tr>\n",
              "    <tr>\n",
              "      <th>121374</th>\n",
              "      <td>7</td>\n",
              "      <td>2018-02-05</td>\n",
              "      <td>2018-09-05</td>\n",
              "      <td>3</td>\n",
              "      <td>90</td>\n",
              "      <td>577451</td>\n",
              "      <td>1</td>\n",
              "      <td>50.0</td>\n",
              "      <td>212.0</td>\n",
              "      <td>2</td>\n",
              "      <td>43</td>\n",
              "    </tr>\n",
              "  </tbody>\n",
              "</table>\n",
              "</div>"
            ],
            "text/plain": [
              "       reorder_buyer so_order_date  ... month  STORE_code\n",
              "121365             7    2018-03-29  ...     3           1\n",
              "121367             7    2018-04-04  ...     4          28\n",
              "121368             7    2018-04-14  ...     4           1\n",
              "121372             7    2018-04-28  ...     4          40\n",
              "121374             7    2018-02-05  ...     2          43\n",
              "\n",
              "[5 rows x 11 columns]"
            ]
          },
          "metadata": {},
          "execution_count": 197
        }
      ]
    },
    {
      "cell_type": "code",
      "metadata": {
        "colab": {
          "base_uri": "https://localhost:8080/"
        },
        "id": "uOqx901xVUvd",
        "outputId": "6b08a322-1d1c-4280-b797-1c1f1f25249d"
      },
      "source": [
        "df_small_2.shape"
      ],
      "execution_count": null,
      "outputs": [
        {
          "output_type": "execute_result",
          "data": {
            "text/plain": [
              "(66690, 11)"
            ]
          },
          "metadata": {},
          "execution_count": 265
        }
      ]
    },
    {
      "cell_type": "code",
      "metadata": {
        "colab": {
          "base_uri": "https://localhost:8080/"
        },
        "id": "p5BKEvf8Sb-W",
        "outputId": "fbad9e5a-7f8b-4d0c-dd33-7d2837d3603b"
      },
      "source": [
        "df_small_2 = df_small_2.groupby(['so_order_date', 'STORE_code'])['sol_ordered_qty', 'sol_line_amount', 'dif_order_deliver'].sum()"
      ],
      "execution_count": null,
      "outputs": [
        {
          "output_type": "stream",
          "name": "stderr",
          "text": [
            "/usr/local/lib/python3.7/dist-packages/ipykernel_launcher.py:1: FutureWarning: Indexing with multiple keys (implicitly converted to a tuple of keys) will be deprecated, use a list instead.\n",
            "  \"\"\"Entry point for launching an IPython kernel.\n"
          ]
        }
      ]
    },
    {
      "cell_type": "code",
      "metadata": {
        "colab": {
          "base_uri": "https://localhost:8080/",
          "height": 230
        },
        "id": "VatgC3DaScBT",
        "outputId": "3d5c3cc4-85e2-4f6d-c7b8-d9c75ce7658d"
      },
      "source": [
        "df_small_2.head()"
      ],
      "execution_count": null,
      "outputs": [
        {
          "output_type": "execute_result",
          "data": {
            "text/html": [
              "<div>\n",
              "<style scoped>\n",
              "    .dataframe tbody tr th:only-of-type {\n",
              "        vertical-align: middle;\n",
              "    }\n",
              "\n",
              "    .dataframe tbody tr th {\n",
              "        vertical-align: top;\n",
              "    }\n",
              "\n",
              "    .dataframe thead th {\n",
              "        text-align: right;\n",
              "    }\n",
              "</style>\n",
              "<table border=\"1\" class=\"dataframe\">\n",
              "  <thead>\n",
              "    <tr style=\"text-align: right;\">\n",
              "      <th></th>\n",
              "      <th></th>\n",
              "      <th>sol_ordered_qty</th>\n",
              "      <th>sol_line_amount</th>\n",
              "      <th>dif_order_deliver</th>\n",
              "    </tr>\n",
              "    <tr>\n",
              "      <th>so_order_date</th>\n",
              "      <th>STORE_code</th>\n",
              "      <th></th>\n",
              "      <th></th>\n",
              "      <th></th>\n",
              "    </tr>\n",
              "  </thead>\n",
              "  <tbody>\n",
              "    <tr>\n",
              "      <th rowspan=\"2\" valign=\"top\">2018-01-01</th>\n",
              "      <th>4</th>\n",
              "      <td>1</td>\n",
              "      <td>80.0</td>\n",
              "      <td>123.0</td>\n",
              "    </tr>\n",
              "    <tr>\n",
              "      <th>35</th>\n",
              "      <td>1</td>\n",
              "      <td>76.0</td>\n",
              "      <td>26.0</td>\n",
              "    </tr>\n",
              "    <tr>\n",
              "      <th rowspan=\"3\" valign=\"top\">2018-01-02</th>\n",
              "      <th>1</th>\n",
              "      <td>9</td>\n",
              "      <td>610.0</td>\n",
              "      <td>2215.0</td>\n",
              "    </tr>\n",
              "    <tr>\n",
              "      <th>2</th>\n",
              "      <td>5</td>\n",
              "      <td>315.0</td>\n",
              "      <td>661.0</td>\n",
              "    </tr>\n",
              "    <tr>\n",
              "      <th>4</th>\n",
              "      <td>2</td>\n",
              "      <td>160.0</td>\n",
              "      <td>259.0</td>\n",
              "    </tr>\n",
              "  </tbody>\n",
              "</table>\n",
              "</div>"
            ],
            "text/plain": [
              "                          sol_ordered_qty  sol_line_amount  dif_order_deliver\n",
              "so_order_date STORE_code                                                     \n",
              "2018-01-01    4                         1             80.0              123.0\n",
              "              35                        1             76.0               26.0\n",
              "2018-01-02    1                         9            610.0             2215.0\n",
              "              2                         5            315.0              661.0\n",
              "              4                         2            160.0              259.0"
            ]
          },
          "metadata": {},
          "execution_count": 267
        }
      ]
    },
    {
      "cell_type": "code",
      "metadata": {
        "id": "AC6BcJd5W56D"
      },
      "source": [
        "df_small_2 = df_small_2.reset_index([ 'STORE_code'])"
      ],
      "execution_count": null,
      "outputs": []
    },
    {
      "cell_type": "code",
      "metadata": {
        "id": "7wsZy2IkScFU"
      },
      "source": [
        "df_small_2['month'] = df_small_2.index.month"
      ],
      "execution_count": null,
      "outputs": []
    },
    {
      "cell_type": "code",
      "metadata": {
        "colab": {
          "base_uri": "https://localhost:8080/",
          "height": 230
        },
        "id": "-_vGTpBsXHQ4",
        "outputId": "7e5b530d-14a5-4e88-c346-6ac1edf2d394"
      },
      "source": [
        "df_small_2.head()"
      ],
      "execution_count": null,
      "outputs": [
        {
          "output_type": "execute_result",
          "data": {
            "text/html": [
              "<div>\n",
              "<style scoped>\n",
              "    .dataframe tbody tr th:only-of-type {\n",
              "        vertical-align: middle;\n",
              "    }\n",
              "\n",
              "    .dataframe tbody tr th {\n",
              "        vertical-align: top;\n",
              "    }\n",
              "\n",
              "    .dataframe thead th {\n",
              "        text-align: right;\n",
              "    }\n",
              "</style>\n",
              "<table border=\"1\" class=\"dataframe\">\n",
              "  <thead>\n",
              "    <tr style=\"text-align: right;\">\n",
              "      <th></th>\n",
              "      <th>STORE_code</th>\n",
              "      <th>sol_ordered_qty</th>\n",
              "      <th>sol_line_amount</th>\n",
              "      <th>dif_order_deliver</th>\n",
              "      <th>month</th>\n",
              "    </tr>\n",
              "    <tr>\n",
              "      <th>so_order_date</th>\n",
              "      <th></th>\n",
              "      <th></th>\n",
              "      <th></th>\n",
              "      <th></th>\n",
              "      <th></th>\n",
              "    </tr>\n",
              "  </thead>\n",
              "  <tbody>\n",
              "    <tr>\n",
              "      <th>2018-01-01</th>\n",
              "      <td>4</td>\n",
              "      <td>1</td>\n",
              "      <td>80.0</td>\n",
              "      <td>123.0</td>\n",
              "      <td>1</td>\n",
              "    </tr>\n",
              "    <tr>\n",
              "      <th>2018-01-01</th>\n",
              "      <td>35</td>\n",
              "      <td>1</td>\n",
              "      <td>76.0</td>\n",
              "      <td>26.0</td>\n",
              "      <td>1</td>\n",
              "    </tr>\n",
              "    <tr>\n",
              "      <th>2018-01-02</th>\n",
              "      <td>1</td>\n",
              "      <td>9</td>\n",
              "      <td>610.0</td>\n",
              "      <td>2215.0</td>\n",
              "      <td>1</td>\n",
              "    </tr>\n",
              "    <tr>\n",
              "      <th>2018-01-02</th>\n",
              "      <td>2</td>\n",
              "      <td>5</td>\n",
              "      <td>315.0</td>\n",
              "      <td>661.0</td>\n",
              "      <td>1</td>\n",
              "    </tr>\n",
              "    <tr>\n",
              "      <th>2018-01-02</th>\n",
              "      <td>4</td>\n",
              "      <td>2</td>\n",
              "      <td>160.0</td>\n",
              "      <td>259.0</td>\n",
              "      <td>1</td>\n",
              "    </tr>\n",
              "  </tbody>\n",
              "</table>\n",
              "</div>"
            ],
            "text/plain": [
              "               STORE_code  sol_ordered_qty  ...  dif_order_deliver  month\n",
              "so_order_date                               ...                          \n",
              "2018-01-01              4                1  ...              123.0      1\n",
              "2018-01-01             35                1  ...               26.0      1\n",
              "2018-01-02              1                9  ...             2215.0      1\n",
              "2018-01-02              2                5  ...              661.0      1\n",
              "2018-01-02              4                2  ...              259.0      1\n",
              "\n",
              "[5 rows x 5 columns]"
            ]
          },
          "metadata": {},
          "execution_count": 270
        }
      ]
    },
    {
      "cell_type": "code",
      "metadata": {
        "id": "aRsuGG6OQq2L"
      },
      "source": [
        "df_small_2_0 = df_small_2.reset_index(drop=True)"
      ],
      "execution_count": null,
      "outputs": []
    },
    {
      "cell_type": "code",
      "metadata": {
        "colab": {
          "base_uri": "https://localhost:8080/",
          "height": 200
        },
        "id": "AH3JwsoSXguQ",
        "outputId": "32a20e4c-d7c3-47d2-bb3b-9bcb5dbf7e62"
      },
      "source": [
        "df_small_2_0.head()"
      ],
      "execution_count": null,
      "outputs": [
        {
          "output_type": "execute_result",
          "data": {
            "text/html": [
              "<div>\n",
              "<style scoped>\n",
              "    .dataframe tbody tr th:only-of-type {\n",
              "        vertical-align: middle;\n",
              "    }\n",
              "\n",
              "    .dataframe tbody tr th {\n",
              "        vertical-align: top;\n",
              "    }\n",
              "\n",
              "    .dataframe thead th {\n",
              "        text-align: right;\n",
              "    }\n",
              "</style>\n",
              "<table border=\"1\" class=\"dataframe\">\n",
              "  <thead>\n",
              "    <tr style=\"text-align: right;\">\n",
              "      <th></th>\n",
              "      <th>STORE_code</th>\n",
              "      <th>sol_ordered_qty</th>\n",
              "      <th>sol_line_amount</th>\n",
              "      <th>dif_order_deliver</th>\n",
              "      <th>month</th>\n",
              "    </tr>\n",
              "  </thead>\n",
              "  <tbody>\n",
              "    <tr>\n",
              "      <th>0</th>\n",
              "      <td>4</td>\n",
              "      <td>1</td>\n",
              "      <td>80.0</td>\n",
              "      <td>123.0</td>\n",
              "      <td>1</td>\n",
              "    </tr>\n",
              "    <tr>\n",
              "      <th>1</th>\n",
              "      <td>35</td>\n",
              "      <td>1</td>\n",
              "      <td>76.0</td>\n",
              "      <td>26.0</td>\n",
              "      <td>1</td>\n",
              "    </tr>\n",
              "    <tr>\n",
              "      <th>2</th>\n",
              "      <td>1</td>\n",
              "      <td>9</td>\n",
              "      <td>610.0</td>\n",
              "      <td>2215.0</td>\n",
              "      <td>1</td>\n",
              "    </tr>\n",
              "    <tr>\n",
              "      <th>3</th>\n",
              "      <td>2</td>\n",
              "      <td>5</td>\n",
              "      <td>315.0</td>\n",
              "      <td>661.0</td>\n",
              "      <td>1</td>\n",
              "    </tr>\n",
              "    <tr>\n",
              "      <th>4</th>\n",
              "      <td>4</td>\n",
              "      <td>2</td>\n",
              "      <td>160.0</td>\n",
              "      <td>259.0</td>\n",
              "      <td>1</td>\n",
              "    </tr>\n",
              "  </tbody>\n",
              "</table>\n",
              "</div>"
            ],
            "text/plain": [
              "   STORE_code  sol_ordered_qty  sol_line_amount  dif_order_deliver  month\n",
              "0           4                1             80.0              123.0      1\n",
              "1          35                1             76.0               26.0      1\n",
              "2           1                9            610.0             2215.0      1\n",
              "3           2                5            315.0              661.0      1\n",
              "4           4                2            160.0              259.0      1"
            ]
          },
          "metadata": {},
          "execution_count": 272
        }
      ]
    },
    {
      "cell_type": "markdown",
      "metadata": {
        "id": "HC_M-MGRc9su"
      },
      "source": [
        "Muy importante dividir demora por cantidad de productos entregados"
      ]
    },
    {
      "cell_type": "code",
      "metadata": {
        "id": "2M98_Q1IdCCv"
      },
      "source": [
        "#df_small_2_0['mean_dif'] = round(df_small_2_0['dif_order_deliver'] / df_small_2_0['sol_ordered_qty'])"
      ],
      "execution_count": null,
      "outputs": []
    },
    {
      "cell_type": "code",
      "metadata": {
        "id": "s0M7NM2gYYio"
      },
      "source": [
        "from sklearn.linear_model import LinearRegression\n",
        "from sklearn.metrics import mean_squared_error, mean_absolute_error, r2_score\n",
        "from sklearn.preprocessing import StandardScaler"
      ],
      "execution_count": null,
      "outputs": []
    },
    {
      "cell_type": "code",
      "metadata": {
        "id": "ynI7b9LDYlxo"
      },
      "source": [
        "data = df_small_2_0"
      ],
      "execution_count": null,
      "outputs": []
    },
    {
      "cell_type": "code",
      "metadata": {
        "id": "8AUnlmaxaOED"
      },
      "source": [
        "# from sklearn.preprocessing import OneHotEncoder\n",
        "#oe_style = OneHotEncoder()\n",
        "#oe_results = oe_style.fit_transform(data[[\"month\"]])\n",
        "#pd.DataFrame(oe_results.toarray(), columns=oe_style.categories_).head()\n",
        "# data = data.join(pd.DataFrame(oe_results.toarray(), columns=oe_style.categories_))\n",
        "#data = pd.get_dummies(data, columns=[\"month\"]).head()\n"
      ],
      "execution_count": null,
      "outputs": []
    },
    {
      "cell_type": "code",
      "metadata": {
        "colab": {
          "base_uri": "https://localhost:8080/",
          "height": 307
        },
        "id": "tEJ3_6IqYh8F",
        "outputId": "ae6f55e1-40aa-436f-cb45-8fb367d8fa98"
      },
      "source": [
        "x = data.drop('dif_order_deliver', axis=1)\n",
        "y = data['dif_order_deliver']\n",
        "n,d = x.shape\n",
        "print(\"El dataset tiene %d registros, de %d dimensiones\" %(n, d))\n",
        "\n",
        "# visualizar distribución de los features\n",
        "data.hist();"
      ],
      "execution_count": null,
      "outputs": [
        {
          "output_type": "stream",
          "name": "stdout",
          "text": [
            "El dataset tiene 18892 registros, de 4 dimensiones\n"
          ]
        },
        {
          "output_type": "display_data",
          "data": {
            "image/png": "[encoded data removed]",
            "text/plain": [
              "<Figure size 432x288 with 6 Axes>"
            ]
          },
          "metadata": {
            "needs_background": "light"
          }
        }
      ]
    },
    {
      "cell_type": "code",
      "metadata": {
        "colab": {
          "base_uri": "https://localhost:8080/",
          "height": 200
        },
        "id": "7l95nVurYk-G",
        "outputId": "681b4e5d-8bed-4ce2-c0e4-74d369193016"
      },
      "source": [
        "x.head()"
      ],
      "execution_count": null,
      "outputs": [
        {
          "output_type": "execute_result",
          "data": {
            "text/html": [
              "<div>\n",
              "<style scoped>\n",
              "    .dataframe tbody tr th:only-of-type {\n",
              "        vertical-align: middle;\n",
              "    }\n",
              "\n",
              "    .dataframe tbody tr th {\n",
              "        vertical-align: top;\n",
              "    }\n",
              "\n",
              "    .dataframe thead th {\n",
              "        text-align: right;\n",
              "    }\n",
              "</style>\n",
              "<table border=\"1\" class=\"dataframe\">\n",
              "  <thead>\n",
              "    <tr style=\"text-align: right;\">\n",
              "      <th></th>\n",
              "      <th>STORE_code</th>\n",
              "      <th>sol_ordered_qty</th>\n",
              "      <th>sol_line_amount</th>\n",
              "      <th>month</th>\n",
              "    </tr>\n",
              "  </thead>\n",
              "  <tbody>\n",
              "    <tr>\n",
              "      <th>0</th>\n",
              "      <td>4</td>\n",
              "      <td>1</td>\n",
              "      <td>80.0</td>\n",
              "      <td>1</td>\n",
              "    </tr>\n",
              "    <tr>\n",
              "      <th>1</th>\n",
              "      <td>35</td>\n",
              "      <td>1</td>\n",
              "      <td>76.0</td>\n",
              "      <td>1</td>\n",
              "    </tr>\n",
              "    <tr>\n",
              "      <th>2</th>\n",
              "      <td>1</td>\n",
              "      <td>9</td>\n",
              "      <td>610.0</td>\n",
              "      <td>1</td>\n",
              "    </tr>\n",
              "    <tr>\n",
              "      <th>3</th>\n",
              "      <td>2</td>\n",
              "      <td>5</td>\n",
              "      <td>315.0</td>\n",
              "      <td>1</td>\n",
              "    </tr>\n",
              "    <tr>\n",
              "      <th>4</th>\n",
              "      <td>4</td>\n",
              "      <td>2</td>\n",
              "      <td>160.0</td>\n",
              "      <td>1</td>\n",
              "    </tr>\n",
              "  </tbody>\n",
              "</table>\n",
              "</div>"
            ],
            "text/plain": [
              "   STORE_code  sol_ordered_qty  sol_line_amount  month\n",
              "0           4                1             80.0      1\n",
              "1          35                1             76.0      1\n",
              "2           1                9            610.0      1\n",
              "3           2                5            315.0      1\n",
              "4           4                2            160.0      1"
            ]
          },
          "metadata": {},
          "execution_count": 276
        }
      ]
    },
    {
      "cell_type": "code",
      "metadata": {
        "id": "rfZhRwTMY-v8"
      },
      "source": [
        "#%% Normalizar los datos\n",
        "NORMALIZAR = 1\n",
        "if (NORMALIZAR):\n",
        "    scaler = StandardScaler()  \n",
        "    scaler.fit(x)  \n",
        "    x = scaler.transform(x)    \n"
      ],
      "execution_count": null,
      "outputs": []
    },
    {
      "cell_type": "code",
      "metadata": {
        "colab": {
          "base_uri": "https://localhost:8080/"
        },
        "id": "ybFKhbpdZHXy",
        "outputId": "7b13a978-7ac1-43fc-9dd3-1eb7763b1ed3"
      },
      "source": [
        "x"
      ],
      "execution_count": null,
      "outputs": [
        {
          "output_type": "execute_result",
          "data": {
            "text/plain": [
              "array([[-1.43218663, -0.73843752, -0.77968279, -1.54768127],\n",
              "       [ 0.57679759, -0.73843752, -0.79570825, -1.54768127],\n",
              "       [-1.62660446,  1.61504497,  1.34369091, -1.54768127],\n",
              "       ...,\n",
              "       [ 1.54888673, -0.44425221, -0.45917355,  1.72118215],\n",
              "       [ 1.61369267,  0.43830372,  0.42222685,  1.72118215],\n",
              "       [ 1.67849861,  1.90923028,  1.86451842,  1.72118215]])"
            ]
          },
          "metadata": {},
          "execution_count": 278
        }
      ]
    },
    {
      "cell_type": "code",
      "metadata": {
        "colab": {
          "base_uri": "https://localhost:8080/"
        },
        "id": "bXqVjN85Y-zq",
        "outputId": "4d934336-4c76-47ce-c1d7-1179fb860226"
      },
      "source": [
        "#%% Entrenar modelo de Regresión Lineal\n",
        "# crea el objeto modelo\n",
        "modelo= LinearRegression()\n",
        "\n",
        "#%% entrena\n",
        "modelo.fit(x, y)\n",
        "# predice\n",
        "y_predict= modelo.predict(x)\n",
        "#coeficientes (parámetros del modelo)\n",
        "w= modelo.coef_\n",
        "b= modelo.intercept_\n",
        "\n",
        "# scores\n",
        "mse_error= mean_squared_error(y_predict, y)\n",
        "print(\"Error cuad. medio: %.2f\" % mse_error)\n",
        "mae_error= mean_absolute_error(y_predict, y)\n",
        "print(\"Error abs. medio: %.2f\" % mae_error)\n",
        "r2_score= r2_score(y, y_predict)\n",
        "print(\"r2_score: %.2f\" % r2_score)"
      ],
      "execution_count": null,
      "outputs": [
        {
          "output_type": "stream",
          "name": "stdout",
          "text": [
            "Error cuad. medio: 82369.33\n",
            "Error abs. medio: 177.98\n",
            "r2_score: 0.38\n"
          ]
        }
      ]
    },
    {
      "cell_type": "code",
      "metadata": {
        "colab": {
          "base_uri": "https://localhost:8080/",
          "height": 337
        },
        "id": "RosAoPI-Y-3g",
        "outputId": "d828ffd0-0cd7-4e10-ea9f-33f4895d2909"
      },
      "source": [
        "#%% plot coeficientes\n",
        "plt.figure()\n",
        "plt.bar(range(d+1), np.concatenate((w,[b])))\n",
        "labels= data.columns.values; labels[-1]= 'Bias'\n",
        "plt.xticks(range(w.shape[0]+1), labels, rotation=35)\n",
        "plt.grid()\n"
      ],
      "execution_count": null,
      "outputs": [
        {
          "output_type": "display_data",
          "data": {
            "image/png": "[encoded data removed]",
            "text/plain": [
              "<Figure size 432x288 with 1 Axes>"
            ]
          },
          "metadata": {
            "needs_background": "light"
          }
        }
      ]
    },
    {
      "cell_type": "code",
      "metadata": {
        "colab": {
          "base_uri": "https://localhost:8080/",
          "height": 308
        },
        "id": "mSz7sueQZeu8",
        "outputId": "91341a64-f0fb-4884-8f1c-1aba0b39b858"
      },
      "source": [
        "#%% Plot valores esperados vs valores predichos\n",
        "plt.figure()\n",
        "plt.scatter(y, y_predict,alpha=0.7, edgecolor='k'), plt.grid()\n",
        "plt.xlabel(\"valores reales\"), plt.ylabel(\"Valores predichos\")"
      ],
      "execution_count": null,
      "outputs": [
        {
          "output_type": "execute_result",
          "data": {
            "text/plain": [
              "(Text(0.5, 0, 'valores reales'), Text(0, 0.5, 'Valores predichos'))"
            ]
          },
          "metadata": {},
          "execution_count": 281
        },
        {
          "output_type": "display_data",
          "data": {
            "image/png": "[encoded data removed]",
            "text/plain": [
              "<Figure size 432x288 with 1 Axes>"
            ]
          },
          "metadata": {
            "needs_background": "light"
          }
        }
      ]
    },
    {
      "cell_type": "markdown",
      "metadata": {
        "id": "oqn2jQ5MuUC8"
      },
      "source": [
        "Consideraciones Finales\n",
        "- Máxima prioridad: definiciones y certeza en el significado de los features.\n",
        "- Para armar el data set necesitamos una buena cantidad de observaciones no nulas de las siguientes columnas: 'reorder_buyer' (en realidad: producto = 'stk_description', ej 38 = sofa_dalas), 'sol_ordered_qty', 'sol_line_amount'(monto en dolares de la venta por unidad), 'STORE', 'so_delivery_date',..\n",
        "- Podemos integrar nuevos features, ej: ventas minoristas por mes, promedio de ventas, \n",
        "- Podrìamos jugar con one-hot para los categòricos.\n",
        "- La variable target: demora, tiene que ser exacta y limpia. La demora tiene que calcularse por venta. La demora en un día tiene que calcularse demora * 1/n. Si pudiermos tener muchas observaciones y más fueatures podríamos intenter hacer una RL binaria\n",
        "\n",
        "CASO_DE_USO: *Si tengo demoras como afecta las ventas? Si hay demora cuanto baja la venta? Precios y variacón precios. Disponibilidad de stock y precios.*"
      ]
    }
  ]
}